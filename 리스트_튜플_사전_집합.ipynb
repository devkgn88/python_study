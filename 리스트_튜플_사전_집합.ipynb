{
 "cells": [
  {
   "cell_type": "code",
   "execution_count": 1,
   "id": "352583b4-9c2b-48ec-b3df-50d5461fa7f6",
   "metadata": {},
   "outputs": [
    {
     "name": "stdout",
     "output_type": "stream",
     "text": [
      "140708963428792\n"
     ]
    }
   ],
   "source": [
    "print(id(1))"
   ]
  },
  {
   "cell_type": "code",
   "execution_count": 3,
   "id": "bfad71b5-b544-41e9-85d6-43000f390873",
   "metadata": {},
   "outputs": [
    {
     "name": "stdout",
     "output_type": "stream",
     "text": [
      "1\n"
     ]
    }
   ],
   "source": [
    "a = 5\n",
    "a //= 3\n",
    "print(a)"
   ]
  },
  {
   "cell_type": "code",
   "execution_count": 13,
   "id": "205e1788-7109-4d01-9b6d-dd1e4765af4d",
   "metadata": {},
   "outputs": [
    {
     "name": "stdout",
     "output_type": "stream",
     "text": [
      "안\n"
     ]
    }
   ],
   "source": [
    "a = \"안녕하세요\"\n",
    "print(a[-5])"
   ]
  },
  {
   "cell_type": "code",
   "execution_count": 15,
   "id": "c9da0025-706d-4e68-8821-e6eee9987dff",
   "metadata": {},
   "outputs": [
    {
     "name": "stdout",
     "output_type": "stream",
     "text": [
      "<class 'int'>\n"
     ]
    }
   ],
   "source": [
    "a = 1\n",
    "print(type(a))"
   ]
  },
  {
   "cell_type": "code",
   "execution_count": 17,
   "id": "da72d0ac-d17e-4208-aaca-9ae073880c3d",
   "metadata": {},
   "outputs": [],
   "source": [
    "a = 1.0"
   ]
  },
  {
   "cell_type": "code",
   "execution_count": 19,
   "id": "e91e9efb-a625-4592-b8d5-4930e3114395",
   "metadata": {},
   "outputs": [
    {
     "name": "stdout",
     "output_type": "stream",
     "text": [
      "<class 'float'>\n"
     ]
    }
   ],
   "source": [
    "print(type(a))"
   ]
  },
  {
   "cell_type": "code",
   "execution_count": 21,
   "id": "4bc33600-06e4-4657-b8ea-02e5045f4604",
   "metadata": {},
   "outputs": [
    {
     "name": "stdout",
     "output_type": "stream",
     "text": [
      "<class 'int'>\n"
     ]
    }
   ],
   "source": [
    "a = 0\n",
    "print(type(a))"
   ]
  },
  {
   "cell_type": "code",
   "execution_count": 23,
   "id": "a479f6b0-f6fb-42c8-927f-8bd96fb3cc41",
   "metadata": {},
   "outputs": [
    {
     "name": "stdout",
     "output_type": "stream",
     "text": [
      "<class 'str'>\n"
     ]
    }
   ],
   "source": [
    "b = '1'\n",
    "print(type(b))"
   ]
  },
  {
   "cell_type": "code",
   "execution_count": 25,
   "id": "16852143-e806-40e9-86fb-c0f4c5592b59",
   "metadata": {},
   "outputs": [
    {
     "ename": "SyntaxError",
     "evalue": "unterminated string literal (detected at line 1) (1225766868.py, line 1)",
     "output_type": "error",
     "traceback": [
      "\u001b[1;36m  Cell \u001b[1;32mIn[25], line 1\u001b[1;36m\u001b[0m\n\u001b[1;33m    b = '1\"\u001b[0m\n\u001b[1;37m        ^\u001b[0m\n\u001b[1;31mSyntaxError\u001b[0m\u001b[1;31m:\u001b[0m unterminated string literal (detected at line 1)\n"
     ]
    }
   ],
   "source": [
    "b = '1\"\n",
    "print(type(b))"
   ]
  },
  {
   "cell_type": "code",
   "execution_count": 27,
   "id": "37a840a7-e420-4778-84e8-60a74492ad10",
   "metadata": {},
   "outputs": [
    {
     "ename": "TypeError",
     "evalue": "unsupported operand type(s) for +: 'int' and 'str'",
     "output_type": "error",
     "traceback": [
      "\u001b[1;31m---------------------------------------------------------------------------\u001b[0m",
      "\u001b[1;31mTypeError\u001b[0m                                 Traceback (most recent call last)",
      "Cell \u001b[1;32mIn[27], line 3\u001b[0m\n\u001b[0;32m      1\u001b[0m a \u001b[38;5;241m=\u001b[39m \u001b[38;5;241m1\u001b[39m\n\u001b[0;32m      2\u001b[0m b \u001b[38;5;241m=\u001b[39m \u001b[38;5;124m\"\u001b[39m\u001b[38;5;124m2\u001b[39m\u001b[38;5;124m\"\u001b[39m\n\u001b[1;32m----> 3\u001b[0m \u001b[38;5;28mprint\u001b[39m(a\u001b[38;5;241m+\u001b[39mb)\n",
      "\u001b[1;31mTypeError\u001b[0m: unsupported operand type(s) for +: 'int' and 'str'"
     ]
    }
   ],
   "source": [
    "a = 1\n",
    "b = \"2\"\n",
    "print(a+b)"
   ]
  },
  {
   "cell_type": "code",
   "execution_count": 29,
   "id": "ff07792b-1767-4d6a-9958-d2ef2bdabc97",
   "metadata": {},
   "outputs": [
    {
     "name": "stdout",
     "output_type": "stream",
     "text": [
      "안녕하세요\n",
      "학습자님\n",
      "이번 회차도 수고하셨습니다.\n"
     ]
    }
   ],
   "source": [
    "print('''안녕하세요\n",
    "학습자님\n",
    "이번 회차도 수고하셨습니다.''')"
   ]
  },
  {
   "cell_type": "code",
   "execution_count": 31,
   "id": "206008a1-129f-4844-a4d5-d6b67ca3daaf",
   "metadata": {},
   "outputs": [
    {
     "name": "stdout",
     "output_type": "stream",
     "text": [
      "104104104104104\n"
     ]
    }
   ],
   "source": [
    "a = '104'\n",
    "print(3*a + a + a)"
   ]
  },
  {
   "cell_type": "code",
   "execution_count": 33,
   "id": "fd1418ba-c797-41ec-9098-82892c3c921a",
   "metadata": {},
   "outputs": [
    {
     "name": "stdout",
     "output_type": "stream",
     "text": [
      "[6, [1, 2, 3, 4, 5]]\n"
     ]
    }
   ],
   "source": [
    "a = [6]\n",
    "l = [1,2,3,4,5]\n",
    "a.append(l)\n",
    "print(a)"
   ]
  },
  {
   "cell_type": "code",
   "execution_count": 35,
   "id": "3d1e3ada-9fc4-4620-8db5-a82bd978580f",
   "metadata": {},
   "outputs": [
    {
     "ename": "TypeError",
     "evalue": "insert expected 2 arguments, got 1",
     "output_type": "error",
     "traceback": [
      "\u001b[1;31m---------------------------------------------------------------------------\u001b[0m",
      "\u001b[1;31mTypeError\u001b[0m                                 Traceback (most recent call last)",
      "Cell \u001b[1;32mIn[35], line 1\u001b[0m\n\u001b[1;32m----> 1\u001b[0m l\u001b[38;5;241m.\u001b[39minsert(\u001b[38;5;241m6\u001b[39m)\n",
      "\u001b[1;31mTypeError\u001b[0m: insert expected 2 arguments, got 1"
     ]
    }
   ],
   "source": [
    "l.insert(6);"
   ]
  },
  {
   "cell_type": "code",
   "execution_count": 37,
   "id": "d0ac6ab1-0dac-495b-b8cf-360b0c3f1783",
   "metadata": {},
   "outputs": [],
   "source": [
    "l.insert(0,6)"
   ]
  },
  {
   "cell_type": "code",
   "execution_count": 39,
   "id": "e3c7aab9-37e6-4dbb-b804-7a6e6b489ea2",
   "metadata": {},
   "outputs": [
    {
     "name": "stdout",
     "output_type": "stream",
     "text": [
      "[6, 1, 2, 3, 4, 5]\n"
     ]
    }
   ],
   "source": [
    "print(l)"
   ]
  },
  {
   "cell_type": "code",
   "execution_count": 41,
   "id": "c6e33c1b-c3fb-4a08-af8a-429b082cae35",
   "metadata": {},
   "outputs": [
    {
     "name": "stdout",
     "output_type": "stream",
     "text": [
      "[6, 1, 2, 3, 4]\n"
     ]
    }
   ],
   "source": [
    "l.pop()\n",
    "print(l)"
   ]
  },
  {
   "cell_type": "code",
   "execution_count": 43,
   "id": "52f68d5e-3d4c-4ffb-bb33-ba588e44da04",
   "metadata": {},
   "outputs": [
    {
     "name": "stdout",
     "output_type": "stream",
     "text": [
      "[6, [6, 1, 2, 3, 4]]\n"
     ]
    }
   ],
   "source": [
    "print(a)"
   ]
  },
  {
   "cell_type": "code",
   "execution_count": 45,
   "id": "d6fdd8e3-387e-48aa-bdb7-7d0f5ecf1156",
   "metadata": {},
   "outputs": [
    {
     "ename": "ValueError",
     "evalue": "list.remove(x): x not in list",
     "output_type": "error",
     "traceback": [
      "\u001b[1;31m---------------------------------------------------------------------------\u001b[0m",
      "\u001b[1;31mValueError\u001b[0m                                Traceback (most recent call last)",
      "Cell \u001b[1;32mIn[45], line 1\u001b[0m\n\u001b[1;32m----> 1\u001b[0m a\u001b[38;5;241m.\u001b[39mremove(\u001b[38;5;241m1\u001b[39m)\n",
      "\u001b[1;31mValueError\u001b[0m: list.remove(x): x not in list"
     ]
    }
   ],
   "source": [
    "a.remove(1)"
   ]
  },
  {
   "cell_type": "code",
   "execution_count": 47,
   "id": "f22ff51a-9111-4e35-9a69-3599e4c94a29",
   "metadata": {},
   "outputs": [],
   "source": [
    " a.remove([6,1,2,3,4])"
   ]
  },
  {
   "cell_type": "code",
   "execution_count": 49,
   "id": "60ecc3a0-a70f-49e9-a3f4-4946850b3c60",
   "metadata": {},
   "outputs": [
    {
     "name": "stdout",
     "output_type": "stream",
     "text": [
      "[6]\n"
     ]
    }
   ],
   "source": [
    "print(a)"
   ]
  },
  {
   "cell_type": "code",
   "execution_count": 51,
   "id": "11ffe6d8-f714-4c8e-ab3d-b65c3c784279",
   "metadata": {},
   "outputs": [],
   "source": [
    "l = []\n",
    "l2 = list()"
   ]
  },
  {
   "cell_type": "code",
   "execution_count": 53,
   "id": "ec178788-92bc-4337-9618-c6c01ad3819f",
   "metadata": {},
   "outputs": [
    {
     "name": "stdout",
     "output_type": "stream",
     "text": [
      "<class 'list'>\n",
      "<class 'list'>\n"
     ]
    }
   ],
   "source": [
    "print(type(l))\n",
    "print(type(l2))"
   ]
  },
  {
   "cell_type": "code",
   "execution_count": 55,
   "id": "ad4df6b6-1ed3-4ae9-8bbe-c67c45fdfebd",
   "metadata": {},
   "outputs": [
    {
     "name": "stdout",
     "output_type": "stream",
     "text": [
      "[1, 2, 3, 4, '문자', [1, 2, 3], (1, 2, 3)]\n"
     ]
    }
   ],
   "source": [
    "l = [1,2,3,4,\"문자\",[1,2,3],(1,2,3)]\n",
    "print(l)"
   ]
  },
  {
   "cell_type": "code",
   "execution_count": 57,
   "id": "bfd341fc-8e1b-485e-a130-65fa691d5364",
   "metadata": {},
   "outputs": [
    {
     "name": "stdout",
     "output_type": "stream",
     "text": [
      "[1, 2, 3, 4, '문자', [1, 2, 3], (1, 2, 3)]\n"
     ]
    }
   ],
   "source": [
    "print(l)"
   ]
  },
  {
   "cell_type": "code",
   "execution_count": 59,
   "id": "4258ffcb-3105-44f1-a1c9-578ede6c67fe",
   "metadata": {},
   "outputs": [
    {
     "name": "stdout",
     "output_type": "stream",
     "text": [
      "1\n"
     ]
    }
   ],
   "source": [
    "print(l[0])"
   ]
  },
  {
   "cell_type": "code",
   "execution_count": 70,
   "id": "6e206606-1245-492b-a64d-b1f51a27c261",
   "metadata": {},
   "outputs": [
    {
     "name": "stdout",
     "output_type": "stream",
     "text": [
      "2\n"
     ]
    }
   ],
   "source": [
    "print(l[1])"
   ]
  },
  {
   "cell_type": "code",
   "execution_count": 72,
   "id": "81df5a26-d1be-4f6d-aa08-3f48c6f40e42",
   "metadata": {},
   "outputs": [
    {
     "name": "stdout",
     "output_type": "stream",
     "text": [
      "<class 'int'>\n"
     ]
    }
   ],
   "source": [
    "print(type(l[1]))"
   ]
  },
  {
   "cell_type": "code",
   "execution_count": 74,
   "id": "fcf77583-bdfb-4a84-b277-2cc6242ca690",
   "metadata": {},
   "outputs": [
    {
     "name": "stdout",
     "output_type": "stream",
     "text": [
      "[1, 2, 3, 4]\n"
     ]
    }
   ],
   "source": [
    "print(l[0:4])"
   ]
  },
  {
   "cell_type": "code",
   "execution_count": 76,
   "id": "05c24073-cc20-4615-b5d5-b22f4d54b47e",
   "metadata": {},
   "outputs": [
    {
     "name": "stdout",
     "output_type": "stream",
     "text": [
      "[1, 2]\n"
     ]
    }
   ],
   "source": [
    "print(l[0:2])"
   ]
  },
  {
   "cell_type": "code",
   "execution_count": 78,
   "id": "90f49cd9-bd45-4f65-b0d1-3c50726989f8",
   "metadata": {},
   "outputs": [],
   "source": [
    "l.append(4)"
   ]
  },
  {
   "cell_type": "code",
   "execution_count": 80,
   "id": "12b5f44e-0c94-4423-9715-88efabc3fb8a",
   "metadata": {},
   "outputs": [
    {
     "name": "stdout",
     "output_type": "stream",
     "text": [
      "[1, 2, 3, 4, '문자', [1, 2, 3], (1, 2, 3), 4]\n"
     ]
    }
   ],
   "source": [
    "print(l)"
   ]
  },
  {
   "cell_type": "code",
   "execution_count": 84,
   "id": "0754de76-fc16-4b8a-b4cc-7a0a9a0bc5ee",
   "metadata": {},
   "outputs": [
    {
     "name": "stdout",
     "output_type": "stream",
     "text": [
      "<class 'tuple'>\n",
      "<class 'tuple'>\n"
     ]
    }
   ],
   "source": [
    "t = ()\n",
    "t2 = tuple()\n",
    "print(type(t))\n",
    "print(type(t2))"
   ]
  },
  {
   "cell_type": "code",
   "execution_count": 97,
   "id": "02665775-39d6-47af-8edc-4f0c17b53656",
   "metadata": {},
   "outputs": [
    {
     "name": "stdout",
     "output_type": "stream",
     "text": [
      "5\n"
     ]
    }
   ],
   "source": [
    "t = (1,2,3,4)\n",
    "print(5)"
   ]
  },
  {
   "cell_type": "code",
   "execution_count": 99,
   "id": "aac6c88b-e66e-4da3-80cb-1fb1246b629d",
   "metadata": {},
   "outputs": [
    {
     "name": "stdout",
     "output_type": "stream",
     "text": [
      "(1, '문자', [1, 2], (1, 2))\n"
     ]
    }
   ],
   "source": [
    "t = (1,\"문자\",[1,2],(1,2))\n",
    "print(t)"
   ]
  },
  {
   "cell_type": "code",
   "execution_count": 101,
   "id": "37b60582-7793-465f-9016-e3f7b7c254eb",
   "metadata": {},
   "outputs": [
    {
     "name": "stdout",
     "output_type": "stream",
     "text": [
      "1\n"
     ]
    }
   ],
   "source": [
    "print(t[0])"
   ]
  },
  {
   "cell_type": "code",
   "execution_count": 103,
   "id": "a4e3ae38-f71e-47ef-99df-d8ab9858bf9d",
   "metadata": {},
   "outputs": [
    {
     "name": "stdout",
     "output_type": "stream",
     "text": [
      "(1, '문자')\n"
     ]
    }
   ],
   "source": [
    "print(t[0:2])"
   ]
  },
  {
   "cell_type": "code",
   "execution_count": 105,
   "id": "8af69858-ce90-4a3a-9122-8cc8a245b34d",
   "metadata": {},
   "outputs": [
    {
     "name": "stdout",
     "output_type": "stream",
     "text": [
      "[2, 2, 3]\n"
     ]
    }
   ],
   "source": [
    "l = [1,2,3]\n",
    "l[0] = 2\n",
    "print(l)"
   ]
  },
  {
   "cell_type": "code",
   "execution_count": 107,
   "id": "a501d942-5509-451f-84f0-85ce3879645c",
   "metadata": {},
   "outputs": [
    {
     "ename": "TypeError",
     "evalue": "'tuple' object does not support item assignment",
     "output_type": "error",
     "traceback": [
      "\u001b[1;31m---------------------------------------------------------------------------\u001b[0m",
      "\u001b[1;31mTypeError\u001b[0m                                 Traceback (most recent call last)",
      "Cell \u001b[1;32mIn[107], line 2\u001b[0m\n\u001b[0;32m      1\u001b[0m t \u001b[38;5;241m=\u001b[39m (\u001b[38;5;241m1\u001b[39m,\u001b[38;5;241m2\u001b[39m,\u001b[38;5;241m3\u001b[39m)\n\u001b[1;32m----> 2\u001b[0m t[\u001b[38;5;241m0\u001b[39m] \u001b[38;5;241m=\u001b[39m \u001b[38;5;241m2\u001b[39m\n\u001b[0;32m      3\u001b[0m \u001b[38;5;28mprint\u001b[39m(t)\n",
      "\u001b[1;31mTypeError\u001b[0m: 'tuple' object does not support item assignment"
     ]
    }
   ],
   "source": [
    "t = (1,2,3)\n",
    "t[0] = 2\n",
    "print(t)"
   ]
  },
  {
   "cell_type": "code",
   "execution_count": 1,
   "id": "2de2608b-ae79-4e13-b091-67fd953f9ed1",
   "metadata": {},
   "outputs": [
    {
     "name": "stdout",
     "output_type": "stream",
     "text": [
      "{} <class 'dict'>\n"
     ]
    }
   ],
   "source": [
    "d = dict()\n",
    "print(d, type(d))"
   ]
  },
  {
   "cell_type": "code",
   "execution_count": 3,
   "id": "4784be14-67bd-4d3e-a0d6-f8e2bbdc2f3c",
   "metadata": {},
   "outputs": [
    {
     "name": "stdout",
     "output_type": "stream",
     "text": [
      "<class 'dict'>\n",
      "{'a': 1, 'b': 2, 'c': 3}\n"
     ]
    }
   ],
   "source": [
    "d = {\n",
    "    'a':1,\n",
    "    'b':2,\n",
    "    'c':3\n",
    "}\n",
    "print(type(d))\n",
    "print(d)"
   ]
  },
  {
   "cell_type": "code",
   "execution_count": 7,
   "id": "d4d26b6e-8d7e-4b58-9e3e-b22321277e40",
   "metadata": {},
   "outputs": [
    {
     "name": "stdout",
     "output_type": "stream",
     "text": [
      "{'a': 1, 'b': 2, 'c': 3, 'd': 4}\n"
     ]
    }
   ],
   "source": [
    "d['d'] = 4\n",
    "print(d)"
   ]
  },
  {
   "cell_type": "code",
   "execution_count": 13,
   "id": "d5804b50-2248-42c4-92e6-70ba0f9d2040",
   "metadata": {},
   "outputs": [
    {
     "name": "stdout",
     "output_type": "stream",
     "text": [
      "dict_keys(['a', 'b', 'c', 'd'])\n",
      "dict_values([1, 2, 3, 4])\n",
      "dict_items([('a', 1), ('b', 2), ('c', 3), ('d', 4)])\n"
     ]
    }
   ],
   "source": [
    "print(d.keys())\n",
    "print(d.values())\n",
    "print(d.items())"
   ]
  },
  {
   "cell_type": "code",
   "execution_count": 16,
   "id": "1c15cdc2-3e62-4f87-a2ae-911894e20f92",
   "metadata": {},
   "outputs": [
    {
     "data": {
      "text/plain": [
       "1"
      ]
     },
     "execution_count": 16,
     "metadata": {},
     "output_type": "execute_result"
    }
   ],
   "source": [
    "d['a']"
   ]
  },
  {
   "cell_type": "code",
   "execution_count": 20,
   "id": "c57eb392-2fc6-406b-9351-9d884be55aa0",
   "metadata": {},
   "outputs": [
    {
     "name": "stdout",
     "output_type": "stream",
     "text": [
      "{1, 2, 3, 4} <class 'set'>\n"
     ]
    }
   ],
   "source": [
    "s = {1,2,3,4}\n",
    "print(s,type(s))"
   ]
  },
  {
   "cell_type": "code",
   "execution_count": 22,
   "id": "e1370241-2b58-4623-bb39-21cd6653ca4e",
   "metadata": {},
   "outputs": [
    {
     "name": "stdout",
     "output_type": "stream",
     "text": [
      "{'e', 'o', 'l', 'H'}\n"
     ]
    }
   ],
   "source": [
    "s = set(\"Hello\")\n",
    "print(s)"
   ]
  },
  {
   "cell_type": "code",
   "execution_count": 24,
   "id": "d530d09e-39bf-4bcc-b1a9-75c4dc550107",
   "metadata": {},
   "outputs": [
    {
     "name": "stdout",
     "output_type": "stream",
     "text": [
      "{'o', 'l', 'e', 'a', 'H'}\n"
     ]
    }
   ],
   "source": [
    "s.add('a')\n",
    "print(s)"
   ]
  },
  {
   "cell_type": "code",
   "execution_count": 26,
   "id": "44a8d228-d66c-4f92-b631-40af24b57702",
   "metadata": {},
   "outputs": [],
   "source": [
    "l = [1,2,3,4,5,6]\n",
    "s1 = set(l)"
   ]
  },
  {
   "cell_type": "code",
   "execution_count": 28,
   "id": "351e010d-39ac-435b-855e-9422961fc9d0",
   "metadata": {},
   "outputs": [
    {
     "name": "stdout",
     "output_type": "stream",
     "text": [
      "{1, 2, 3, 4, 5, 6}\n"
     ]
    }
   ],
   "source": [
    "print(s1)"
   ]
  },
  {
   "cell_type": "code",
   "execution_count": 30,
   "id": "a64893a5-3310-432c-aafa-df9c846e7738",
   "metadata": {},
   "outputs": [
    {
     "name": "stdout",
     "output_type": "stream",
     "text": [
      "{4, 5, 6, 7, 8, 9} <class 'set'>\n"
     ]
    }
   ],
   "source": [
    "s2 = {4,5,6,7,8,9}\n",
    "print(s2,type(s2))"
   ]
  },
  {
   "cell_type": "code",
   "execution_count": 32,
   "id": "4cffc254-086b-402b-9685-2713a4973b09",
   "metadata": {},
   "outputs": [
    {
     "name": "stdout",
     "output_type": "stream",
     "text": [
      "{4, 5, 6}\n",
      "{1, 2, 3, 4, 5, 6, 7, 8, 9}\n",
      "{1, 2, 3}\n"
     ]
    }
   ],
   "source": [
    "print(s1&s2)\n",
    "print(s1|s2)\n",
    "print(s1-s2)"
   ]
  },
  {
   "cell_type": "code",
   "execution_count": 34,
   "id": "4cf415b9-62c3-4339-b0e3-ee34e82d61a1",
   "metadata": {},
   "outputs": [
    {
     "name": "stdout",
     "output_type": "stream",
     "text": [
      "{'o', 'l', 'e', 'H'}\n"
     ]
    }
   ],
   "source": [
    "s.remove('a')\n",
    "print(s)"
   ]
  },
  {
   "cell_type": "code",
   "execution_count": 36,
   "id": "dc71a688-3698-41fa-a42d-9879e7c5afac",
   "metadata": {},
   "outputs": [
    {
     "name": "stdout",
     "output_type": "stream",
     "text": [
      "{'o', 6, 7, 'l', 'e', 'H'}\n"
     ]
    }
   ],
   "source": [
    "s.update([7,6])\n",
    "print(s)"
   ]
  },
  {
   "cell_type": "code",
   "execution_count": 38,
   "id": "226da35b-b566-4fa2-9f19-d6c4664a95d0",
   "metadata": {},
   "outputs": [
    {
     "name": "stdout",
     "output_type": "stream",
     "text": [
      "<class 'dict'>\n",
      "<class 'dict'>\n"
     ]
    }
   ],
   "source": [
    "d = {}\n",
    "d2 = dict()\n",
    "print(type(d))\n",
    "print(type(d2))"
   ]
  },
  {
   "cell_type": "code",
   "execution_count": 40,
   "id": "be04af64-f4be-4383-96f0-dc105c5642bd",
   "metadata": {},
   "outputs": [
    {
     "name": "stdout",
     "output_type": "stream",
     "text": [
      "{'a': 1, 'b': 2}\n"
     ]
    }
   ],
   "source": [
    "d = {\n",
    "    'a':1,\n",
    "    'b':2\n",
    "}\n",
    "print(d)"
   ]
  },
  {
   "cell_type": "code",
   "execution_count": 42,
   "id": "cef1295e-56bb-4ee2-be42-1f3b5e420310",
   "metadata": {},
   "outputs": [
    {
     "ename": "TypeError",
     "evalue": "unhashable type: 'list'",
     "output_type": "error",
     "traceback": [
      "\u001b[1;31m---------------------------------------------------------------------------\u001b[0m",
      "\u001b[1;31mTypeError\u001b[0m                                 Traceback (most recent call last)",
      "Cell \u001b[1;32mIn[42], line 1\u001b[0m\n\u001b[1;32m----> 1\u001b[0m d \u001b[38;5;241m=\u001b[39m {\n\u001b[0;32m      2\u001b[0m     [\u001b[38;5;241m1\u001b[39m,\u001b[38;5;241m2\u001b[39m] : \u001b[38;5;241m1\u001b[39m\n\u001b[0;32m      3\u001b[0m }\n\u001b[0;32m      4\u001b[0m \u001b[38;5;28mprint\u001b[39m(d)\n",
      "\u001b[1;31mTypeError\u001b[0m: unhashable type: 'list'"
     ]
    }
   ],
   "source": [
    "d = {\n",
    "    [1,2] : 1\n",
    "}\n",
    "print(d)"
   ]
  },
  {
   "cell_type": "code",
   "execution_count": 44,
   "id": "72ccd10f-8d29-415c-9561-8df45230048f",
   "metadata": {},
   "outputs": [],
   "source": [
    "d = {\n",
    "    (1,2) :1 \n",
    "}"
   ]
  },
  {
   "cell_type": "code",
   "execution_count": 46,
   "id": "93201f8f-cddc-4cf7-abdc-451ed37874b3",
   "metadata": {},
   "outputs": [
    {
     "name": "stdout",
     "output_type": "stream",
     "text": [
      "{(1, 2): 1}\n"
     ]
    }
   ],
   "source": [
    "print(d)"
   ]
  },
  {
   "cell_type": "code",
   "execution_count": 48,
   "id": "40c19419-1cad-447c-92e7-f0ce298bb9e5",
   "metadata": {},
   "outputs": [
    {
     "name": "stdout",
     "output_type": "stream",
     "text": [
      "1\n"
     ]
    }
   ],
   "source": [
    "d = {'a':1,'b':2}\n",
    "print(d['a'])"
   ]
  },
  {
   "cell_type": "code",
   "execution_count": 50,
   "id": "2dcb01c1-a38b-4285-9fb1-c9471bc50d72",
   "metadata": {},
   "outputs": [
    {
     "ename": "KeyError",
     "evalue": "'c'",
     "output_type": "error",
     "traceback": [
      "\u001b[1;31m---------------------------------------------------------------------------\u001b[0m",
      "\u001b[1;31mKeyError\u001b[0m                                  Traceback (most recent call last)",
      "Cell \u001b[1;32mIn[50], line 1\u001b[0m\n\u001b[1;32m----> 1\u001b[0m \u001b[38;5;28mprint\u001b[39m(d[\u001b[38;5;124m'\u001b[39m\u001b[38;5;124mc\u001b[39m\u001b[38;5;124m'\u001b[39m])\n",
      "\u001b[1;31mKeyError\u001b[0m: 'c'"
     ]
    }
   ],
   "source": [
    "print(d['c'])"
   ]
  },
  {
   "cell_type": "code",
   "execution_count": 52,
   "id": "b4a1314e-0573-4fec-8b9b-b359c3bd0662",
   "metadata": {},
   "outputs": [
    {
     "name": "stdout",
     "output_type": "stream",
     "text": [
      "{'a': 1, 'b': 2, 'c': 3}\n",
      "3\n"
     ]
    }
   ],
   "source": [
    "d['c']=3\n",
    "print(d)\n",
    "print(d['c'])"
   ]
  },
  {
   "cell_type": "code",
   "execution_count": 54,
   "id": "d545125f-3905-4f16-8370-bf1b8a16287a",
   "metadata": {},
   "outputs": [
    {
     "name": "stdout",
     "output_type": "stream",
     "text": [
      "dict_keys(['a', 'b', 'c'])\n"
     ]
    }
   ],
   "source": [
    "print(d.keys())"
   ]
  },
  {
   "cell_type": "code",
   "execution_count": 56,
   "id": "21f0c1b2-14c9-4496-bb81-0e4c8c95ae79",
   "metadata": {},
   "outputs": [
    {
     "name": "stdout",
     "output_type": "stream",
     "text": [
      "{1, 2, 3, 4, 5, 6, 7, 8, 9}\n"
     ]
    }
   ],
   "source": [
    "# 리스트의 중복된 값 제거하기\n",
    "L = [1,1,1,1,2,2,2,3,3,4,5,6,4,4,5,7,7,8,9,7,7,7,5,6,7]\n",
    "S = set(L)\n",
    "print(S)"
   ]
  },
  {
   "cell_type": "code",
   "execution_count": 58,
   "id": "cebfeff8-2393-4b9a-b5c7-ecb96b522ca6",
   "metadata": {},
   "outputs": [
    {
     "name": "stdout",
     "output_type": "stream",
     "text": [
      "[1, 2, 3, 4, 5, 6, 7, 8, 9]\n"
     ]
    }
   ],
   "source": [
    "L = list(S)\n",
    "print(L)"
   ]
  },
  {
   "cell_type": "code",
   "execution_count": 60,
   "id": "2ed9340d-36df-4b70-ac85-26bb97bc911d",
   "metadata": {},
   "outputs": [
    {
     "name": "stdout",
     "output_type": "stream",
     "text": [
      "[1, 2, 3, 4, 5, 6, 7, 8]\n"
     ]
    }
   ],
   "source": [
    "T = (1,2,3,4,5,6,7,8)\n",
    "L = list(T)\n",
    "print(L)"
   ]
  },
  {
   "cell_type": "code",
   "execution_count": 62,
   "id": "89d4846e-43df-4951-a807-7abb3e8c3a29",
   "metadata": {},
   "outputs": [
    {
     "name": "stdout",
     "output_type": "stream",
     "text": [
      "['값 변경', 2, 3, 4, 5, 6, 7, 8]\n"
     ]
    }
   ],
   "source": [
    "L[0] = '값 변경'\n",
    "print(L)"
   ]
  },
  {
   "cell_type": "code",
   "execution_count": 64,
   "id": "b68aa14f-eeeb-4637-ac64-b3969ba9b054",
   "metadata": {},
   "outputs": [
    {
     "name": "stdout",
     "output_type": "stream",
     "text": [
      "('값 변경', 2, 3, 4, 5, 6, 7, 8)\n"
     ]
    }
   ],
   "source": [
    "T = tuple(L)\n",
    "print(T)"
   ]
  },
  {
   "cell_type": "code",
   "execution_count": null,
   "id": "cc959b25-ae77-462f-907f-d59827ccff21",
   "metadata": {},
   "outputs": [],
   "source": []
  }
 ],
 "metadata": {
  "kernelspec": {
   "display_name": "Python [conda env:base] *",
   "language": "python",
   "name": "conda-base-py"
  },
  "language_info": {
   "codemirror_mode": {
    "name": "ipython",
    "version": 3
   },
   "file_extension": ".py",
   "mimetype": "text/x-python",
   "name": "python",
   "nbconvert_exporter": "python",
   "pygments_lexer": "ipython3",
   "version": "3.12.7"
  }
 },
 "nbformat": 4,
 "nbformat_minor": 5
}
