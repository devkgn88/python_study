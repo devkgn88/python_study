{
 "cells": [
  {
   "cell_type": "code",
   "execution_count": 1,
   "id": "b86cd468-769a-4733-bbab-66547cffa844",
   "metadata": {},
   "outputs": [
    {
     "name": "stdout",
     "output_type": "stream",
     "text": [
      "<class 'list'>\n",
      "<class 'list'>\n"
     ]
    }
   ],
   "source": [
    "# 리스트의 기본사용법\n",
    "l = []\n",
    "print(type(l))\n",
    "l = list()\n",
    "print(type(l))"
   ]
  },
  {
   "cell_type": "code",
   "execution_count": 5,
   "id": "63b3cd3b-ccf5-4b70-b9d2-ecd103368f61",
   "metadata": {},
   "outputs": [
    {
     "name": "stdout",
     "output_type": "stream",
     "text": [
      "[[1, 2, 3], [4, 5, 6], [7, 8, 9]]\n",
      "[1, 2, 3]\n",
      "2\n"
     ]
    }
   ],
   "source": [
    "# 리스트 안의 리스트\n",
    "# 다차원 배열\n",
    "l = [[1,2,3],[4,5,6],[7,8,9]]\n",
    "print(l)\n",
    "print(l[0])\n",
    "print(l[0][1])"
   ]
  },
  {
   "cell_type": "code",
   "execution_count": 7,
   "id": "d3bb32e4-617d-43a8-9bef-56b13d57635a",
   "metadata": {},
   "outputs": [
    {
     "name": "stdout",
     "output_type": "stream",
     "text": [
      "[9, 7, 4, 7, 2, 6, 8, 9]\n",
      "[1, 9, 7, 4, 7, 2, 6, 8, 9]\n"
     ]
    }
   ],
   "source": [
    "# 리스트 해당 인덱스에 값 추가\n",
    "l = [9,7,4,7,2,6,8,9]\n",
    "print(l)\n",
    "l.insert(0,1)\n",
    "print(l)"
   ]
  },
  {
   "cell_type": "code",
   "execution_count": 9,
   "id": "b8edc230-2e25-435e-9322-c20b0f0cf2c0",
   "metadata": {},
   "outputs": [
    {
     "name": "stdout",
     "output_type": "stream",
     "text": [
      "[9, 7, 4, 7, 2, 6, 8, 9]\n",
      "[9, 7, 4, 7, 2, 6, 8]\n",
      "[7, 4, 7, 2, 6, 8]\n"
     ]
    }
   ],
   "source": [
    "# 해당 인덱스의 값 삭제\n",
    "l = [9,7,4,7,2,6,8,9]\n",
    "print(l)\n",
    "l.pop()\n",
    "print(l)\n",
    "l.pop(0)\n",
    "print(l)"
   ]
  },
  {
   "cell_type": "code",
   "execution_count": 11,
   "id": "ed4f651e-46a3-45f8-bc0b-a77a01fd07be",
   "metadata": {},
   "outputs": [
    {
     "name": "stdout",
     "output_type": "stream",
     "text": [
      "[1, 2, 3, 4, 5, 6, 7, 8, 9]\n",
      "[9, 8, 7, 6, 5, 4, 3, 2, 1]\n"
     ]
    }
   ],
   "source": [
    "# 값을 거꾸로 정렬\n",
    "l = [1,2,3,4,5,6,7,8,9]\n",
    "print(l)\n",
    "l.reverse()\n",
    "print(l)"
   ]
  },
  {
   "cell_type": "code",
   "execution_count": 13,
   "id": "910164ef-4d90-4806-bc06-ee2ebeb11b97",
   "metadata": {},
   "outputs": [
    {
     "data": {
      "text/plain": [
       "0"
      ]
     },
     "execution_count": 13,
     "metadata": {},
     "output_type": "execute_result"
    }
   ],
   "source": [
    "# 해당 값의 개수\n",
    "l.count(1)\n",
    "l.count(10)"
   ]
  },
  {
   "cell_type": "code",
   "execution_count": 19,
   "id": "ef64593f-87d5-429f-9571-d61a3c138a6a",
   "metadata": {},
   "outputs": [
    {
     "name": "stdout",
     "output_type": "stream",
     "text": [
      "[1, 2, 3, 4]\n",
      "[1, 2, 3, 4, 5]\n"
     ]
    }
   ],
   "source": [
    "# 해당 값의 요소로 추가 : append\n",
    "l = [1,2,3]\n",
    "l.append(4)\n",
    "print(l)\n",
    "# 해당 리스트를 뒤에 가져다 붙임 : 확장\n",
    "l.extend([5])\n",
    "print(l)\n",
    "# sort : 오름차순으로 값 정렬\n",
    "# index : 리스트에 해당 값이 있으면 해당 값의 인덱스 반환\n",
    "# copy : 리스트를 복사 "
   ]
  },
  {
   "cell_type": "code",
   "execution_count": 21,
   "id": "fee613d7-7889-4463-88e9-a247dfc2a14f",
   "metadata": {},
   "outputs": [
    {
     "name": "stdout",
     "output_type": "stream",
     "text": [
      "[0, 1, 2, 3, 4]\n"
     ]
    }
   ],
   "source": [
    "# 리스트 내포 (반복문)\n",
    "l = []\n",
    "for i in range(5):\n",
    "    l.append(i)\n",
    "print(l)"
   ]
  },
  {
   "cell_type": "code",
   "execution_count": 23,
   "id": "a67699bc-8f34-48c0-8ae6-00b6c87d0651",
   "metadata": {},
   "outputs": [
    {
     "name": "stdout",
     "output_type": "stream",
     "text": [
      "[1, 2, 3, 4, 5, 6]\n"
     ]
    }
   ],
   "source": [
    "# 큐 : 먼저 집어넣는 데이터가 먼저 나오는 FIFO 구조\n",
    "l = [1,2,3,4,5]\n",
    "l.append(6)\n",
    "print(l)"
   ]
  },
  {
   "cell_type": "code",
   "execution_count": 25,
   "id": "cf9f47ab-453e-4903-bff3-9baa0fe29106",
   "metadata": {},
   "outputs": [
    {
     "name": "stdout",
     "output_type": "stream",
     "text": [
      "[2, 3, 4, 5, 6]\n"
     ]
    }
   ],
   "source": [
    "l.pop(0)\n",
    "print(l)"
   ]
  },
  {
   "cell_type": "code",
   "execution_count": 27,
   "id": "8d474caf-544f-48e2-8beb-636b68b42084",
   "metadata": {},
   "outputs": [
    {
     "name": "stdout",
     "output_type": "stream",
     "text": [
      "[2, 3, 4, 5, 6, 7]\n",
      "[2, 3, 4, 5, 6]\n"
     ]
    }
   ],
   "source": [
    "# 스택 : 나중에 집은 데이터가 먼저 나오는 LIFO 구조\n",
    "l.append(7)\n",
    "print(l)\n",
    "l.pop()\n",
    "print(l)"
   ]
  },
  {
   "cell_type": "code",
   "execution_count": 7,
   "id": "4f0e42f0-201c-4ff8-b322-005a50acd942",
   "metadata": {},
   "outputs": [
    {
     "name": "stdout",
     "output_type": "stream",
     "text": [
      "<class 'int'>\n",
      "<class 'tuple'>\n",
      "<class 'tuple'>\n"
     ]
    }
   ],
   "source": [
    "# 튜플의 기본 사용법\n",
    "t = (1)\n",
    "print(type(t))\n",
    "t = (1,)\n",
    "print(type(t))\n",
    "t = 1,\n",
    "print(type(t))"
   ]
  },
  {
   "cell_type": "code",
   "execution_count": 13,
   "id": "f5c4d41e-baa7-40ff-ab21-ff119a51353a",
   "metadata": {},
   "outputs": [
    {
     "name": "stdout",
     "output_type": "stream",
     "text": [
      "3\n",
      "7\n"
     ]
    }
   ],
   "source": [
    "t = (1,2,2,2,3,3,4,5,6,7,8,9)\n",
    "print(t.count(2))\n",
    "print(t.index(5))"
   ]
  },
  {
   "cell_type": "code",
   "execution_count": 19,
   "id": "419e6bc0-ee3c-49b3-97e5-dbbc7db9b98b",
   "metadata": {},
   "outputs": [
    {
     "name": "stdout",
     "output_type": "stream",
     "text": [
      "1\n",
      "2\n",
      "3\n"
     ]
    }
   ],
   "source": [
    "# 값의 할당 및 리턴 \n",
    "x,y,z = 1,2,3\n",
    "print(x)\n",
    "print(y)\n",
    "print(z)"
   ]
  },
  {
   "cell_type": "code",
   "execution_count": 21,
   "id": "adfb92c6-3626-451b-8dc4-678b2e9816a5",
   "metadata": {},
   "outputs": [
    {
     "name": "stdout",
     "output_type": "stream",
     "text": [
      "1\n",
      "2\n"
     ]
    }
   ],
   "source": [
    "def test() :\n",
    "    return (1,2)\n",
    "a,b = test()\n",
    "print(a)\n",
    "print(b)"
   ]
  },
  {
   "cell_type": "code",
   "execution_count": 23,
   "id": "3690223b-1b38-4d7e-aee7-43869f048602",
   "metadata": {},
   "outputs": [
    {
     "name": "stdout",
     "output_type": "stream",
     "text": [
      "<class 'dict'>\n"
     ]
    }
   ],
   "source": [
    "# 사전의 기본 사용법\n",
    "d = {}\n",
    "d = dict()\n",
    "print(type(d))"
   ]
  },
  {
   "cell_type": "code",
   "execution_count": 25,
   "id": "12292f8a-0c26-4265-aa70-d1f76a76b50f",
   "metadata": {},
   "outputs": [
    {
     "name": "stdout",
     "output_type": "stream",
     "text": [
      "{1: 1}\n",
      "{1: 2}\n"
     ]
    }
   ],
   "source": [
    "# 사전 사용시 주의사항\n",
    "# 사전에서는 키는 고유한 값\n",
    "# 중복된 키에 값을 입력하면 기존값 사라짐\n",
    "d[1] = 1\n",
    "print(d)\n",
    "d[1] = 2\n",
    "print(d)"
   ]
  },
  {
   "cell_type": "code",
   "execution_count": 29,
   "id": "d221bee3-eaf0-450c-ab60-5d92732700f3",
   "metadata": {},
   "outputs": [
    {
     "name": "stdout",
     "output_type": "stream",
     "text": [
      "{'a': 1, 'b': 2, 'c': 2, 'd': 4, 'e': 5}\n"
     ]
    }
   ],
   "source": [
    "# update : 두 사전의 병합\n",
    "dict1 = {'a':1,'b':2,'c':3}\n",
    "dict2 = {'c':2,'d':4,'e':5}\n",
    "dict1.update(dict2)\n",
    "print(dict1)"
   ]
  },
  {
   "cell_type": "code",
   "execution_count": 31,
   "id": "d7ff0664-61d9-4f41-8fff-b16a5d969358",
   "metadata": {},
   "outputs": [
    {
     "name": "stdout",
     "output_type": "stream",
     "text": [
      "{'a': 1, 'b': 2, 'c': 3}\n",
      "{'b': 2, 'c': 3}\n"
     ]
    }
   ],
   "source": [
    "# pop 함수\n",
    "d = {'a':1,'b':2,'c':3}\n",
    "print(d)\n",
    "d.pop('a')\n",
    "print(d)"
   ]
  },
  {
   "cell_type": "code",
   "execution_count": 33,
   "id": "6ac27125-85de-4a56-a1fa-d9fa24dee7da",
   "metadata": {},
   "outputs": [
    {
     "name": "stdout",
     "output_type": "stream",
     "text": [
      "{}\n"
     ]
    }
   ],
   "source": [
    "# clear함수 : 전체 삭제\n",
    "d.clear()\n",
    "print(d)"
   ]
  },
  {
   "cell_type": "code",
   "execution_count": 37,
   "id": "a696ad69-6d02-40ed-896b-9609e246313d",
   "metadata": {},
   "outputs": [
    {
     "name": "stdout",
     "output_type": "stream",
     "text": [
      "{'a': 1, 'b': 2, 'c': 3}\n",
      "{'a': 1, 'b': 2, 'c': 3}\n",
      "{'a': 1, 'b': 2, 'c': 3}\n"
     ]
    }
   ],
   "source": [
    "# copy 사전 복사\n",
    "d = {'a':1,'b':2,'c':3}\n",
    "a = d.copy() # 깊은 복사\n",
    "b = d # 얕은 복사\n",
    "print(d)\n",
    "print(a)\n",
    "print(b)"
   ]
  },
  {
   "cell_type": "code",
   "execution_count": 39,
   "id": "8512a113-03f6-4bff-910e-f974db957cce",
   "metadata": {},
   "outputs": [
    {
     "name": "stdout",
     "output_type": "stream",
     "text": [
      "{'a': 1, 'b': 3, 'c': 3}\n",
      "{'a': 2, 'b': 2, 'c': 3}\n",
      "{'a': 1, 'b': 3, 'c': 3}\n"
     ]
    }
   ],
   "source": [
    "a['a'] = 2\n",
    "b['b'] = 3\n",
    "print(d)\n",
    "print(a)\n",
    "print(b)"
   ]
  },
  {
   "cell_type": "code",
   "execution_count": 41,
   "id": "c475354d-c91d-4876-b83a-8d1d6cbabdae",
   "metadata": {},
   "outputs": [
    {
     "name": "stdout",
     "output_type": "stream",
     "text": [
      "a\n",
      "b\n",
      "c\n"
     ]
    }
   ],
   "source": [
    "# 반복문에서의 사전\n",
    "d = {'a':1,'b':2,'c':3}\n",
    "for i in d:\n",
    "    print(i)"
   ]
  },
  {
   "cell_type": "code",
   "execution_count": 43,
   "id": "54071893-3a28-460d-a3b8-b7c4817136ba",
   "metadata": {},
   "outputs": [
    {
     "name": "stdout",
     "output_type": "stream",
     "text": [
      "1\n",
      "2\n",
      "3\n"
     ]
    }
   ],
   "source": [
    "for i in d.values():\n",
    "    print(i)"
   ]
  },
  {
   "cell_type": "code",
   "execution_count": 45,
   "id": "ed32184d-d8c5-40e0-9f95-1ff52e7a4b6d",
   "metadata": {},
   "outputs": [
    {
     "name": "stdout",
     "output_type": "stream",
     "text": [
      "1\n",
      "2\n",
      "3\n"
     ]
    }
   ],
   "source": [
    "for i in d:\n",
    "    print(d[i])"
   ]
  },
  {
   "cell_type": "code",
   "execution_count": 49,
   "id": "841d3e0d-6a60-4617-95d4-f5e0f66d9824",
   "metadata": {},
   "outputs": [
    {
     "data": {
      "text/plain": [
       "True"
      ]
     },
     "execution_count": 49,
     "metadata": {},
     "output_type": "execute_result"
    }
   ],
   "source": [
    "# 사전에서 값의 유무 알아보기\n",
    "dic = {'a':1,'b':2,'c':3}\n",
    "'a' in dic\n",
    "2 in dic.values()"
   ]
  },
  {
   "cell_type": "code",
   "execution_count": 55,
   "id": "e705ec50-94b5-4862-9995-25d5fdcb13c5",
   "metadata": {},
   "outputs": [
    {
     "name": "stdout",
     "output_type": "stream",
     "text": [
      "[9, 8, 7, 6, 5, 4, 3, 2, 1]\n"
     ]
    }
   ],
   "source": [
    "# 리스트 함수 활용\n",
    "l = [2,5,1,3,6,4,8,7,9]\n",
    "l.sort(reverse=True)\n",
    "print(l)"
   ]
  },
  {
   "cell_type": "code",
   "execution_count": 57,
   "id": "939e8fea-28a7-4b3b-8871-a69f37d184c7",
   "metadata": {},
   "outputs": [
    {
     "name": "stdout",
     "output_type": "stream",
     "text": [
      "{'a': 1, 'b': 5, 'c': 1, 'd': 7}\n"
     ]
    }
   ],
   "source": [
    "# 두 사전을 하나의 사전으로 병합\n",
    "dic1 = {'a':1,'b':2,'c':3}\n",
    "dic2 = {'b':5,'c':1,'d':7}\n",
    "dic1.update(dic2)\n",
    "print(dic1)"
   ]
  },
  {
   "cell_type": "code",
   "execution_count": null,
   "id": "0c709c70-95ae-49f0-addd-fbeb5f197fe1",
   "metadata": {},
   "outputs": [],
   "source": []
  }
 ],
 "metadata": {
  "kernelspec": {
   "display_name": "Python [conda env:base] *",
   "language": "python",
   "name": "conda-base-py"
  },
  "language_info": {
   "codemirror_mode": {
    "name": "ipython",
    "version": 3
   },
   "file_extension": ".py",
   "mimetype": "text/x-python",
   "name": "python",
   "nbconvert_exporter": "python",
   "pygments_lexer": "ipython3",
   "version": "3.12.7"
  }
 },
 "nbformat": 4,
 "nbformat_minor": 5
}
