{
 "cells": [
  {
   "cell_type": "code",
   "execution_count": 1,
   "id": "b68f3b26-84dd-4af1-a501-a9469c6d37e2",
   "metadata": {},
   "outputs": [
    {
     "name": "stdout",
     "output_type": "stream",
     "text": [
      "12\n",
      "4\n"
     ]
    }
   ],
   "source": [
    "# 문자열 : 문자, 단어 등으로 구성된 문자들의 집합\n",
    "# 문자열 안에 따옴표 넣기(이스케이프 문자 사용 또는 따옴표 다르게 사용)\n",
    "# 여러 줄의 문장 표현도 2가지 다 가능\n",
    "# 연결 연산자(+)\n",
    "print('1' + '2')\n",
    "print(1+3)"
   ]
  },
  {
   "cell_type": "code",
   "execution_count": 3,
   "id": "04e586af-59b1-4a0a-8cc1-e105b2f323ed",
   "metadata": {},
   "outputs": [
    {
     "name": "stdout",
     "output_type": "stream",
     "text": [
      "222\n",
      "6\n"
     ]
    }
   ],
   "source": [
    "# 반복 연산자 *\n",
    "print('2'*3)\n",
    "print(2*3)"
   ]
  },
  {
   "cell_type": "code",
   "execution_count": 7,
   "id": "a8946f13-f892-4d76-b282-6a5ae6f8e9bd",
   "metadata": {},
   "outputs": [
    {
     "name": "stdout",
     "output_type": "stream",
     "text": [
      "안\n",
      "요\n"
     ]
    }
   ],
   "source": [
    "# 선택 연산자(인덱싱)\n",
    "a = '안녕하세요'\n",
    "print(a[0])\n",
    "print(a[-1])"
   ]
  },
  {
   "cell_type": "code",
   "execution_count": 15,
   "id": "c795e6a1-889d-4b06-aa64-9843dfe462b4",
   "metadata": {},
   "outputs": [
    {
     "name": "stdout",
     "output_type": "stream",
     "text": [
      "녕하\n",
      "안하요\n"
     ]
    }
   ],
   "source": [
    "# 범위 선택 연산자(슬라이싱)\n",
    "print(a[1:3])\n",
    "print(a[0:5:2])"
   ]
  },
  {
   "cell_type": "code",
   "execution_count": 23,
   "id": "c997ba47-8451-4f16-9021-ee1a92b73b75",
   "metadata": {},
   "outputs": [
    {
     "name": "stdout",
     "output_type": "stream",
     "text": [
      "요세하녕안\n",
      "1234567\n",
      "123456789\n"
     ]
    }
   ],
   "source": [
    "# 각종 연산자의 활용\n",
    "# 역순 정렬\n",
    "a = '안녕하세요'\n",
    "print(a[::-1])\n",
    "# 슬라이싱, 연결\n",
    "a = '12345'\n",
    "b = '34567'\n",
    "c = a[0:3] + b[1:]\n",
    "print(c)\n",
    "# 스텝 활용\n",
    "a = '1,2,3,4,5,6,7,8,9'\n",
    "print(a[::2])"
   ]
  },
  {
   "cell_type": "code",
   "execution_count": 37,
   "id": "7c7d2532-799a-4765-9b3c-e7cb6dff405e",
   "metadata": {},
   "outputs": [
    {
     "name": "stdout",
     "output_type": "stream",
     "text": [
      "ABCDEFGHI\n",
      "abcdefghi\n",
      "abcdefghi\n",
      "ABcdEFGhI\n",
      "Abcd abcd\n"
     ]
    }
   ],
   "source": [
    "# 문자열 메소드 : 문자열을 직접 수정할수는 없고, 변경된 문자를 반환\n",
    "a = 'abcdefghi'\n",
    "# a[1] = '3'\n",
    "print(a.upper())\n",
    "print(a.lower())\n",
    "print(a)\n",
    "#swapcase() : 대문자는 소문자로, 소문자는 대문자로\n",
    "a = 'abCDefgHi'\n",
    "print(a.swapcase())\n",
    "# capitalize() : 첫 문자만 대문자로 변경\n",
    "a = 'abcd abcd'\n",
    "print(a.capitalize())"
   ]
  },
  {
   "cell_type": "code",
   "execution_count": 43,
   "id": "d0ef5dc9-7ab1-40c0-b082-6b5f9499055d",
   "metadata": {},
   "outputs": [
    {
     "name": "stdout",
     "output_type": "stream",
     "text": [
      "Abcd Abcd\n"
     ]
    }
   ],
   "source": [
    "# title() : 각 단어의 첫 문자를 대문자로 변경\n",
    "a = 'abcd abcd'\n",
    "print(a.title())"
   ]
  },
  {
   "cell_type": "code",
   "execution_count": 45,
   "id": "76e7c1c0-b42f-4ea8-8160-582cb8f32224",
   "metadata": {},
   "outputs": [],
   "source": [
    "# strip() : 문자열 양쪽 끝을 잘라냄(기본은 공백)"
   ]
  },
  {
   "cell_type": "code",
   "execution_count": 47,
   "id": "740f4c66-6134-4ce9-9b8f-3fd0de916a51",
   "metadata": {},
   "outputs": [
    {
     "name": "stdout",
     "output_type": "stream",
     "text": [
      " abcd efg \n",
      "abcd efg\n"
     ]
    }
   ],
   "source": [
    "a = ' abcd efg '\n",
    "print(a)\n",
    "print(a.strip())"
   ]
  },
  {
   "cell_type": "code",
   "execution_count": 53,
   "id": "3e431144-80c0-4828-9a75-1dec980c5f51",
   "metadata": {},
   "outputs": [
    {
     "name": "stdout",
     "output_type": "stream",
     "text": [
      " abcd efg \n",
      "abcd efg \n",
      " abcd efg\n"
     ]
    }
   ],
   "source": [
    "# lstrip() : 문자열 왼쪽 끝을 잘라냄\n",
    "print(a)\n",
    "print(a.lstrip())\n",
    "# rstrip() : 문자열 오른쪽 끝을 잘라냄\n",
    "print(a.rstrip())"
   ]
  },
  {
   "cell_type": "code",
   "execution_count": 59,
   "id": "144412e2-8d24-47e5-8c4d-5521d9bcce4c",
   "metadata": {},
   "outputs": [
    {
     "name": "stdout",
     "output_type": "stream",
     "text": [
      "['ab', 'de']\n",
      "['abcd', 'efge']\n"
     ]
    }
   ],
   "source": [
    "# split() : 문자열을 구분자로 분리해 리스트로 반환\n",
    "a = 'abcde'\n",
    "print(a.split('c'))\n",
    "# splitlines() : 문자열을 라인 단위로 분리해 리스트로 반환\n",
    "a = \"\"\"abcd\n",
    "efge\"\"\"\n",
    "print(a.splitlines())"
   ]
  },
  {
   "cell_type": "code",
   "execution_count": 63,
   "id": "6176ae2c-1eb0-4297-8f77-951a17281778",
   "metadata": {},
   "outputs": [
    {
     "name": "stdout",
     "output_type": "stream",
     "text": [
      "4\n"
     ]
    },
    {
     "ename": "ValueError",
     "evalue": "substring not found",
     "output_type": "error",
     "traceback": [
      "\u001b[1;31m---------------------------------------------------------------------------\u001b[0m",
      "\u001b[1;31mValueError\u001b[0m                                Traceback (most recent call last)",
      "Cell \u001b[1;32mIn[63], line 4\u001b[0m\n\u001b[0;32m      2\u001b[0m a \u001b[38;5;241m=\u001b[39m \u001b[38;5;124m'\u001b[39m\u001b[38;5;124mabcde\u001b[39m\u001b[38;5;124m'\u001b[39m\n\u001b[0;32m      3\u001b[0m \u001b[38;5;28mprint\u001b[39m(a\u001b[38;5;241m.\u001b[39mindex(\u001b[38;5;124m'\u001b[39m\u001b[38;5;124me\u001b[39m\u001b[38;5;124m'\u001b[39m))\n\u001b[1;32m----> 4\u001b[0m \u001b[38;5;28mprint\u001b[39m(a\u001b[38;5;241m.\u001b[39mindex(\u001b[38;5;124m'\u001b[39m\u001b[38;5;124mz\u001b[39m\u001b[38;5;124m'\u001b[39m))\n",
      "\u001b[1;31mValueError\u001b[0m: substring not found"
     ]
    }
   ],
   "source": [
    "# index() : 해당 문자열의 인덱스를 반환(없는 경우 에러)\n",
    "a = 'abcde'\n",
    "print(a.index('e'))\n",
    "print(a.index('z'))"
   ]
  },
  {
   "cell_type": "code",
   "execution_count": 65,
   "id": "2779c9fd-5e89-46f3-b8e6-50d9215f53de",
   "metadata": {},
   "outputs": [
    {
     "name": "stdout",
     "output_type": "stream",
     "text": [
      "-1\n"
     ]
    }
   ],
   "source": [
    "# find() : 해당 문자열의 인덱스를 반환(없는 경우 -1)\n",
    "a = 'abcdef'\n",
    "print(a.find('z'))"
   ]
  },
  {
   "cell_type": "code",
   "execution_count": 71,
   "id": "71fd8ff3-91b6-4390-9f0d-173890484dbd",
   "metadata": {},
   "outputs": [
    {
     "name": "stdout",
     "output_type": "stream",
     "text": [
      "['__add__', '__class__', '__contains__', '__delattr__', '__dir__', '__doc__', '__eq__', '__format__', '__ge__', '__getattribute__', '__getitem__', '__getnewargs__', '__getstate__', '__gt__', '__hash__', '__init__', '__init_subclass__', '__iter__', '__le__', '__len__', '__lt__', '__mod__', '__mul__', '__ne__', '__new__', '__reduce__', '__reduce_ex__', '__repr__', '__rmod__', '__rmul__', '__setattr__', '__sizeof__', '__str__', '__subclasshook__', 'capitalize', 'casefold', 'center', 'count', 'encode', 'endswith', 'expandtabs', 'find', 'format', 'format_map', 'index', 'isalnum', 'isalpha', 'isascii', 'isdecimal', 'isdigit', 'isidentifier', 'islower', 'isnumeric', 'isprintable', 'isspace', 'istitle', 'isupper', 'join', 'ljust', 'lower', 'lstrip', 'maketrans', 'partition', 'removeprefix', 'removesuffix', 'replace', 'rfind', 'rindex', 'rjust', 'rpartition', 'rsplit', 'rstrip', 'split', 'splitlines', 'startswith', 'strip', 'swapcase', 'title', 'translate', 'upper', 'zfill']\n"
     ]
    }
   ],
   "source": [
    "# 그외 문자열 메소드 확인 가능\n",
    "print(dir(str))"
   ]
  },
  {
   "cell_type": "code",
   "execution_count": 75,
   "id": "69acc340-95bc-4025-8d7c-2486d4b176eb",
   "metadata": {},
   "outputs": [
    {
     "name": "stdout",
     "output_type": "stream",
     "text": [
      "['안녕하세요', ' 학습자님!']\n"
     ]
    }
   ],
   "source": [
    "s = '안녕하세요. 학습자님!'\n",
    "print(s.split('.'))"
   ]
  },
  {
   "cell_type": "code",
   "execution_count": 80,
   "id": "cfb54f3e-fc8b-4bcd-8317-b5e62f7d148d",
   "metadata": {},
   "outputs": [
    {
     "name": "stdout",
     "output_type": "stream",
     "text": [
      "Hello, World!\n"
     ]
    }
   ],
   "source": [
    "# 문자열 포맷팅\n",
    "# 변수를 활용하여 문자열을 생성할 때 사용\n",
    "a = \"{}, World!\".format(\"Hello\")\n",
    "print(a)"
   ]
  },
  {
   "cell_type": "code",
   "execution_count": 88,
   "id": "26a294ff-fa67-4624-b249-a82d259cbfa2",
   "metadata": {},
   "outputs": [
    {
     "name": "stdout",
     "output_type": "stream",
     "text": [
      "Hello,World!\n",
      "2, 2, (1, 2), [1, 2]\n"
     ]
    }
   ],
   "source": [
    "# 여러 개를 사용하려면, 순서대로 값을 입력\n",
    "a = \"{}{}{}\".format(\"Hello\",\",\",\"World!\")\n",
    "print(a)\n",
    "a = \"{}, {}, {}, {}\".format('2',2,(1,2),[1,2])\n",
    "print(a)"
   ]
  },
  {
   "cell_type": "code",
   "execution_count": 90,
   "id": "69715977-13f0-435c-918b-bbbbcac72f06",
   "metadata": {},
   "outputs": [
    {
     "name": "stdout",
     "output_type": "stream",
     "text": [
      ", World!Hello\n"
     ]
    }
   ],
   "source": [
    "# 중괄호에 순서를 적어 포맷팅 출력 순서를 변경 가능\n",
    "a = \"{1}{2}{0}\".format(\"Hello\",\", \",\"World!\")\n",
    "print(a)"
   ]
  },
  {
   "cell_type": "code",
   "execution_count": 92,
   "id": "d489a6f1-19a0-4ce3-9854-3e44c5163ea9",
   "metadata": {},
   "outputs": [
    {
     "name": "stdout",
     "output_type": "stream",
     "text": [
      "Today is Monday, Tomorrow is Tuesday\n"
     ]
    }
   ],
   "source": [
    "# 중괄호에 식별자를 적어 출력 가능\n",
    "a = \"Today is {today}, Tomorrow is {tomorrow}\".format(today=\"Monday\",tomorrow=\"Tuesday\")\n",
    "print(a)"
   ]
  },
  {
   "cell_type": "code",
   "execution_count": 104,
   "id": "65e931e3-3667-4c4c-92e9-03cbf7d575dd",
   "metadata": {},
   "outputs": [
    {
     "name": "stdout",
     "output_type": "stream",
     "text": [
      "0.3333333333333333\n",
      "0.33\n",
      "3.000000\n",
      "  4,  10\n"
     ]
    }
   ],
   "source": [
    "# 자리 표기 가능 \n",
    "a = \"{}\".format(1/3)\n",
    "print(a)\n",
    "b = \"{:0.2}\".format(1/3)\n",
    "print(b)\n",
    "c = \"{:f}\".format(3)\n",
    "print(c)\n",
    "d = \"{:3},{:4}\".format(4,10)\n",
    "print(d)"
   ]
  },
  {
   "cell_type": "code",
   "execution_count": 108,
   "id": "2cd254cd-aa4a-480c-810d-6a5a9777c624",
   "metadata": {},
   "outputs": [
    {
     "name": "stdout",
     "output_type": "stream",
     "text": [
      "1 더하기 1는 귀요미\n"
     ]
    }
   ],
   "source": [
    "print(\"{} 더하기 {}는 {}\".format(1,1,'귀요미'))"
   ]
  },
  {
   "cell_type": "code",
   "execution_count": 131,
   "id": "9f98c087-7b02-4999-a4a6-2c18916576d6",
   "metadata": {},
   "outputs": [
    {
     "name": "stdout",
     "output_type": "stream",
     "text": [
      "18\n",
      "31\n"
     ]
    }
   ],
   "source": [
    "# 문자열 특징, 메소드 활용 특정 문자 뽑아내기\n",
    "s = \"Today is December 31,2020.Tomorrow is January 1,2021.\"\n",
    "i = s.find('31')\n",
    "print(i)\n",
    "print(s[i:i+2])"
   ]
  },
  {
   "cell_type": "code",
   "execution_count": 137,
   "id": "efe664c9-2fd1-456d-8f6c-2152d63bc560",
   "metadata": {},
   "outputs": [
    {
     "name": "stdout",
     "output_type": "stream",
     "text": [
      "2 x 2 = 4\n",
      "2 x 3 = 6\n",
      "2 x 4 = 8\n",
      "2 x 5 = 10\n",
      "2 x 6 = 12\n",
      "2 x 7 = 14\n",
      "2 x 8 = 16\n",
      "2 x 9 = 18\n"
     ]
    }
   ],
   "source": [
    "for i in range(2,10):\n",
    "    s = \"2 x {} = {}\".format(i,i*2) \n",
    "    print(s)"
   ]
  },
  {
   "cell_type": "code",
   "execution_count": 171,
   "id": "61f4c594-5803-4e74-82da-0449bcdb38c8",
   "metadata": {},
   "outputs": [
    {
     "name": "stdout",
     "output_type": "stream",
     "text": [
      "2 x 2.000000 = 4\n",
      "2 x 3 = 6\n",
      "2 x 4 = 8\n",
      "[2] x 5 = 10\n",
      "2 x 6 = 12\n",
      "2 x 7 = 십사\n",
      "2 x 8 = 16\n",
      "2 x 9.0 = 18.0\n"
     ]
    }
   ],
   "source": [
    "print(\"2 x {:f} = {}\".format(2,2*2))\n",
    "print(\"2 x {} = {}\".format(3,2*3))\n",
    "print(\"2 x {} = {}\".format(4,2*4))\n",
    "print(\"[2] x {} = {}\".format(5,2*5))\n",
    "print(\"2 x {} = {}\".format(6,2*6))\n",
    "print(\"2 x {} = {}\".format(7,'십사'))\n",
    "print(\"2 x {} = {}\".format(8,2*8))\n",
    "print(\"2 x {:0.1f} = {:0.1f}\".format(9,18))"
   ]
  },
  {
   "cell_type": "code",
   "execution_count": null,
   "id": "bbe9bea5-0529-471a-a05c-264897c55ee7",
   "metadata": {},
   "outputs": [],
   "source": []
  }
 ],
 "metadata": {
  "kernelspec": {
   "display_name": "Python [conda env:base] *",
   "language": "python",
   "name": "conda-base-py"
  },
  "language_info": {
   "codemirror_mode": {
    "name": "ipython",
    "version": 3
   },
   "file_extension": ".py",
   "mimetype": "text/x-python",
   "name": "python",
   "nbconvert_exporter": "python",
   "pygments_lexer": "ipython3",
   "version": "3.12.7"
  }
 },
 "nbformat": 4,
 "nbformat_minor": 5
}
