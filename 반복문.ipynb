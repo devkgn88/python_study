{
 "cells": [
  {
   "cell_type": "code",
   "execution_count": 5,
   "id": "a4bdc52b-7af9-45dc-848c-dc48aab3aec4",
   "metadata": {},
   "outputs": [
    {
     "name": "stdout",
     "output_type": "stream",
     "text": [
      "1\n",
      "2\n",
      "3\n",
      "1\n",
      "2\n",
      "3\n",
      "H\n",
      "e\n",
      "l\n",
      "l\n",
      "o\n"
     ]
    }
   ],
   "source": [
    "# for반복문 : 들여쓰기와 콜론 매우 중요\n",
    "# 반복 가능한 객체를 순회하며 반복문 안의 코드 한번씩 실행\n",
    "for i in {1,2,3}:\n",
    "    print(i)\n",
    "for i in (1,2,3):\n",
    "    print(i)\n",
    "for i in \"Hello\":\n",
    "    print(i)"
   ]
  },
  {
   "cell_type": "code",
   "execution_count": 13,
   "id": "aceaaa9e-86ee-465f-8c0a-019053b72be2",
   "metadata": {},
   "outputs": [
    {
     "data": {
      "text/plain": [
       "True"
      ]
     },
     "execution_count": 13,
     "metadata": {},
     "output_type": "execute_result"
    }
   ],
   "source": [
    "# 반복 개체 함수 : 객체의 멤버를 하나씩 반환할 수 있는 것들\n",
    "# 시퀀스 데이터 \n",
    "from collections.abc import Iterable\n",
    "obj = [1,2,3,4]\n",
    "isinstance(obj, Iterable)"
   ]
  },
  {
   "cell_type": "code",
   "execution_count": 15,
   "id": "ef137366-4dd5-4514-9b3e-c9374891b61a",
   "metadata": {},
   "outputs": [
    {
     "name": "stdout",
     "output_type": "stream",
     "text": [
      "range(0, 10)\n"
     ]
    }
   ],
   "source": [
    "# range함수. 반복가능한 객체를 반환해주는 함수\n",
    "# 시작, 끝, 스텝으로 정의\n",
    "print(range(10))"
   ]
  },
  {
   "cell_type": "code",
   "execution_count": 17,
   "id": "33278c22-ee74-4dfd-bf72-aa161142c757",
   "metadata": {},
   "outputs": [
    {
     "name": "stdout",
     "output_type": "stream",
     "text": [
      "[0, 1, 2, 3, 4, 5, 6, 7, 8, 9]\n"
     ]
    }
   ],
   "source": [
    "l = list(range(10))\n",
    "print(l)"
   ]
  },
  {
   "cell_type": "code",
   "execution_count": 19,
   "id": "b20bfc60-7ec8-4731-a543-ebacd8db880f",
   "metadata": {},
   "outputs": [
    {
     "data": {
      "text/plain": [
       "True"
      ]
     },
     "execution_count": 19,
     "metadata": {},
     "output_type": "execute_result"
    }
   ],
   "source": [
    "from collections.abc import Iterable\n",
    "obj = range(10)\n",
    "isinstance(obj, Iterable)"
   ]
  },
  {
   "cell_type": "code",
   "execution_count": 21,
   "id": "19af32a0-516d-4ac1-bb33-bdf40e8a05f3",
   "metadata": {},
   "outputs": [
    {
     "name": "stdout",
     "output_type": "stream",
     "text": [
      "range(0, 10, 2)\n"
     ]
    }
   ],
   "source": [
    "print(range(0,10,2))"
   ]
  },
  {
   "cell_type": "code",
   "execution_count": 23,
   "id": "6a4eea03-f6f7-4ad1-bb21-a86483d04273",
   "metadata": {},
   "outputs": [
    {
     "name": "stdout",
     "output_type": "stream",
     "text": [
      "0\n",
      "2\n",
      "4\n",
      "6\n",
      "8\n"
     ]
    }
   ],
   "source": [
    "for i in range(0,10,2):\n",
    "    print(i)"
   ]
  },
  {
   "cell_type": "code",
   "execution_count": 25,
   "id": "57e28b23-eed7-4966-bfec-fdcabdb97793",
   "metadata": {},
   "outputs": [
    {
     "name": "stdout",
     "output_type": "stream",
     "text": [
      "a\n",
      "9\n",
      "[1, 2, 3]\n",
      "('a', 'b')\n"
     ]
    }
   ],
   "source": [
    "l = ['a', 9, [1,2,3], ('a','b')]\n",
    "for i in l :\n",
    "    print(i)"
   ]
  },
  {
   "cell_type": "code",
   "execution_count": 27,
   "id": "4c6dd4ef-031c-453f-b381-f9f23e133326",
   "metadata": {},
   "outputs": [
    {
     "name": "stdout",
     "output_type": "stream",
     "text": [
      "a\n",
      "9\n",
      "[1, 2, 3]\n",
      "('a', 'b')\n"
     ]
    }
   ],
   "source": [
    "for i in range(len(l)):\n",
    "    print(l[i])"
   ]
  },
  {
   "cell_type": "code",
   "execution_count": 29,
   "id": "fe22f147-bc7e-4ef1-b05a-cd10f6d3f849",
   "metadata": {},
   "outputs": [
    {
     "name": "stdout",
     "output_type": "stream",
     "text": [
      "10\n",
      "20\n",
      "1\n",
      "10\n",
      "20\n",
      "2\n",
      "10\n",
      "20\n",
      "3\n"
     ]
    }
   ],
   "source": [
    "for i in [1,2,3]:\n",
    "    for j in (10,20):\n",
    "        print(j)\n",
    "    print(i)"
   ]
  },
  {
   "cell_type": "code",
   "execution_count": 51,
   "id": "bb90761e-e859-4011-a0f7-435be1dba6ad",
   "metadata": {},
   "outputs": [
    {
     "name": "stdout",
     "output_type": "stream",
     "text": [
      "[1, 2]\n",
      "[3, 4]\n",
      "[5, 6]\n",
      "3\n",
      "7\n",
      "11\n"
     ]
    }
   ],
   "source": [
    "l = [[1,2],[3,4],[5,6]]\n",
    "for i in l:\n",
    "    print(i)\n",
    "for i,j in l:\n",
    "    print(i+j)"
   ]
  },
  {
   "cell_type": "code",
   "execution_count": 53,
   "id": "cb0d8c89-29c4-436b-980a-6486eebe6d72",
   "metadata": {},
   "outputs": [
    {
     "name": "stdout",
     "output_type": "stream",
     "text": [
      "i is e\n",
      "4\n"
     ]
    }
   ],
   "source": [
    "s = \"Hello\"\n",
    "cnt = 0 \n",
    "for i in s:\n",
    "    if(i == 'e'):\n",
    "        print(\"i is e\")\n",
    "        continue\n",
    "    cnt += 1\n",
    "print(cnt)"
   ]
  },
  {
   "cell_type": "code",
   "execution_count": 55,
   "id": "92672db1-8ba8-4f74-945d-f602a93e6efb",
   "metadata": {},
   "outputs": [
    {
     "name": "stdout",
     "output_type": "stream",
     "text": [
      "10\n",
      "9\n",
      "8\n",
      "7\n",
      "--end--\n"
     ]
    }
   ],
   "source": [
    "num = 10\n",
    "while(num > 0):\n",
    "    if(num == 6):\n",
    "        print(\"--end--\")\n",
    "        break\n",
    "    print(num)\n",
    "    num -= 1"
   ]
  },
  {
   "cell_type": "code",
   "execution_count": 61,
   "id": "328861a6-9ccf-4270-a47e-4a135e275daf",
   "metadata": {},
   "outputs": [
    {
     "name": "stdout",
     "output_type": "stream",
     "text": [
      "10, 9, 8, 7, 6, 5, 4, 3, 2, 1, "
     ]
    }
   ],
   "source": [
    "num = 10\n",
    "while(num>0):\n",
    "    print(num, end=\", \")\n",
    "    num -= 1\n",
    "    if(num ==6):\n",
    "        continue"
   ]
  },
  {
   "cell_type": "code",
   "execution_count": 63,
   "id": "7f954f9e-dafc-4e1a-8673-d72d6e4235c4",
   "metadata": {},
   "outputs": [
    {
     "name": "stdout",
     "output_type": "stream",
     "text": [
      "[0, 1, 2, 3, 4]\n"
     ]
    }
   ],
   "source": [
    "# 리스트 내포\n",
    "l = []\n",
    "for i in range(5):\n",
    "    l.append(i)\n",
    "print(l)"
   ]
  },
  {
   "cell_type": "code",
   "execution_count": 65,
   "id": "80d8021d-543c-4852-bcef-3d953f2586a4",
   "metadata": {},
   "outputs": [
    {
     "name": "stdout",
     "output_type": "stream",
     "text": [
      "[0, 1, 2, 3, 4]\n"
     ]
    }
   ],
   "source": [
    "print([i for i in range(5)])"
   ]
  },
  {
   "cell_type": "code",
   "execution_count": 67,
   "id": "59fe33c4-3684-4be4-8fe2-4c5e97dfe687",
   "metadata": {},
   "outputs": [
    {
     "name": "stdout",
     "output_type": "stream",
     "text": [
      "[0, 2, 4]\n"
     ]
    }
   ],
   "source": [
    "l = []\n",
    "for i in range(5):\n",
    "    if(i%2 == 0):\n",
    "        l.append(i)\n",
    "print(l)"
   ]
  },
  {
   "cell_type": "code",
   "execution_count": 71,
   "id": "8d680ae6-5676-436a-b36e-21c0a148389e",
   "metadata": {},
   "outputs": [
    {
     "name": "stdout",
     "output_type": "stream",
     "text": [
      "[0, 2, 4]\n"
     ]
    }
   ],
   "source": [
    "print([i for i in range(5) if i%2 == 0])"
   ]
  },
  {
   "cell_type": "code",
   "execution_count": 75,
   "id": "c9fabd3d-a996-41c4-a0e8-43a601248779",
   "metadata": {},
   "outputs": [
    {
     "name": "stdout",
     "output_type": "stream",
     "text": [
      "[0, 1, 2, 1, 2, 3, 2, 3, 4]\n"
     ]
    }
   ],
   "source": [
    "l = []\n",
    "for i in range(3):\n",
    "    for j in range(3):\n",
    "        l.append(i+j)\n",
    "print(l)"
   ]
  },
  {
   "cell_type": "code",
   "execution_count": 79,
   "id": "a8ef95c2-d363-4aad-b42a-29278b597c55",
   "metadata": {},
   "outputs": [
    {
     "name": "stdout",
     "output_type": "stream",
     "text": [
      "[0, 1, 2, 1, 2, 3, 2, 3, 4]\n"
     ]
    }
   ],
   "source": [
    "print([i+j for i in range(3) for j in range(3)])"
   ]
  },
  {
   "cell_type": "code",
   "execution_count": 95,
   "id": "2315bb10-6b07-490c-97af-5378f670c4aa",
   "metadata": {},
   "outputs": [
    {
     "name": "stdin",
     "output_type": "stream",
     "text": [
      "출력할 단 수를 입력해주세요 :  5\n"
     ]
    },
    {
     "name": "stdout",
     "output_type": "stream",
     "text": [
      "5  *  2  =  10\n",
      "5  *  3  =  15\n",
      "5  *  4  =  20\n",
      "5  *  5  =  25\n",
      "5  *  6  =  30\n",
      "5  *  7  =  35\n",
      "5  *  8  =  40\n",
      "5  *  9  =  45\n"
     ]
    }
   ],
   "source": [
    "num = input(\"출력할 단 수를 입력해주세요 : \")\n",
    "num = int(num)\n",
    "for i in range(2,10):\n",
    "    print(num,\" * \",i,\" = \",(num*i))"
   ]
  },
  {
   "cell_type": "code",
   "execution_count": 115,
   "id": "400aff86-a8dc-490a-8604-3e2621923545",
   "metadata": {},
   "outputs": [
    {
     "name": "stdout",
     "output_type": "stream",
     "text": [
      "=== 2단 ===\n",
      "2 X 2 = 4\n",
      "2 X 3 = 6\n",
      "2 X 4 = 8\n",
      "2 X 5 = 10\n",
      "2 X 6 = 12\n",
      "2 X 7 = 14\n",
      "2 X 8 = 16\n",
      "2 X 9 = 18\n",
      "=== 3단 ===\n",
      "3 X 2 = 6\n",
      "3 X 3 = 9\n",
      "3 X 4 = 12\n",
      "3 X 5 = 15\n",
      "3 X 6 = 18\n",
      "3 X 7 = 21\n",
      "3 X 8 = 24\n",
      "3 X 9 = 27\n",
      "=== 5단 ===\n",
      "5 X 2 = 10\n",
      "5 X 3 = 15\n",
      "5 X 4 = 20\n",
      "5 X 5 = 25\n",
      "5 X 6 = 30\n",
      "5 X 7 = 35\n",
      "5 X 8 = 40\n",
      "5 X 9 = 45\n",
      "=== 6단 ===\n",
      "6 X 2 = 12\n",
      "6 X 3 = 18\n",
      "6 X 4 = 24\n",
      "6 X 5 = 30\n",
      "6 X 6 = 36\n",
      "6 X 7 = 42\n",
      "6 X 8 = 48\n",
      "6 X 9 = 54\n",
      "=== 7단 ===\n",
      "7 X 2 = 14\n",
      "7 X 3 = 21\n",
      "7 X 4 = 28\n",
      "7 X 5 = 35\n",
      "7 X 6 = 42\n",
      "7 X 7 = 49\n",
      "7 X 8 = 56\n",
      "7 X 9 = 63\n",
      "=== 8단 ===\n",
      "8 X 2 = 16\n",
      "8 X 3 = 24\n",
      "8 X 4 = 32\n",
      "8 X 5 = 40\n",
      "8 X 6 = 48\n",
      "8 X 7 = 56\n",
      "8 X 8 = 64\n",
      "8 X 9 = 72\n",
      "=== 9단 ===\n",
      "9 X 2 = 18\n",
      "9 X 3 = 27\n",
      "9 X 4 = 36\n",
      "9 X 5 = 45\n",
      "9 X 6 = 54\n",
      "9 X 7 = 63\n",
      "9 X 8 = 72\n",
      "9 X 9 = 81\n"
     ]
    }
   ],
   "source": [
    "for i in range(2,10):\n",
    "    if(i == 4):\n",
    "        continue\n",
    "    print(\"=== {}단 ===\".format(i))\n",
    "    for j in range(2,10):\n",
    "        if(i == 4):\n",
    "            continue\n",
    "        print(\"{} X {} = {}\".format(i,j,i*j))"
   ]
  },
  {
   "cell_type": "code",
   "execution_count": null,
   "id": "c9a3ad9c-5f31-4a58-ae7a-7df836f36b54",
   "metadata": {},
   "outputs": [],
   "source": []
  }
 ],
 "metadata": {
  "kernelspec": {
   "display_name": "Python [conda env:base] *",
   "language": "python",
   "name": "conda-base-py"
  },
  "language_info": {
   "codemirror_mode": {
    "name": "ipython",
    "version": 3
   },
   "file_extension": ".py",
   "mimetype": "text/x-python",
   "name": "python",
   "nbconvert_exporter": "python",
   "pygments_lexer": "ipython3",
   "version": "3.12.7"
  }
 },
 "nbformat": 4,
 "nbformat_minor": 5
}
