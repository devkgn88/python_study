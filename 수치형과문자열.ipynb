{
 "cells": [
  {
   "cell_type": "code",
   "execution_count": 1,
   "id": "e56e81e7-2d4e-4230-8666-419e6698993f",
   "metadata": {},
   "outputs": [
    {
     "ename": "SyntaxError",
     "evalue": "unmatched ')' (2244563775.py, line 5)",
     "output_type": "error",
     "traceback": [
      "\u001b[1;36m  Cell \u001b[1;32mIn[1], line 5\u001b[1;36m\u001b[0m\n\u001b[1;33m    print(type(a)));\u001b[0m\n\u001b[1;37m                  ^\u001b[0m\n\u001b[1;31mSyntaxError\u001b[0m\u001b[1;31m:\u001b[0m unmatched ')'\n"
     ]
    }
   ],
   "source": [
    "a = 1\n",
    "b = '1'\n",
    "c = 1.0\n",
    "d = [1]\n",
    "print(type(a)));\n"
   ]
  },
  {
   "cell_type": "code",
   "execution_count": 12,
   "id": "ed426ca4-2275-4f7a-94b2-7af629494aee",
   "metadata": {},
   "outputs": [
    {
     "name": "stdout",
     "output_type": "stream",
     "text": [
      "<class 'int'>\n",
      "<class 'str'>\n",
      "<class 'float'>\n",
      "<class 'list'>\n"
     ]
    }
   ],
   "source": [
    "a = 1\n",
    "b = '1'\n",
    "c = 1.0\n",
    "d = [1]\n",
    "print(type(a));\n",
    "print(type(b));\n",
    "print(type(c));\n",
    "print(type(d));"
   ]
  },
  {
   "cell_type": "code",
   "execution_count": 14,
   "id": "6db551bd-1ec7-40e7-af06-b868e0866c74",
   "metadata": {},
   "outputs": [],
   "source": [
    "a = 1"
   ]
  },
  {
   "cell_type": "code",
   "execution_count": 16,
   "id": "97d4d102-6f5e-49b6-a7ab-a2eecc82db14",
   "metadata": {},
   "outputs": [
    {
     "data": {
      "text/plain": [
       "int"
      ]
     },
     "execution_count": 16,
     "metadata": {},
     "output_type": "execute_result"
    }
   ],
   "source": [
    "type(a)"
   ]
  },
  {
   "cell_type": "code",
   "execution_count": 18,
   "id": "5b9b7c74-e44a-407a-a1d5-7cf8b265c211",
   "metadata": {},
   "outputs": [],
   "source": [
    "b = '1'"
   ]
  },
  {
   "cell_type": "code",
   "execution_count": 20,
   "id": "c8ac1cae-083d-4eb1-ae72-1b7b4b28b829",
   "metadata": {},
   "outputs": [
    {
     "data": {
      "text/plain": [
       "str"
      ]
     },
     "execution_count": 20,
     "metadata": {},
     "output_type": "execute_result"
    }
   ],
   "source": [
    "type(b)"
   ]
  },
  {
   "cell_type": "code",
   "execution_count": 22,
   "id": "b6292a49-b834-40cd-80f6-a2529683af5d",
   "metadata": {},
   "outputs": [
    {
     "data": {
      "text/plain": [
       "float"
      ]
     },
     "execution_count": 22,
     "metadata": {},
     "output_type": "execute_result"
    }
   ],
   "source": [
    "c = 1.0\n",
    "type(c)"
   ]
  },
  {
   "cell_type": "code",
   "execution_count": 24,
   "id": "c85dbc44-12a1-4ddc-9d21-7e5fa15827b3",
   "metadata": {},
   "outputs": [
    {
     "name": "stdout",
     "output_type": "stream",
     "text": [
      "Hello,World\n"
     ]
    }
   ],
   "source": [
    "a = 'He'\n",
    "b = 'llo'\n",
    "c = ',World'\n",
    "print(a+b+c)"
   ]
  },
  {
   "cell_type": "code",
   "execution_count": 26,
   "id": "09771d9d-a52e-4c9d-aef1-dd65b0ead5db",
   "metadata": {},
   "outputs": [
    {
     "name": "stdout",
     "output_type": "stream",
     "text": [
      "123\n",
      "456\n"
     ]
    }
   ],
   "source": [
    "A = 123\n",
    "print(A)\n",
    "a = 456\n",
    "print(a)"
   ]
  },
  {
   "cell_type": "code",
   "execution_count": 28,
   "id": "dceab155-e3f5-49b7-bcaa-7436b9accb57",
   "metadata": {},
   "outputs": [
    {
     "ename": "SyntaxError",
     "evalue": "invalid syntax (928711893.py, line 1)",
     "output_type": "error",
     "traceback": [
      "\u001b[1;36m  Cell \u001b[1;32mIn[28], line 1\u001b[1;36m\u001b[0m\n\u001b[1;33m    $a = 400\u001b[0m\n\u001b[1;37m    ^\u001b[0m\n\u001b[1;31mSyntaxError\u001b[0m\u001b[1;31m:\u001b[0m invalid syntax\n"
     ]
    }
   ],
   "source": [
    "$a = 400\n",
    "print($a)"
   ]
  },
  {
   "cell_type": "code",
   "execution_count": 30,
   "id": "b891b18a-4215-4e17-a879-6586ee9a92cb",
   "metadata": {},
   "outputs": [
    {
     "name": "stdin",
     "output_type": "stream",
     "text": [
      " 1\n"
     ]
    }
   ],
   "source": [
    " input_num = input()"
   ]
  },
  {
   "cell_type": "code",
   "execution_count": 32,
   "id": "e543add3-9568-4dc1-bb44-efe36f3eace5",
   "metadata": {},
   "outputs": [
    {
     "name": "stdout",
     "output_type": "stream",
     "text": [
      "2\n"
     ]
    }
   ],
   "source": [
    "a = 1\n",
    "print(a+1)"
   ]
  },
  {
   "cell_type": "code",
   "execution_count": 34,
   "id": "7e4d5cd5-70a1-4606-b2c0-59ef11da07b3",
   "metadata": {},
   "outputs": [
    {
     "name": "stdout",
     "output_type": "stream",
     "text": [
      "11111 안녕하세요 345\n"
     ]
    }
   ],
   "source": [
    "print(11111,\"안녕하세요\",345)"
   ]
  },
  {
   "cell_type": "code",
   "execution_count": 36,
   "id": "c9ce2c4a-36c2-4f66-b55d-5ce140a81a2f",
   "metadata": {},
   "outputs": [
    {
     "name": "stdout",
     "output_type": "stream",
     "text": [
      "111\n",
      "안녕하세요\n",
      "345\n"
     ]
    }
   ],
   "source": [
    "print(111,\"안녕하세요\",345,sep=\"\\n\")"
   ]
  },
  {
   "cell_type": "code",
   "execution_count": 40,
   "id": "12250b9f-4bd9-4d9b-9364-7a79ecf6cb92",
   "metadata": {},
   "outputs": [
    {
     "name": "stdout",
     "output_type": "stream",
     "text": [
      "11\n"
     ]
    }
   ],
   "source": [
    "print(11, end=\"\\n\")\n"
   ]
  },
  {
   "cell_type": "code",
   "execution_count": 42,
   "id": "1c3dfa56-55ac-453b-86dc-7938cc2157ae",
   "metadata": {},
   "outputs": [],
   "source": [
    "# 주석입니다"
   ]
  },
  {
   "cell_type": "code",
   "execution_count": 44,
   "id": "ed38e260-ed8a-4d25-aa3f-57666fa4b1c5",
   "metadata": {},
   "outputs": [],
   "source": [
    "# rpint"
   ]
  },
  {
   "cell_type": "code",
   "execution_count": 46,
   "id": "8344c42c-ff4a-4dd1-8b73-e364af1b7003",
   "metadata": {},
   "outputs": [
    {
     "data": {
      "text/plain": [
       "'\\n이것은 여러줄 주석입니다.\\n'"
      ]
     },
     "execution_count": 46,
     "metadata": {},
     "output_type": "execute_result"
    }
   ],
   "source": [
    "'''\n",
    "이것은 여러줄 주석입니다.\n",
    "'''"
   ]
  },
  {
   "cell_type": "code",
   "execution_count": 48,
   "id": "275424a8-78d1-410e-8f47-58b74c12030b",
   "metadata": {},
   "outputs": [
    {
     "name": "stdout",
     "output_type": "stream",
     "text": [
      "1 2\n",
      "2 1\n"
     ]
    }
   ],
   "source": [
    "a = 1; b = 2;\n",
    "print(a,b)\n",
    "a,b = b,1\n",
    "print(a,b)"
   ]
  },
  {
   "cell_type": "code",
   "execution_count": 50,
   "id": "9a18e83b-57f4-4526-8930-c90f7081855a",
   "metadata": {},
   "outputs": [
    {
     "name": "stdout",
     "output_type": "stream",
     "text": [
      "['False', 'None', 'True', 'and', 'as', 'assert', 'async', 'await', 'break', 'class', 'continue', 'def', 'del', 'elif', 'else', 'except', 'finally', 'for', 'from', 'global', 'if', 'import', 'in', 'is', 'lambda', 'nonlocal', 'not', 'or', 'pass', 'raise', 'return', 'try', 'while', 'with', 'yield']\n"
     ]
    }
   ],
   "source": [
    "import keyword\n",
    "print(keyword.kwlist)"
   ]
  },
  {
   "cell_type": "code",
   "execution_count": 52,
   "id": "69bccbeb-1647-4cd0-b3ae-816486955451",
   "metadata": {},
   "outputs": [
    {
     "data": {
      "text/plain": [
       "'사'"
      ]
     },
     "execution_count": 52,
     "metadata": {},
     "output_type": "execute_result"
    }
   ],
   "source": [
    "max('가나다라마바사')"
   ]
  },
  {
   "cell_type": "code",
   "execution_count": 54,
   "id": "9d599e6a-cc51-4105-a9fd-08a298b475a0",
   "metadata": {},
   "outputs": [
    {
     "ename": "SyntaxError",
     "evalue": "unterminated string literal (detected at line 1) (1392812937.py, line 1)",
     "output_type": "error",
     "traceback": [
      "\u001b[1;36m  Cell \u001b[1;32mIn[54], line 1\u001b[1;36m\u001b[0m\n\u001b[1;33m    print('안녕하세요','학습자님','이번 회차도 수고하셨습니다.',sep=\")\u001b[0m\n\u001b[1;37m                                               ^\u001b[0m\n\u001b[1;31mSyntaxError\u001b[0m\u001b[1;31m:\u001b[0m unterminated string literal (detected at line 1)\n"
     ]
    }
   ],
   "source": [
    "print('안녕하세요','학습자님','이번 회차도 수고하셨습니다.',sep=\")"
   ]
  },
  {
   "cell_type": "code",
   "execution_count": 56,
   "id": "48cfb712-2564-4f50-95c0-3c938dc26985",
   "metadata": {},
   "outputs": [
    {
     "name": "stdout",
     "output_type": "stream",
     "text": [
      "안녕하세요\n",
      "학습자님\n",
      "이번 회차도 수고하셨습니다.\n"
     ]
    }
   ],
   "source": [
    "print('안녕하세요','학습자님','이번 회차도 수고하셨습니다.',sep=\"\\n\")"
   ]
  },
  {
   "cell_type": "code",
   "execution_count": 58,
   "id": "b7fbaad5-527f-4661-9400-e33798bcd5ab",
   "metadata": {},
   "outputs": [
    {
     "data": {
      "text/plain": [
       "3"
      ]
     },
     "execution_count": 58,
     "metadata": {},
     "output_type": "execute_result"
    }
   ],
   "source": [
    "a + b"
   ]
  },
  {
   "cell_type": "code",
   "execution_count": 60,
   "id": "e209a965-09bd-40cb-ae71-680e049d111c",
   "metadata": {},
   "outputs": [
    {
     "data": {
      "text/plain": [
       "1"
      ]
     },
     "execution_count": 60,
     "metadata": {},
     "output_type": "execute_result"
    }
   ],
   "source": [
    "a\n",
    "+b\n"
   ]
  },
  {
   "cell_type": "code",
   "execution_count": 62,
   "id": "71cfa82c-b59d-4f69-a63c-45d9ba7f7b2d",
   "metadata": {},
   "outputs": [
    {
     "name": "stdout",
     "output_type": "stream",
     "text": [
      "안녕하세요\n",
      "학습자님\n",
      "이번 회차도 수고하셨습니다.\n"
     ]
    }
   ],
   "source": [
    "#1 세미콜론 활용\n",
    "print(\"안녕하세요\");print(\"학습자님\");print(\"이번 회차도 수고하셨습니다.\");"
   ]
  },
  {
   "cell_type": "code",
   "execution_count": 64,
   "id": "d623aec3-5b07-4ca7-9399-29af7edd4aee",
   "metadata": {},
   "outputs": [
    {
     "name": "stdout",
     "output_type": "stream",
     "text": [
      "1\n"
     ]
    }
   ],
   "source": [
    "print(1)"
   ]
  },
  {
   "cell_type": "code",
   "execution_count": 66,
   "id": "3b9690ab-1b71-4f5e-a57a-ba79ca4741d7",
   "metadata": {},
   "outputs": [
    {
     "name": "stdout",
     "output_type": "stream",
     "text": [
      "1222"
     ]
    }
   ],
   "source": [
    "print(1,end=\"222\")"
   ]
  },
  {
   "cell_type": "code",
   "execution_count": 74,
   "id": "913783ac-2f9a-47bb-af00-3be9d1c049c4",
   "metadata": {},
   "outputs": [
    {
     "name": "stdout",
     "output_type": "stream",
     "text": [
      "1 22223332222\n"
     ]
    }
   ],
   "source": [
    "print(1,2222,end=\"333\")\n",
    "print(2222)"
   ]
  },
  {
   "cell_type": "code",
   "execution_count": 78,
   "id": "93e1304e-a2a3-45d1-aff8-71d1addad43c",
   "metadata": {},
   "outputs": [
    {
     "name": "stdin",
     "output_type": "stream",
     "text": [
      " 1\n",
      " 2\n"
     ]
    },
    {
     "name": "stdout",
     "output_type": "stream",
     "text": [
      "3\n"
     ]
    }
   ],
   "source": [
    "a = input()\n",
    "b = input()\n",
    "a = int(a)\n",
    "b = int(b)\n",
    "print(a+b)"
   ]
  },
  {
   "cell_type": "code",
   "execution_count": null,
   "id": "6d39339a-de67-4913-b018-ddc1ec0c13cb",
   "metadata": {},
   "outputs": [],
   "source": []
  }
 ],
 "metadata": {
  "kernelspec": {
   "display_name": "Python [conda env:base] *",
   "language": "python",
   "name": "conda-base-py"
  },
  "language_info": {
   "codemirror_mode": {
    "name": "ipython",
    "version": 3
   },
   "file_extension": ".py",
   "mimetype": "text/x-python",
   "name": "python",
   "nbconvert_exporter": "python",
   "pygments_lexer": "ipython3",
   "version": "3.12.7"
  }
 },
 "nbformat": 4,
 "nbformat_minor": 5
}
