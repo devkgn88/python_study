{
 "cells": [
  {
   "cell_type": "code",
   "execution_count": 7,
   "id": "e2e9041e-3eed-44c6-a205-29acd2789b4a",
   "metadata": {},
   "outputs": [
    {
     "name": "stdout",
     "output_type": "stream",
     "text": [
      "<class 'bool'>\n",
      "<class 'bool'>\n"
     ]
    }
   ],
   "source": [
    "# 프로그램의 실행 제어 -> 제어문 \n",
    "# 조건문 , 불(Bool), 관계 연산자, 논리 연산자\n",
    "# 불(Bool) 자료형 : 참과 거짓을 나타내는 자료형\n",
    "# 파이썬은 대소문자를 구별하기 때문에 True, False로 사용\n",
    "a = True\n",
    "print(type(a))\n",
    "b = False\n",
    "print(type(b))\n",
    "# a = true"
   ]
  },
  {
   "cell_type": "code",
   "execution_count": 25,
   "id": "e853408b-5359-45ef-9a1e-08a719dca44b",
   "metadata": {},
   "outputs": [
    {
     "name": "stdout",
     "output_type": "stream",
     "text": [
      "True\n",
      "False\n",
      "True\n",
      "False\n",
      "True\n",
      "False\n",
      "True\n",
      "False\n",
      "True\n"
     ]
    }
   ],
   "source": [
    "# 내장 함수 bool을 사용해 참과 거짓을 확인할 수 있음\n",
    "# 문자열\n",
    "print(bool(\"abcd\"))\n",
    "print(bool(\"\"))\n",
    "# 리스트\n",
    "print(bool([1,2,3]))\n",
    "print(bool([]))\n",
    "# 튜플\n",
    "print(bool((1,2,3)))\n",
    "print(bool(()))\n",
    "# 사전\n",
    "print(bool({'a':1,'b':2}))\n",
    "print(bool({}))\n",
    "# 숫자\n",
    "print(bool(1))\n",
    "print(bool(0))"
   ]
  },
  {
   "cell_type": "code",
   "execution_count": 27,
   "id": "2a3d9308-b855-4b35-b07a-e8b8f65d0204",
   "metadata": {},
   "outputs": [
    {
     "name": "stdout",
     "output_type": "stream",
     "text": [
      "True\n",
      "False\n",
      "True\n",
      "True\n",
      "True\n",
      "True\n"
     ]
    }
   ],
   "source": [
    "# 관계 연산자(비교 연산자)\n",
    "print(1 == 1)\n",
    "print(1 == 2)\n",
    "print(1 > 0)\n",
    "print(1 < 2)\n",
    "print(1 >= 1)\n",
    "print(1 != 0)"
   ]
  },
  {
   "cell_type": "code",
   "execution_count": 35,
   "id": "7e5dd969-f84d-4349-94b1-22917392bc59",
   "metadata": {},
   "outputs": [
    {
     "name": "stdout",
     "output_type": "stream",
     "text": [
      "False\n",
      "True\n",
      "False\n"
     ]
    }
   ],
   "source": [
    "# 논리 연산자 : and, or, not\n",
    "a = True\n",
    "b = False\n",
    "print(a and b)\n",
    "print(a or b)\n",
    "print(not a)"
   ]
  },
  {
   "cell_type": "code",
   "execution_count": 39,
   "id": "f5cb3396-00ac-468f-b8c3-6aa8c2615fca",
   "metadata": {},
   "outputs": [
    {
     "name": "stdout",
     "output_type": "stream",
     "text": [
      "True\n",
      "True\n"
     ]
    }
   ],
   "source": [
    "# 관계 연산자와 논리 연산자 함께 사용\n",
    "a = 1\n",
    "b = 2\n",
    "print(a > 0 and b > 1)\n",
    "print(a == 0 or b != 1)"
   ]
  },
  {
   "cell_type": "code",
   "execution_count": 43,
   "id": "06224767-72fe-4b00-b678-e96ca0487830",
   "metadata": {},
   "outputs": [
    {
     "name": "stdout",
     "output_type": "stream",
     "text": [
      "b\n",
      "a\n"
     ]
    }
   ],
   "source": [
    "print(\"a\" and \"b\")\n",
    "print(\"a\" or \"b\")"
   ]
  },
  {
   "cell_type": "code",
   "execution_count": 49,
   "id": "63e0729d-e587-4ac3-ab36-0476cc0f5da4",
   "metadata": {},
   "outputs": [
    {
     "name": "stdout",
     "output_type": "stream",
     "text": [
      "2\n"
     ]
    }
   ],
   "source": [
    "# 조건문 : 프로그램의 실행을 제어하기 위한 제어문 중 하나\n",
    "if(False):\n",
    "    print(1)\n",
    "print(2)"
   ]
  },
  {
   "cell_type": "code",
   "execution_count": 51,
   "id": "f7d19c5c-f5f7-4914-acc0-29a411ceb62c",
   "metadata": {},
   "outputs": [
    {
     "name": "stdout",
     "output_type": "stream",
     "text": [
      "2\n"
     ]
    }
   ],
   "source": [
    "# if else 조건문\n",
    "a = 2\n",
    "if(a==1):\n",
    "    print(1)\n",
    "else:\n",
    "    print(2)"
   ]
  },
  {
   "cell_type": "code",
   "execution_count": 57,
   "id": "6829f94d-6f2b-4e98-b4db-b81bc32be10f",
   "metadata": {},
   "outputs": [
    {
     "name": "stdout",
     "output_type": "stream",
     "text": [
      "2\n"
     ]
    }
   ],
   "source": [
    "# if elif else 조건문\n",
    "a=2\n",
    "if(a==1):\n",
    "    print(1)\n",
    "elif(a==2):\n",
    "    print(2)\n",
    "elif(a==3):\n",
    "    print(3)\n",
    "else:\n",
    "    print(4)"
   ]
  },
  {
   "cell_type": "code",
   "execution_count": 59,
   "id": "a24ccb83-9250-4f9f-9b78-1b89530e24f3",
   "metadata": {},
   "outputs": [
    {
     "name": "stdout",
     "output_type": "stream",
     "text": [
      "2\n"
     ]
    }
   ],
   "source": [
    "# 중첩 조건문\n",
    "a = 1\n",
    "b = 2\n",
    "if(a ==1):\n",
    "    if(b==3):\n",
    "        print(1)\n",
    "    else:\n",
    "        print(2)\n",
    "else:\n",
    "    print(3)"
   ]
  },
  {
   "cell_type": "code",
   "execution_count": 61,
   "id": "c6bd381b-4fdd-4148-9a49-8b210bccb934",
   "metadata": {},
   "outputs": [
    {
     "name": "stdout",
     "output_type": "stream",
     "text": [
      "1\n"
     ]
    }
   ],
   "source": [
    "a = 4\n",
    "if (a > 3):\n",
    "    print(1)"
   ]
  },
  {
   "cell_type": "code",
   "execution_count": 67,
   "id": "d3755c62-ea00-4c70-9c10-480d84902b86",
   "metadata": {},
   "outputs": [
    {
     "name": "stdout",
     "output_type": "stream",
     "text": [
      "4\n"
     ]
    }
   ],
   "source": [
    "a = 4\n",
    "if a == 1:\n",
    "    print(1)\n",
    "elif a == 2:\n",
    "    print(2)\n",
    "elif a ==3:\n",
    "    print(3)\n",
    "else:\n",
    "    print(4)"
   ]
  },
  {
   "cell_type": "code",
   "execution_count": 75,
   "id": "026715a0-5069-485f-81e8-8057992308a1",
   "metadata": {},
   "outputs": [
    {
     "name": "stdout",
     "output_type": "stream",
     "text": [
      "a is 1\n"
     ]
    }
   ],
   "source": [
    "a = 1\n",
    "if(a == 1):\n",
    "    msg = 'a is 1'\n",
    "else:\n",
    "    msg = 'a is not 1'\n",
    "print(msg)"
   ]
  },
  {
   "cell_type": "code",
   "execution_count": 73,
   "id": "34fe7f71-3167-4013-bea5-2a84fa336c63",
   "metadata": {},
   "outputs": [
    {
     "name": "stdout",
     "output_type": "stream",
     "text": [
      "a is 1\n"
     ]
    }
   ],
   "source": [
    "# 연산자를 활용한 조건문\n",
    "# 조건부 표현식 \n",
    "msg2 = \"a is 1\" if(a==1) else \"a is not 1\"\n",
    "print(msg2)"
   ]
  },
  {
   "cell_type": "code",
   "execution_count": 79,
   "id": "643bf4be-f4ea-4132-b485-144bc56a788a",
   "metadata": {},
   "outputs": [
    {
     "name": "stdin",
     "output_type": "stream",
     "text": [
      "키를 입력해주세요 :  180\n",
      "몸무게를 입력해주세요 :  80\n"
     ]
    },
    {
     "name": "stdout",
     "output_type": "stream",
     "text": [
      "남자\n"
     ]
    }
   ],
   "source": [
    "# 키와 몸무게를 입력받아 남자인지 여자인지 판단\n",
    "a = int(input(\"키를 입력해주세요 : \"))\n",
    "b = int(input(\"몸무게를 입력해주세요 : \"))\n",
    "if(a > 180):\n",
    "    print('남자')\n",
    "elif(a < 160):\n",
    "    print('여자')\n",
    "else:\n",
    "    if(b > (a-110)):\n",
    "        print('남자')\n",
    "    else:\n",
    "        print('여자')"
   ]
  },
  {
   "cell_type": "code",
   "execution_count": 81,
   "id": "ccf563a7-0e0a-4a6e-ba7e-b1fe8ab57dff",
   "metadata": {},
   "outputs": [
    {
     "name": "stdout",
     "output_type": "stream",
     "text": [
      "a는 양수입니다. a는 0이 아닙니다.\n"
     ]
    }
   ],
   "source": [
    "a = 1\n",
    "if(a > 0):\n",
    "    msg = \"a는 양수입니다.\"\n",
    "else:\n",
    "    msg = \"a는 음수입니다.\"\n",
    "if(a==0):\n",
    "    msg2 = \"a는 0입니다\"\n",
    "else:\n",
    "    msg2 = \"a는 0이 아닙니다.\"\n",
    "print(msg,msg2)"
   ]
  },
  {
   "cell_type": "code",
   "execution_count": 85,
   "id": "82ceff4f-9854-43ea-8458-011f2e475908",
   "metadata": {},
   "outputs": [
    {
     "name": "stdout",
     "output_type": "stream",
     "text": [
      "a는 양수입니다. a는 0이 아닙니다\n"
     ]
    }
   ],
   "source": [
    "msg = \"a는 양수입니다.\" if(a>0) else \"a는 음수입니다.\"\n",
    "msg2 = \"a는 0입니다.\" if(a==0) else \"a는 0이 아닙니다\"\n",
    "print(msg,msg2)"
   ]
  }
 ],
 "metadata": {
  "kernelspec": {
   "display_name": "Python [conda env:base] *",
   "language": "python",
   "name": "conda-base-py"
  },
  "language_info": {
   "codemirror_mode": {
    "name": "ipython",
    "version": 3
   },
   "file_extension": ".py",
   "mimetype": "text/x-python",
   "name": "python",
   "nbconvert_exporter": "python",
   "pygments_lexer": "ipython3",
   "version": "3.12.7"
  }
 },
 "nbformat": 4,
 "nbformat_minor": 5
}
