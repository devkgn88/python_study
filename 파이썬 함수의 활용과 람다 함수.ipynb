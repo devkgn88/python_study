{
 "cells": [
  {
   "cell_type": "code",
   "execution_count": 1,
   "id": "440ca97b-2239-46ac-9787-fb31aa42cb72",
   "metadata": {},
   "outputs": [
    {
     "name": "stdout",
     "output_type": "stream",
     "text": [
      "7\n"
     ]
    }
   ],
   "source": [
    "# 람다 함수 : 리스트 내포, 조건부 표현식 등과 같이 여러 줄의 코드를 간결하게 표현할 수 있게 도와줌\n",
    "# lamda로 정의할 수 있고, def와 같은 역할\n",
    "# 함수의 이름을 정의하지 않고, 일회성으로 간편하게 사용할때 유용\n",
    "# def로 정의할만큼 복잡하지 않을때 활용(익명함수)\n",
    "def add(a,b):\n",
    "    return a+b\n",
    "result = add(3,4)\n",
    "print(result)"
   ]
  },
  {
   "cell_type": "code",
   "execution_count": 7,
   "id": "ae2465c1-d02d-48a1-a494-2e125505d1e7",
   "metadata": {},
   "outputs": [
    {
     "name": "stdout",
     "output_type": "stream",
     "text": [
      "7\n"
     ]
    }
   ],
   "source": [
    "add = lambda a, b: a+b\n",
    "result = add(3,4)\n",
    "print(result)"
   ]
  },
  {
   "cell_type": "code",
   "execution_count": 13,
   "id": "015fabdd-ffd9-41f1-bc41-22bb49f93fb7",
   "metadata": {},
   "outputs": [
    {
     "name": "stdout",
     "output_type": "stream",
     "text": [
      "7\n"
     ]
    }
   ],
   "source": [
    "# 따로 변수에 할당하지 않고 바로 한 줄로 표현 가능 \n",
    "print((lambda a,b:a+b)(3,4))"
   ]
  },
  {
   "cell_type": "code",
   "execution_count": 23,
   "id": "b053a0f8-e0ed-4e6f-9306-5d725a49689d",
   "metadata": {},
   "outputs": [
    {
     "name": "stdout",
     "output_type": "stream",
     "text": [
      "4\n",
      "4\n",
      "(3, 4, 5, 3, 4, 5, 3, 4, 5)\n"
     ]
    }
   ],
   "source": [
    "# 기본 매개변수와 람다\n",
    "print((lambda a,b=1:a+b)(3))\n",
    "# 키워드 매개변수와 람다\n",
    "print((lambda a,b:a+b)(b=1,a=3))\n",
    "# 가변 매개변수와 람다\n",
    "print((lambda a, *b:a*b)(3,3,4,5))"
   ]
  },
  {
   "cell_type": "code",
   "execution_count": 29,
   "id": "ae56d3d2-88bb-4f6b-97de-059b0537940e",
   "metadata": {},
   "outputs": [
    {
     "name": "stdout",
     "output_type": "stream",
     "text": [
      "3\n",
      "3\n"
     ]
    }
   ],
   "source": [
    "# 조건문과 함께 사용 가능\n",
    "print((lambda a,b:a if a%2 ==0 else b)(1,3))\n",
    "# 동일한 코드를 기본 함수로 작성시 \n",
    "def func(a,b):\n",
    "    if a%2==0:\n",
    "        return a\n",
    "    else:\n",
    "        return b\n",
    "print(func(1,3))"
   ]
  },
  {
   "cell_type": "code",
   "execution_count": 31,
   "id": "d8a1524e-99a7-4aed-a86f-1948205a1981",
   "metadata": {},
   "outputs": [
    {
     "name": "stdout",
     "output_type": "stream",
     "text": [
      "<class 'map'>\n",
      "[1, 4, 9, 16, 25]\n"
     ]
    }
   ],
   "source": [
    "# 람다 함수 활용\n",
    "# map 내장 함수와 함께 활용\n",
    "# 시퀀스 자료형이 지닌 각 요소 값들에 대해 함수에 적용한 요소를 지닌 map 객체로 반환\n",
    "def func(x):\n",
    "    return x*x\n",
    "a = [1,2,3,4,5]\n",
    "b = map(func,a)\n",
    "print(type(b))\n",
    "print(list(b))"
   ]
  },
  {
   "cell_type": "code",
   "execution_count": 33,
   "id": "23540b15-d2d8-41a1-bb62-66bdb848d990",
   "metadata": {},
   "outputs": [
    {
     "name": "stdout",
     "output_type": "stream",
     "text": [
      "[1, 4, 9, 16, 25]\n"
     ]
    }
   ],
   "source": [
    "# 기본 함수로 작성한 경우 \n",
    "def func(x):\n",
    "    return x*x\n",
    "a = [1,2,3,4,5]\n",
    "b = []\n",
    "for x in a:\n",
    "    y = func(x)\n",
    "    b.append(y)\n",
    "print(b)"
   ]
  },
  {
   "cell_type": "code",
   "execution_count": 37,
   "id": "6f73389d-492a-4730-8a5e-eefa2e39b3b4",
   "metadata": {},
   "outputs": [
    {
     "name": "stdout",
     "output_type": "stream",
     "text": [
      "[1, 4, 9, 16, 25]\n"
     ]
    }
   ],
   "source": [
    "print(list(map(lambda x:x*x, [1,2,3,4,5])))"
   ]
  },
  {
   "cell_type": "code",
   "execution_count": 39,
   "id": "a2964b38-d90e-4ad4-af3e-1bc92b6a7af6",
   "metadata": {},
   "outputs": [
    {
     "name": "stdout",
     "output_type": "stream",
     "text": [
      "[3, 34]\n"
     ]
    }
   ],
   "source": [
    "# filter 내장 함수와 함께 활용\n",
    "# 시퀀스 자료형이 지닌 각 요소 값들에 대해 함수에 적용한 결과가 참인 원소값만을 지닌 filter 객체 반환\n",
    "def func(x):\n",
    "    return x>2\n",
    "a = [1,2,3,34]\n",
    "b = []\n",
    "for x in a:\n",
    "    if func(x):\n",
    "        b.append(x)\n",
    "print(b)"
   ]
  },
  {
   "cell_type": "code",
   "execution_count": 41,
   "id": "95dee0b6-8949-46d0-8abe-9bd43f12d949",
   "metadata": {},
   "outputs": [
    {
     "name": "stdout",
     "output_type": "stream",
     "text": [
      "[3, 34]\n"
     ]
    }
   ],
   "source": [
    "def func(x):\n",
    "    return x>2\n",
    "\n",
    "a = [1,2,3,34]\n",
    "b = []\n",
    "print(list(filter(func,a)))"
   ]
  },
  {
   "cell_type": "code",
   "execution_count": 45,
   "id": "469b7846-c4bb-4523-97f1-eab285130c96",
   "metadata": {},
   "outputs": [
    {
     "name": "stdout",
     "output_type": "stream",
     "text": [
      "[3, 34]\n"
     ]
    }
   ],
   "source": [
    "print(list(filter(lambda x: x>2, [1,2,3,34])))"
   ]
  },
  {
   "cell_type": "code",
   "execution_count": 49,
   "id": "c48d5a72-a953-4ff4-9e2f-9207ae1a7902",
   "metadata": {},
   "outputs": [
    {
     "name": "stdout",
     "output_type": "stream",
     "text": [
      "[('영수', 'A', 15), ('영희', 'C', 10), ('철수', 'B', 16)]\n",
      "[('영수', 'A', 15), ('철수', 'B', 16), ('영희', 'C', 10)]\n",
      "[('영희', 'C', 10), ('영수', 'A', 15), ('철수', 'B', 16)]\n"
     ]
    }
   ],
   "source": [
    "# 복잡한 객체를 정렬할 때 활용\n",
    "students = [\n",
    "    ('영수', 'A', 15),\n",
    "    ('철수', 'B', 16),\n",
    "    ('영희', 'C', 10)\n",
    "]\n",
    "print(sorted(students))\n",
    "print(sorted(students, key=lambda x:x[1]))\n",
    "print(sorted(students, key=lambda x:x[2]))"
   ]
  },
  {
   "cell_type": "code",
   "execution_count": 51,
   "id": "fa1260d4-549a-42e2-9a6a-90139288ae68",
   "metadata": {},
   "outputs": [
    {
     "name": "stdout",
     "output_type": "stream",
     "text": [
      "3 x 4 = 12\n"
     ]
    }
   ],
   "source": [
    "# 문자열 포맷팅과 함께 활용\n",
    "print((lambda x,y:'{} x {} = {}'.format(x,y,x*y))(3,4))"
   ]
  },
  {
   "cell_type": "code",
   "execution_count": 4,
   "id": "ee010083-411e-4b61-bd38-1886b236f66d",
   "metadata": {},
   "outputs": [
    {
     "name": "stdout",
     "output_type": "stream",
     "text": [
      "1307674368000\n"
     ]
    }
   ],
   "source": [
    "# 재귀함수 : 자기 자신을 호출하는 함수\n",
    "# 일정기간 반복하여 자기 자신을 호출할 경우 오류 발생 -> 종료 조건이 필요함\n",
    "# 팩토리얼 실습 : 1부터 n까지의 곱셈의 결과 \n",
    "def factorial(n):\n",
    "    if n == 0:\n",
    "        return 1\n",
    "    return n * factorial(n-1)\n",
    "    \n",
    "print(factorial(15))"
   ]
  },
  {
   "cell_type": "code",
   "execution_count": 6,
   "id": "d2d9e56d-99b1-4f6e-ade5-8e10777280e6",
   "metadata": {},
   "outputs": [
    {
     "name": "stdout",
     "output_type": "stream",
     "text": [
      "120\n"
     ]
    }
   ],
   "source": [
    "# 람다 함수는 함수명이 없기 때문에 변수에 저장하여 활용\n",
    "fact = lambda x : x == 0 and 1 or x * fact(x-1)\n",
    "print(fact(5))"
   ]
  },
  {
   "cell_type": "code",
   "execution_count": 12,
   "id": "78e9b076-80cd-475a-ae65-36d74808e671",
   "metadata": {},
   "outputs": [
    {
     "name": "stdout",
     "output_type": "stream",
     "text": [
      "['2 X 1 = 2', '2 X 2 = 4', '2 X 3 = 6', '2 X 4 = 8', '2 X 5 = 10', '2 X 6 = 12', '2 X 7 = 14', '2 X 8 = 16', '2 X 9 = 18', '3 X 1 = 3', '3 X 2 = 6', '3 X 3 = 9', '3 X 4 = 12', '3 X 5 = 15', '3 X 6 = 18', '3 X 7 = 21', '3 X 8 = 24', '3 X 9 = 27', '4 X 1 = 4', '4 X 2 = 8', '4 X 3 = 12', '4 X 4 = 16', '4 X 5 = 20', '4 X 6 = 24', '4 X 7 = 28', '4 X 8 = 32', '4 X 9 = 36', '5 X 1 = 5', '5 X 2 = 10', '5 X 3 = 15', '5 X 4 = 20', '5 X 5 = 25', '5 X 6 = 30', '5 X 7 = 35', '5 X 8 = 40', '5 X 9 = 45', '6 X 1 = 6', '6 X 2 = 12', '6 X 3 = 18', '6 X 4 = 24', '6 X 5 = 30', '6 X 6 = 36', '6 X 7 = 42', '6 X 8 = 48', '6 X 9 = 54', '7 X 1 = 7', '7 X 2 = 14', '7 X 3 = 21', '7 X 4 = 28', '7 X 5 = 35', '7 X 6 = 42', '7 X 7 = 49', '7 X 8 = 56', '7 X 9 = 63', '8 X 1 = 8', '8 X 2 = 16', '8 X 3 = 24', '8 X 4 = 32', '8 X 5 = 40', '8 X 6 = 48', '8 X 7 = 56', '8 X 8 = 64', '8 X 9 = 72', '9 X 1 = 9', '9 X 2 = 18', '9 X 3 = 27', '9 X 4 = 36', '9 X 5 = 45', '9 X 6 = 54', '9 X 7 = 63', '9 X 8 = 72', '9 X 9 = 81']\n"
     ]
    }
   ],
   "source": [
    "# 구구단 출력 실습\n",
    "# 다음 코드를 람다 함수와 리스트 내포를 활용해 한 줄로 작성\n",
    "l = []\n",
    "for i in range(2,10):\n",
    "    for j in range(1,10):\n",
    "        l.append(\"{} X {} = {}\".format(i,j,i*j))\n",
    "print(l)\n"
   ]
  },
  {
   "cell_type": "code",
   "execution_count": 16,
   "id": "366be2ea-2d76-4d2d-8dad-0af4c026c0b4",
   "metadata": {},
   "outputs": [
    {
     "name": "stdout",
     "output_type": "stream",
     "text": [
      "[2, 4, 6, 8, 10, 12, 14, 16, 18, 3, 6, 9, 12, 15, 18, 21, 24, 27, 4, 8, 12, 16, 20, 24, 28, 32, 36, 5, 10, 15, 20, 25, 30, 35, 40, 45, 6, 12, 18, 24, 30, 36, 42, 48, 54, 7, 14, 21, 28, 35, 42, 49, 56, 63, 8, 16, 24, 32, 40, 48, 56, 64, 72, 9, 18, 27, 36, 45, 54, 63, 72, 81]\n",
      "3 X 4 = 12\n"
     ]
    }
   ],
   "source": [
    "print([x * y for x in range(2,10) for y in range(1,10)])\n",
    "def func(a,b):\n",
    "    return \"{} X {} = {}\".format(a,b,a*b)\n",
    "print(func(3,4))"
   ]
  },
  {
   "cell_type": "code",
   "execution_count": 18,
   "id": "3638a9b4-bb3a-4d4e-86c2-2a975bbb5445",
   "metadata": {},
   "outputs": [
    {
     "name": "stdout",
     "output_type": "stream",
     "text": [
      "3 X 4 = 12\n"
     ]
    }
   ],
   "source": [
    "print((lambda x,y: '{} X {} = {}'.format(x,y,x*y))(3,4))"
   ]
  },
  {
   "cell_type": "code",
   "execution_count": 20,
   "id": "203bad6e-bf86-42f0-b956-782940813b56",
   "metadata": {},
   "outputs": [
    {
     "name": "stdout",
     "output_type": "stream",
     "text": [
      "['2 X 1 = 2', '2 X 2 = 4', '2 X 3 = 6', '2 X 4 = 8', '2 X 5 = 10', '2 X 6 = 12', '2 X 7 = 14', '2 X 8 = 16', '2 X 9 = 18', '3 X 1 = 3', '3 X 2 = 6', '3 X 3 = 9', '3 X 4 = 12', '3 X 5 = 15', '3 X 6 = 18', '3 X 7 = 21', '3 X 8 = 24', '3 X 9 = 27', '4 X 1 = 4', '4 X 2 = 8', '4 X 3 = 12', '4 X 4 = 16', '4 X 5 = 20', '4 X 6 = 24', '4 X 7 = 28', '4 X 8 = 32', '4 X 9 = 36', '5 X 1 = 5', '5 X 2 = 10', '5 X 3 = 15', '5 X 4 = 20', '5 X 5 = 25', '5 X 6 = 30', '5 X 7 = 35', '5 X 8 = 40', '5 X 9 = 45', '6 X 1 = 6', '6 X 2 = 12', '6 X 3 = 18', '6 X 4 = 24', '6 X 5 = 30', '6 X 6 = 36', '6 X 7 = 42', '6 X 8 = 48', '6 X 9 = 54', '7 X 1 = 7', '7 X 2 = 14', '7 X 3 = 21', '7 X 4 = 28', '7 X 5 = 35', '7 X 6 = 42', '7 X 7 = 49', '7 X 8 = 56', '7 X 9 = 63', '8 X 1 = 8', '8 X 2 = 16', '8 X 3 = 24', '8 X 4 = 32', '8 X 5 = 40', '8 X 6 = 48', '8 X 7 = 56', '8 X 8 = 64', '8 X 9 = 72', '9 X 1 = 9', '9 X 2 = 18', '9 X 3 = 27', '9 X 4 = 36', '9 X 5 = 45', '9 X 6 = 54', '9 X 7 = 63', '9 X 8 = 72', '9 X 9 = 81']\n"
     ]
    }
   ],
   "source": [
    "print([(lambda x,y:'{} X {} = {}'.format(x,y,x*y))(x,y)for x in range(2,10) for y in range(1,10)])"
   ]
  },
  {
   "cell_type": "code",
   "execution_count": 22,
   "id": "ef0dbc9f-a0a9-43e8-a144-d1b47db60cb1",
   "metadata": {},
   "outputs": [
    {
     "name": "stdout",
     "output_type": "stream",
     "text": [
      "a가 10보다 크다\n"
     ]
    }
   ],
   "source": [
    "# 1. 한 줄의 람다 함수로 변경\n",
    "def func(a):\n",
    "    if a > 10:\n",
    "        return 'a가 10보다 크다'\n",
    "    else:\n",
    "        return 'a가 10보다 작다'\n",
    "print(func(14))"
   ]
  },
  {
   "cell_type": "code",
   "execution_count": 24,
   "id": "101ac329-1d59-468a-a00b-2cb80ec46c6d",
   "metadata": {},
   "outputs": [
    {
     "name": "stdout",
     "output_type": "stream",
     "text": [
      "a가 10보다 크다\n"
     ]
    }
   ],
   "source": [
    "print((lambda a:'a가 10보다 크다'if a>10 else 'a가 10보다 작다')(14))"
   ]
  },
  {
   "cell_type": "code",
   "execution_count": 46,
   "id": "ecdfb15c-d4d2-42db-a06b-496928679d34",
   "metadata": {},
   "outputs": [
    {
     "name": "stdout",
     "output_type": "stream",
     "text": [
      "[0, 1, 4, 9, 16]\n"
     ]
    }
   ],
   "source": [
    "# 2. map 함수와 람다 함수 활용\n",
    "# 다음의 코드를 map함수와 람다 함수를 활용하여 한줄의 코드로 변경하기\n",
    "def func(a):\n",
    "    l = []\n",
    "    for i in range(a):\n",
    "        l.append(i**2)\n",
    "    return l\n",
    "print(func(5))"
   ]
  },
  {
   "cell_type": "code",
   "execution_count": 44,
   "id": "f136e0c4-ced5-45e3-b97c-af9ea3e40e7c",
   "metadata": {},
   "outputs": [
    {
     "name": "stdout",
     "output_type": "stream",
     "text": [
      "[0, 1, 4, 9, 16]\n"
     ]
    }
   ],
   "source": [
    "print(list(map((lambda a: a**2),range(5))))"
   ]
  }
 ],
 "metadata": {
  "kernelspec": {
   "display_name": "Python [conda env:base] *",
   "language": "python",
   "name": "conda-base-py"
  },
  "language_info": {
   "codemirror_mode": {
    "name": "ipython",
    "version": 3
   },
   "file_extension": ".py",
   "mimetype": "text/x-python",
   "name": "python",
   "nbconvert_exporter": "python",
   "pygments_lexer": "ipython3",
   "version": "3.12.7"
  }
 },
 "nbformat": 4,
 "nbformat_minor": 5
}
