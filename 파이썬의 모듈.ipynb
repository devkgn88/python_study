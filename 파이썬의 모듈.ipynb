{
 "cells": [
  {
   "cell_type": "code",
   "execution_count": 1,
   "id": "06f4d187-e377-4889-9a08-72728866d274",
   "metadata": {},
   "outputs": [
    {
     "name": "stdout",
     "output_type": "stream",
     "text": [
      "['False', 'None', 'True', 'and', 'as', 'assert', 'async', 'await', 'break', 'class', 'continue', 'def', 'del', 'elif', 'else', 'except', 'finally', 'for', 'from', 'global', 'if', 'import', 'in', 'is', 'lambda', 'nonlocal', 'not', 'or', 'pass', 'raise', 'return', 'try', 'while', 'with', 'yield']\n"
     ]
    }
   ],
   "source": [
    "# 파이썬의 모듈 : 코드를 논리적으로 묶어서 관리하고 사용할 수 있도록 하는 것\n",
    "# 하나의 파이썬 .py 파일이 하나의 모듈\n",
    "# 표준 모듈, 사용자 정의 모듈, 외부 모듈(3rd party)\n",
    "# 모듈의 호출 방법(import 모듈명)\n",
    "# as(alias)를 활용해 긴 모듈명을 줄일 수 있음\n",
    "import keyword as k\n",
    "print(k.kwlist)"
   ]
  },
  {
   "cell_type": "code",
   "execution_count": 3,
   "id": "4e8fc822-6733-48c4-9f27-a742b9357e75",
   "metadata": {},
   "outputs": [],
   "source": [
    "# 모듈의 장점\n",
    "# 1. 중복된 코드의 재작성을 줄일 수 있음\n",
    "# 2. 전체 코드를 관련된 모듈들로 분리하여 설계 \n",
    "# 3. 별도의 이름 공간(또하나의 namespace)을 제공\n",
    "\n",
    "# 파이썬이 모듈을 검색하는 순서\n",
    "# 1. 이미 메모리에 로딩된 모듈\n",
    "# 2. 현재 디렉토리에 있는 .py파일\n",
    "# 3. 환경변수에 등록된 경로에 있는 파일들\n",
    "# 4. 표준 모듈 목록"
   ]
  },
  {
   "cell_type": "code",
   "execution_count": 7,
   "id": "1ceeb87c-7b06-45f6-b2fa-ec18f16d60c8",
   "metadata": {},
   "outputs": [
    {
     "name": "stdout",
     "output_type": "stream",
     "text": [
      "C:\\ProgramData\\anaconda3\\Lib\\keyword.py\n"
     ]
    }
   ],
   "source": [
    "# 파이썬 표준 모듈 : 수정은 가능하지만 권장X\n",
    "# help(\"modules\")\n",
    "# 아나콘다로 파이썬을 설치한 경우 lib 폴더에서 확인 가능\n",
    "import keyword\n",
    "print(keyword.__file__)"
   ]
  },
  {
   "cell_type": "code",
   "execution_count": 9,
   "id": "e4e290c3-71a1-4e9d-9b98-6d763c71e09b",
   "metadata": {},
   "outputs": [
    {
     "name": "stdout",
     "output_type": "stream",
     "text": [
      "C:\\Users\\ganam\n"
     ]
    }
   ],
   "source": [
    "# os모듈 : 운영체제와 상호작용하기 위한 수십가지 함수 제공\n",
    "import os\n",
    "print(os.getcwd())"
   ]
  },
  {
   "cell_type": "code",
   "execution_count": 13,
   "id": "4d5fe934-9f78-4a34-9aa7-2a951eb6cbf7",
   "metadata": {},
   "outputs": [
    {
     "name": "stdout",
     "output_type": "stream",
     "text": [
      "time.struct_time(tm_year=2025, tm_mon=4, tm_mday=23, tm_hour=18, tm_min=24, tm_sec=25, tm_wday=2, tm_yday=113, tm_isdst=0)\n",
      "time.struct_time(tm_year=2025, tm_mon=4, tm_mday=23, tm_hour=18, tm_min=24, tm_sec=26, tm_wday=2, tm_yday=113, tm_isdst=0)\n"
     ]
    }
   ],
   "source": [
    "# time 모듈 : 시간과 관련된 여러 함수 제공\n",
    "import time\n",
    "print(time.localtime())\n",
    "time.sleep(1)\n",
    "print(time.localtime())"
   ]
  },
  {
   "cell_type": "code",
   "execution_count": 15,
   "id": "51d7f383-449d-4833-ba09-997d889667d7",
   "metadata": {},
   "outputs": [
    {
     "name": "stdout",
     "output_type": "stream",
     "text": [
      "0.2007018712212344\n",
      "2\n"
     ]
    }
   ],
   "source": [
    "# random 모듈 : 다양한 랜덤 관련 함수 제공\n",
    "import random\n",
    "print(random.random())\n",
    "print(random.randint(1,5))"
   ]
  },
  {
   "cell_type": "code",
   "execution_count": 17,
   "id": "bedbe309-8486-423e-bbeb-746d2129a00d",
   "metadata": {},
   "outputs": [
    {
     "name": "stdout",
     "output_type": "stream",
     "text": [
      "3.141592653589793\n",
      "120\n"
     ]
    }
   ],
   "source": [
    "# math 모듈 : 수학적으로 복잡한 연산이 필요한 경우\n",
    "import math\n",
    "print(math.pi)\n",
    "print(math.factorial(5))"
   ]
  },
  {
   "cell_type": "code",
   "execution_count": 19,
   "id": "af504c06-c52b-4559-b59d-ebe361725e6c",
   "metadata": {},
   "outputs": [
    {
     "name": "stdout",
     "output_type": "stream",
     "text": [
      "                                  2024\n",
      "\n",
      "      January                   February                   March\n",
      "Mo Tu We Th Fr Sa Su      Mo Tu We Th Fr Sa Su      Mo Tu We Th Fr Sa Su\n",
      " 1  2  3  4  5  6  7                1  2  3  4                   1  2  3\n",
      " 8  9 10 11 12 13 14       5  6  7  8  9 10 11       4  5  6  7  8  9 10\n",
      "15 16 17 18 19 20 21      12 13 14 15 16 17 18      11 12 13 14 15 16 17\n",
      "22 23 24 25 26 27 28      19 20 21 22 23 24 25      18 19 20 21 22 23 24\n",
      "29 30 31                  26 27 28 29               25 26 27 28 29 30 31\n",
      "\n",
      "       April                      May                       June\n",
      "Mo Tu We Th Fr Sa Su      Mo Tu We Th Fr Sa Su      Mo Tu We Th Fr Sa Su\n",
      " 1  2  3  4  5  6  7             1  2  3  4  5                      1  2\n",
      " 8  9 10 11 12 13 14       6  7  8  9 10 11 12       3  4  5  6  7  8  9\n",
      "15 16 17 18 19 20 21      13 14 15 16 17 18 19      10 11 12 13 14 15 16\n",
      "22 23 24 25 26 27 28      20 21 22 23 24 25 26      17 18 19 20 21 22 23\n",
      "29 30                     27 28 29 30 31            24 25 26 27 28 29 30\n",
      "\n",
      "        July                     August                  September\n",
      "Mo Tu We Th Fr Sa Su      Mo Tu We Th Fr Sa Su      Mo Tu We Th Fr Sa Su\n",
      " 1  2  3  4  5  6  7                1  2  3  4                         1\n",
      " 8  9 10 11 12 13 14       5  6  7  8  9 10 11       2  3  4  5  6  7  8\n",
      "15 16 17 18 19 20 21      12 13 14 15 16 17 18       9 10 11 12 13 14 15\n",
      "22 23 24 25 26 27 28      19 20 21 22 23 24 25      16 17 18 19 20 21 22\n",
      "29 30 31                  26 27 28 29 30 31         23 24 25 26 27 28 29\n",
      "                                                    30\n",
      "\n",
      "      October                   November                  December\n",
      "Mo Tu We Th Fr Sa Su      Mo Tu We Th Fr Sa Su      Mo Tu We Th Fr Sa Su\n",
      "    1  2  3  4  5  6                   1  2  3                         1\n",
      " 7  8  9 10 11 12 13       4  5  6  7  8  9 10       2  3  4  5  6  7  8\n",
      "14 15 16 17 18 19 20      11 12 13 14 15 16 17       9 10 11 12 13 14 15\n",
      "21 22 23 24 25 26 27      18 19 20 21 22 23 24      16 17 18 19 20 21 22\n",
      "28 29 30 31               25 26 27 28 29 30         23 24 25 26 27 28 29\n",
      "                                                    30 31\n",
      "\n"
     ]
    }
   ],
   "source": [
    "# calendar 모듈 : 달력과 관련된 여러 함수 제공\n",
    "import calendar\n",
    "print(calendar.calendar(2024))"
   ]
  },
  {
   "cell_type": "code",
   "execution_count": 1,
   "id": "5d17fd8e-04ca-4f38-8f55-012206e8b9c7",
   "metadata": {},
   "outputs": [
    {
     "name": "stdout",
     "output_type": "stream",
     "text": [
      "이 파일은 모듈 생성하기 예제 파일입니다.\n",
      "3\n",
      "8\n"
     ]
    }
   ],
   "source": [
    "# 사용자 정의 모듈 만들기\n",
    "# 파이썬 모듈 검색 경로에 파이썬 파일 생성\n",
    "import test\n",
    "print(test.add(5,2))\n",
    "print(test.sub(5,3))"
   ]
  },
  {
   "cell_type": "code",
   "execution_count": 3,
   "id": "76c97ab9-c31e-4304-b8c1-6368faa3a8d4",
   "metadata": {},
   "outputs": [
    {
     "name": "stdout",
     "output_type": "stream",
     "text": [
      "3.141592653589793\n",
      "5.14\n"
     ]
    }
   ],
   "source": [
    "# e동일한 변수도 다른 모듈에서 가져와 재정의 가능\n",
    "import math\n",
    "import test\n",
    "\n",
    "print(math.pi)\n",
    "print(test.pi)"
   ]
  },
  {
   "cell_type": "code",
   "execution_count": 1,
   "id": "114f40ad-c397-4b53-bff5-af7fcd66c861",
   "metadata": {},
   "outputs": [
    {
     "name": "stdout",
     "output_type": "stream",
     "text": [
      "이 파일은 모듈 생성하기 예제 파일입니다.\n",
      "test\n",
      "__main__\n",
      "test\n"
     ]
    }
   ],
   "source": [
    "# 모듈의 이름이 저장되는 변수, 현재 모듈이 최상위 모듈로 수행되는지 여부 확인 가능\n",
    "import test\n",
    "print(__name__)\n",
    "print(test.__name__)"
   ]
  },
  {
   "cell_type": "code",
   "execution_count": 3,
   "id": "caf8b819-8459-4919-970c-7b50bacea8a9",
   "metadata": {},
   "outputs": [],
   "source": [
    "import test"
   ]
  },
  {
   "cell_type": "code",
   "execution_count": 9,
   "id": "4b830c2c-7862-4318-8cb4-94f615e3d821",
   "metadata": {},
   "outputs": [
    {
     "name": "stdout",
     "output_type": "stream",
     "text": [
      "17\n",
      "19\n",
      "45\n",
      "1\n",
      "14\n",
      "28\n"
     ]
    }
   ],
   "source": [
    "# 1. random 모듈을 활용하여 1부터 45까지의 임의의 숫자 6개를 출력하는 코드 작성\n",
    "import random\n",
    "for i in range(6):\n",
    "   print(random.randint(1,45)) "
   ]
  },
  {
   "cell_type": "code",
   "execution_count": 11,
   "id": "ac813afa-aded-4a98-9aed-47057415236d",
   "metadata": {},
   "outputs": [
    {
     "name": "stdout",
     "output_type": "stream",
     "text": [
      "[24, 2, 12, 38, 32, 10]\n"
     ]
    }
   ],
   "source": [
    "# random 모듈을 활용하여 로또 번호 생성기 만들기 \n",
    "l = []\n",
    "while True:\n",
    "    temp = random.randint(1,45)\n",
    "    if temp not in l:\n",
    "        l.append(temp)\n",
    "    if len(l) == 6:\n",
    "        break\n",
    "print(l)"
   ]
  },
  {
   "cell_type": "code",
   "execution_count": 15,
   "id": "4e90358b-3204-4ad8-832a-ff9f6afc1db0",
   "metadata": {},
   "outputs": [
    {
     "name": "stdout",
     "output_type": "stream",
     "text": [
      "[35, 6, 8, 41, 12, 15]\n"
     ]
    }
   ],
   "source": [
    "# random 모듈을 활용하여 로또 번호 생성기 만들기 \n",
    "l = []\n",
    "while True:\n",
    "    if temp not in l:\n",
    "        l.append(random.randint(1,45))\n",
    "        l = set(l)\n",
    "        l = list(l)\n",
    "    if len(l) == 6:\n",
    "        break\n",
    "print(l)"
   ]
  },
  {
   "cell_type": "code",
   "execution_count": null,
   "id": "ac258a35-a8ce-4bc5-8640-8ae6daabd5b7",
   "metadata": {},
   "outputs": [],
   "source": []
  }
 ],
 "metadata": {
  "kernelspec": {
   "display_name": "Python [conda env:base] *",
   "language": "python",
   "name": "conda-base-py"
  },
  "language_info": {
   "codemirror_mode": {
    "name": "ipython",
    "version": 3
   },
   "file_extension": ".py",
   "mimetype": "text/x-python",
   "name": "python",
   "nbconvert_exporter": "python",
   "pygments_lexer": "ipython3",
   "version": "3.12.7"
  }
 },
 "nbformat": 4,
 "nbformat_minor": 5
}
