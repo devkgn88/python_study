{
 "cells": [
  {
   "cell_type": "code",
   "execution_count": 5,
   "id": "028755cb-3e1f-43e5-bd5d-2489cb409a48",
   "metadata": {},
   "outputs": [
    {
     "name": "stdout",
     "output_type": "stream",
     "text": [
      "C:\\Users\\ganam\n"
     ]
    }
   ],
   "source": [
    "f = open(\"a.txt\",'w')\n",
    "f.write(\"1234\")\n",
    "f.close()\n",
    "\n",
    "import os\n",
    "print(os.getcwd())"
   ]
  },
  {
   "cell_type": "code",
   "execution_count": 9,
   "id": "beb8efa3-04b7-493a-bed4-c4726972cf8c",
   "metadata": {},
   "outputs": [],
   "source": [
    "f = open(\"C:\\\\Users\\\\ganam\\\\Downloads\\\\a.txt\",\"w\")\n",
    "f.write(\"5678\")\n",
    "f.close()"
   ]
  },
  {
   "cell_type": "code",
   "execution_count": 11,
   "id": "563ccc64-6b70-4cc4-a98f-e0acf2011ea5",
   "metadata": {},
   "outputs": [],
   "source": [
    "f = open(\"C:\\\\Users\\\\ganam\\\\Downloads\\\\a.txt\",\"a\")\n",
    "f.write(\"1234\")\n",
    "f.close()"
   ]
  },
  {
   "cell_type": "code",
   "execution_count": 15,
   "id": "c5c25090-23a3-4168-ad8d-72ac0c924358",
   "metadata": {},
   "outputs": [],
   "source": [
    "# x : 기존 파일이 있다면 오류 발생\n",
    "f = open(\"C:\\\\Users\\\\ganam\\\\Downloads\\\\b.txt\",\"x\")\n",
    "f.write(\"한글을 사랑하자\")\n",
    "f.close()"
   ]
  },
  {
   "cell_type": "code",
   "execution_count": 17,
   "id": "7ea6c2c7-7c0d-44d5-baa8-9cfb524b4aad",
   "metadata": {},
   "outputs": [],
   "source": [
    "f = open(\"C:\\\\Users\\\\ganam\\\\Downloads\\\\a.txt\",\"w\")\n",
    "f.write('''\n",
    "동해물과 백두산이\n",
    "마르고 닳도록\n",
    "''')\n",
    "f.close()"
   ]
  },
  {
   "cell_type": "code",
   "execution_count": 23,
   "id": "57be2ced-9e90-4bcc-9280-8d3627cf4989",
   "metadata": {},
   "outputs": [],
   "source": [
    "# writelines() 함수 사용\n",
    "t = (\"1\",\"2\",\"3\",\"4\",\"\\n\")\n",
    "l = [\"1\",\"2\",\"3\",\"4\"]\n",
    "f = open(\"C:\\\\Users\\\\ganam\\\\Downloads\\\\a.txt\",\"w\")\n",
    "f.writelines(t)\n",
    "f.writelines(l)\n",
    "f.close()"
   ]
  },
  {
   "cell_type": "code",
   "execution_count": 25,
   "id": "c4013b55-adb9-456b-b3be-ecdd478e5599",
   "metadata": {},
   "outputs": [
    {
     "name": "stdout",
     "output_type": "stream",
     "text": [
      "1234\n",
      "1234\n"
     ]
    }
   ],
   "source": [
    "# 읽으려는 파일이 없으면 오류 발생\n",
    "f = open(\"C:\\\\Users\\\\ganam\\\\Downloads\\\\a.txt\",\"r\")\n",
    "print(f.read())\n",
    "f.close()"
   ]
  },
  {
   "cell_type": "code",
   "execution_count": 27,
   "id": "efe744ef-cdb5-4156-8e7d-f174efd9eff7",
   "metadata": {},
   "outputs": [
    {
     "name": "stdout",
     "output_type": "stream",
     "text": [
      "1234\n",
      "\n",
      "1234\n"
     ]
    }
   ],
   "source": [
    "f = open(\"C:\\\\Users\\\\ganam\\\\Downloads\\\\a.txt\",\"r\")\n",
    "print(f.readline())\n",
    "print(f.readline())\n",
    "f.close()"
   ]
  },
  {
   "cell_type": "code",
   "execution_count": 29,
   "id": "f30b10e7-25cc-4204-b5a7-0a3115808cf3",
   "metadata": {},
   "outputs": [
    {
     "name": "stdout",
     "output_type": "stream",
     "text": [
      "1234\n",
      "\n",
      "1234\n"
     ]
    }
   ],
   "source": [
    "f = open(\"C:\\\\Users\\\\ganam\\\\Downloads\\\\a.txt\",\"r\")\n",
    "while True:\n",
    "    line = f.readline()\n",
    "    if not line: break\n",
    "    print(line)\n",
    "f.close()"
   ]
  },
  {
   "cell_type": "code",
   "execution_count": 31,
   "id": "ff24ee9f-790f-4ed5-bede-4b6caf7b2703",
   "metadata": {},
   "outputs": [
    {
     "name": "stdout",
     "output_type": "stream",
     "text": [
      "['1234\\n', '1234']\n"
     ]
    }
   ],
   "source": [
    "f = open(\"C:\\\\Users\\\\ganam\\\\Downloads\\\\a.txt\",\"r\")\n",
    "print(f.readlines())\n",
    "f.close()"
   ]
  },
  {
   "cell_type": "code",
   "execution_count": null,
   "id": "bf5dfd96-dd23-40a7-ac79-1fcc18cb022d",
   "metadata": {},
   "outputs": [],
   "source": [
    "# 표준출력 전환\n",
    "import sys\n",
    "f = open(\"C:\\\\Users\\\\ganam\\\\Downloads\\\\a.txt\",\"w\")\n",
    "#sys.stdout = f\n",
    "print(\"1234\")\n",
    "f.close()"
   ]
  },
  {
   "cell_type": "code",
   "execution_count": null,
   "id": "fbd8c94c-b854-41aa-864e-466be602bd2c",
   "metadata": {},
   "outputs": [],
   "source": [
    "import sys\n",
    "stdout = sys.stdout\n",
    "#sys.stdout = 파일\n",
    "# 다시 콘솔에 찍고 싶으면 \n",
    "# sys.stdout = stdout"
   ]
  },
  {
   "cell_type": "code",
   "execution_count": 4,
   "id": "ea704f1e-2d20-44ba-9b49-04185bd0656b",
   "metadata": {},
   "outputs": [
    {
     "name": "stdout",
     "output_type": "stream",
     "text": [
      "{1: 'python', 2: 'java'}\n",
      "<class 'dict'>\n"
     ]
    }
   ],
   "source": [
    "# 다른 자료형의 파일 입출력\n",
    "import pickle\n",
    "f = open(\"C:\\\\Users\\\\ganam\\\\Downloads\\\\a.txt\",\"wb\")\n",
    "data = {1:'python',2:'java'}\n",
    "pickle.dump(data,f)\n",
    "f.close()\n",
    " \n",
    "f = open(\"a.txt\",\"rb\") \n",
    "data_read = pickle.load(f)\n",
    "f.close()\n",
    "print(data_read)\n",
    "print(type(data_read))"
   ]
  },
  {
   "cell_type": "code",
   "execution_count": 8,
   "id": "9e62909b-b3e1-471c-9420-3c127d4e5f1c",
   "metadata": {},
   "outputs": [
    {
     "name": "stdout",
     "output_type": "stream",
     "text": [
      "['#혼인서약서샘플(주례없는예식).hwp', '(24.10.12 김가남 이성준) 스냅카페 촬영 계약서-1.pdf', '00. 1분 하이라이트 수정.mp4', '00. 1분 하이라이트.mp4', '00. 메인 하이라이트 재수정.mp4', '0000_0000__XXX_YYY_님_예식_1,2부_사회자대본.pdf', '001.png', '002.png', '01. 식전.mp4', '01.pdf', '02. 본식.mp4', '02.pdf', '03. 식후.mp4', '03.pdf', '04. 인터뷰.mp4', '04. 인터뷰.mp4.crdownload', '04.pdf', '06.pdf', '07.pdf', '1.jpg', '1.png', '1.로제.jpg', '10.png', '11.png', '12.png', '12.예외처리.pdf', '13.png', '14.png', '15.png', '1521807207742ff6bdc32c613db80098.ico.zip', '16.jpg', '16.png', '17.jpg', '1712392961149.jpg', '1714828178625.jpg', '1715492735628.jpg', '1715492796905.jpg', '1720587555151.jpg', '1720587556531.jpg', '19.자바네트워크.pdf', '1933453_DOIHB9ZjjAL8KstiJRt8o4iQ8xEjoygzWbMJ3CuQ9Gw.jpg', '1be6d99659a4407f98aa26c09c5eb564.png', '2. 요구사항 정의서 (1).pdf', '2. 요구사항 정의서.pdf', '2.png', '2.브라운.jpg', '2.코딩기초상식', '20231225_132004.jpg', '2024 티스토리 연말결산 캘린더.png', '20240424082030608 (1).jpg', '20240424082030608.jpg', '20240424082030608.pdf', '20240511촬영시안_헤어변형선생님전달본(김가남,이성준).pdf', '20240525023132.png', '20240713김가남.pdf', '20240717_190846.jpg', '20240717_193001.jpg', '20241015_184851.jpg', '20241015_191813.jpg', '20241016_150758.jpg', '20241016_160916.jpg', '20241016_160922.jpg', '20241016_193347.jpg', '20241016_202256.jpg', '20241017_123335.jpg', '20241017_123845.jpg', '20241017_125139.jpg', '20241017_130009.jpg', '20241018-7G4MFR-031276450-482804956.pdf', '20241019_185738.jpg', '20241019_194237.jpg', '20241019_194325.jpg', '20241019_200849_1.gif', '20241019_205318_1.gif', '20241019_205722_1.gif', '20241019_212437.jpg', '20241019_221824_1.gif', '20241019_223119_1.gif', '20241019_224530.mp4', '20241021_142817.jpg', '2024_구디아카데미_예약요청서_김가남(수정).xlsx', '2024년 11월 급여명세서_구디아카데미_4578500300_김가남.html', '2025년 2분기 학습자등록·학점인정신청 접수계획(개인학습자).pdf', '22.gif', '222.PNG', '2222.PNG', '23434.png', '241012_13_10_파일목록.PNG', '24년4차신혼·신생아매입임대Ⅰ입주자모집공고문(서울지역본부).pdf', '24년4차신혼·신생아매입임대Ⅱ(전세형)예비입주자모집공고(인천).pdf', '24년4차신혼·신생아매입임대Ⅱ(전세형)입주자모집공고문(서울지역본부).pdf', '286a4605', '286a4605.zip', '2a1a6263-8f75-476d-a630-3c233702b0d1_Export-22e9fb7c-0195-46c1-8261-9bf8af338754', '2a1a6263-8f75-476d-a630-3c233702b0d1_Export-22e9fb7c-0195-46c1-8261-9bf8af338754.zip', '2_3.jpg', '2차', '2차 (2)', '2차.zip', '3.png', '3.오렌지.jpg', '3.자바 개요', '311262850_660044998778382_4848044366906828530_n.jpg', '4 (1).png', '4 (2).png', '4.png', '4.이메일만들기.pdf', '4.클래식.jpg', '403966530_783081253625115_7621194156450443632_n.jpg', '404 Error Page Donut Template.zip', '430607_BE_306_4_51_KIM_GANAM_1060805001155.pdf', '44_김가남_소득자보관용 (1).pdf', '44_김가남_소득자보관용.pdf', '4544.PNG', '48_김가남_소득자보관용.pdf', '499_661f8f549e992.zip', '5.이력서.pdf', '512_6630916279ff0', '512_6630916279ff0.zip', '56274799_-cH-NF2lGdi-bkV6zBRXZDES-DsY3FLW5VgjyS8y8AE.jpg', '6bdb5d77583aa080c6ed04b83b259228.ico', '6bdb5d77583aa080c6ed04b83b259228.ico.zip', '6ec0867ec75b47c189a1dfd9fb5abd5d.png', '78d5ec3979fa163022b84b60d47e5776.png', '847775_BE_306_4_52_LEE_SEONGJUN_1060805001156.pdf', '88기.png', '9f88033e', '9f88033e.zip', 'a (2).jpg', 'a.jpg', 'a.txt', 'a877c7b8-fc93-44f5-8cd2-7ab9037e58c4_자바란.pdf', 'Anaconda3-2024.10-1-Windows-x86_64.exe', 'AnySign_Installer.exe', 'apache-maven-3.9.8', 'apache-maven-3.9.8-bin.zip', 'apache-tomcat-9.0.87.zip', 'apache-tomcat-9.0.90 (1).zip', 'apache-tomcat-9.0.90.zip', 'apache-tomcat-9.0.98.zip', 'b.txt', 'b8f9a269e074e4480d66b85f72d9045c.png', 'BAHN_2024-10-17_Hinfahrt_.ics', 'bakery-stickers-collection-2d-style.zip', 'BANDIZIP-SETUP-STD-X64.EXE', 'bear.png', 'BlueStacks10Installer_10.41.218.1001_native_7f1fa7aad2de92bf0acf72762d97c8ea_MzsxNSwwOzUsMTsxNSw0OzE1LA==.exe', 'book20.jpg', 'book21.jpg', 'book22.jpg', 'book23.jpg', 'book24.jpg', 'book25.jpg', 'bootstrap-5.3.3-dist', 'bootstrap-5.3.3-dist.zip', 'ChromeSetup.exe', 'coding-924920_1280.jpg', 'cola.png', 'commons-fileupload-1.5-bin', 'commons-fileupload-1.5-bin.zip', 'commons-fileupload-1.5.jar', 'commons-fileupload2-2.0.0-M2-bin.zip', 'commons-io-2.9.0-bin', 'commons-io-2.9.0-bin.zip', 'company_database.sql', 'Confirmation_for_Booking_ID_#_1081799500.pdf', 'Confirmation_for_Booking_ID_#_1196171473.pdf', 'CookieRunFont_TTF', 'CookieRunFont_TTF (2)', 'CookieRunFont_TTF.zip', 'dagaga.png', 'DALL·E 2025-03-01 22.03.15 - A clean, modern illustration symbolizing the importance of deployment experience in software development. The image should feature abstract visual ele.webp', 'DALL·E 2025-03-23 23.07.17 - A conceptual illustration of understanding and using an API. The image features three key elements__1. A glowing digital interface representing an API.webp', 'dbstudy-master.zip', 'DB_Ticket_258595350526.pdf', 'deskapp2-master', 'deskapp2-master.zip', 'desktop.ini', 'devblog-bs5-v3.1', 'devblog-bs5-v3.1.zip', 'dfadsgafd.png', 'dfafghfghh.png', 'dfasdf.png', 'dfdf.PNG', 'dfgdfh.PNG', 'dfsdf.png', 'DiscordSetup.exe', 'Docker Desktop Installer.exe', 'drive-download-20241102T063525Z-001.zip', 'drive-download-20241209T133301Z-001.zip', 'dsfagagk.png', 'dsgafdhgkj.png', 'dsggfjghj.png', 'dung (1).png', 'dung.png', 'eclipse-inst-jre-win64.exe', 'Edit', 'Edit-20241221T042812Z-001.zip', 'electro-master', 'electro-master.zip', 'fadsgfasdgf.png', 'fgadfgdgf.png', 'fgadsfgdagf.png', 'fghsfhgfsh.png', 'free-icon-coke-3917905.png', 'free-icon-popcorn-3418886.png', 'gadfsgf.png', 'GC(Garbage_Collector).pdf', 'gdj-kgn.pem', 'gfagdsfsdaf.png', 'Git-2.47.1-64-bit.exe', 'GN.sql', 'GOMPLAYERPLUS2024SETUP_NEW.EXE', 'goodeea_kgn_20240116144326_1.jpg', 'gradle-8.13-bin.zip', 'gsdgsdfdsf.png', 'gul.png', 'hare.png', 'HeidiSQL_12.6.0.6765_Setup.exe', 'icons8-도서관-건물-16.png', 'IDE(Integrated_Development_Environment).pdf', 'image (1).png', 'image (2).png', 'image (3).png', 'image (4) (1).png', 'image (4).png', 'image (5).png', 'image (6).png', 'image (7).png', 'image (8).png', 'image.png', 'image_1687509945755_2500.jpg', 'image_1689318723817_2500.jpg', 'IMG_0808.HEIC', 'IMG_1197.heic', 'IMG_1245.HEIC', 'IMG_1250.HEIC', 'IMG_9281.png', 'IMG_9310.JPG', 'IMG_9311.JPG', 'IMG_9312.JPG', 'IMG_9560.png', 'IMG_9565.png', 'IMG_9581.png', 'Install-GooglePlayGames-Beta.exe', 'Install_NexonPlug.exe', 'iptimenas_setup_1.92_web.exe', 'JDK(Java_Development_Kit).pdf', 'jquery-3.7.1.js', 'json-simple-1.1.1', 'json-simple-1.1.1.zip', 'JVM(Java_Virtual_Machine).pdf', 'KakaoTalk_20240718_225951196.jpg', 'KakaoTalk_20240913_131932016.png', 'KakaoTalk_20241110_195344070.jpg', 'KakaoTalk_20241110_195344070_01.jpg', 'KakaoTalk_20241110_195344070_02.jpg', 'KakaoTalk_20241110_195344070_03.jpg', 'KakaoTalk_20241110_195344070_04.jpg', 'KakaoTalk_20241114_202839665.jpg', 'KakaoTalk_20241114_202839665_01.jpg', 'KakaoTalk_20241118_210352634.jpg', 'KakaoTalk_20241118_211200326.jpg', 'KakaoTalk_20241118_211434082.jpg', 'KakaoTalk_20241118_212843168.jpg', 'KakaoTalk_20241118_212843168_01.jpg', 'KakaoTalk_20241118_213627613.jpg', 'KakaoTalk_20241118_213627613_01.jpg', 'KakaoTalk_20241119_210419314_01.jpg', 'KakaoTalk_20241119_210419314_02.jpg', 'KakaoTalk_20241119_210454867.jpg', 'KakaoTalk_20241119_210518882.jpg', 'KakaoTalk_20241122_222025344.jpg', 'KakaoTalk_20241122_224721977.jpg', 'KakaoTalk_20241122_234614227.jpg', 'KakaoTalk_20241122_234934730.jpg', 'KakaoTalk_20241122_235002907.jpg', 'KakaoTalk_20241123_000318844.jpg', 'KakaoTalk_20241123_000330025.jpg', 'KakaoTalk_20241123_000330025_01.jpg', 'KakaoTalk_20241123_004615170.jpg', 'KakaoTalk_20241123_093410689.jpg', 'KakaoTalk_20241123_093410689_01.jpg', 'KakaoTalk_20241123_093410689_02.jpg', 'KakaoTalk_20241123_093410689_03.jpg', 'KakaoTalk_20241123_093410689_04.jpg', 'KakaoTalk_20241123_093410689_05.jpg', 'KakaoTalk_20241123_093410689_06.jpg', 'KakaoTalk_20241123_093410689_07.jpg', 'KakaoTalk_20241123_093410689_08.jpg', 'KakaoTalk_20241123_093943021.jpg', 'KakaoTalk_20241123_093943021_01.jpg', 'KakaoTalk_20241123_093943021_02.jpg', 'KakaoTalk_20241123_100223687.jpg', 'KakaoTalk_20241125_223240077.jpg', 'KakaoTalk_20241125_223240077_01.jpg', 'KakaoTalk_20241126_000634190.jpg', 'KakaoTalk_20241126_193524446.jpg', 'KakaoTalk_20241126_193524446_01.jpg', 'KakaoTalk_20241126_193524446_02.jpg', 'KakaoTalk_20241126_193524446_03.jpg', 'KakaoTalk_20241126_193524446_04.jpg', 'KakaoTalk_20241126_194132521.jpg', 'KakaoTalk_20241127_171614667.jpg', 'KakaoTalk_20241127_171614667_01.jpg', 'KakaoTalk_20241127_171614667_02.jpg', 'KakaoTalk_20241127_171614667_03.jpg', 'KakaoTalk_20241127_171937658.jpg', 'KakaoTalk_20241127_171937658_01.jpg', 'KakaoTalk_20241201_182746594.jpg', 'KakaoTalk_20241201_183751216.jpg', 'KakaoTalk_20241201_183751216_01.jpg', 'KakaoTalk_20241201_183751216_02.jpg', 'KakaoTalk_20241201_183751216_03.jpg', 'KakaoTalk_20241201_183751216_04.jpg', 'KakaoTalk_20241201_183751216_05.jpg', 'KakaoTalk_20241201_183751216_06.jpg', 'KakaoTalk_20241201_183751216_07.jpg', 'KakaoTalk_20241201_214340525.jpg', 'KakaoTalk_20241213_215808245.jpg', 'KakaoTalk_20241214_131856414.jpg', 'KakaoTalk_20241214_131928903.jpg', 'KakaoTalk_20241214_131928903_01.jpg', 'KakaoTalk_20241214_131928903_02.jpg', 'KakaoTalk_20241214_131928903_03.jpg', 'KakaoTalk_20241214_131928903_04.jpg', 'KakaoTalk_20241214_131928903_05.jpg', 'KakaoTalk_20241214_131928903_06.jpg', 'KakaoTalk_20241214_131928903_07.jpg', 'KakaoTalk_20241214_131928903_08.jpg', 'KakaoTalk_20241214_131928903_09.jpg', 'KakaoTalk_20241214_131928903_10.jpg', 'KakaoTalk_20241214_131928903_11.jpg', 'KakaoTalk_20241214_131928903_12.jpg', 'KakaoTalk_20241214_131928903_13.jpg', 'KakaoTalk_20241214_143944770.jpg', 'KakaoTalk_20241216_201040701.jpg', 'KakaoTalk_20241216_201040701_01.jpg', 'KakaoTalk_20241216_201757743.jpg', 'KakaoTalk_20241216_201757743_01.jpg', 'KakaoTalk_20241216_201757743_02.jpg', 'KakaoTalk_20241216_201757743_03.jpg', 'KakaoTalk_20241216_201757743_04.jpg', 'KakaoTalk_20241216_202229137.jpg', 'KakaoTalk_20241216_202229137_01.jpg', 'KakaoTalk_20241216_202229137_02.jpg', 'KakaoTalk_20241216_202229137_03.jpg', 'KakaoTalk_20241216_203510304.jpg', 'KakaoTalk_20241216_203526078.jpg', 'KakaoTalk_20241216_203717467.jpg', 'KakaoTalk_20241216_204245454.jpg', 'KakaoTalk_20241216_204245454_01.jpg', 'KakaoTalk_20241216_204245454_02.jpg', 'KakaoTalk_20241216_204245454_03.jpg', 'KakaoTalk_20241216_205835873.jpg', 'KakaoTalk_20241217_185826056_01.jpg', 'KakaoTalk_20241218_172457918_01.jpg', 'KakaoTalk_20241218_174348018_01.jpg', 'KakaoTalk_20241220_163155328_02.jpg', 'KakaoTalk_20241220_170820516_01.jpg', 'KakaoTalk_20241220_172929488_06.jpg', 'KakaoTalk_20241220_173212097_01.jpg', 'KakaoTalk_20241220_174028934_02.jpg', 'KakaoTalk_20241222_144104584.jpg', 'KakaoTalk_20241222_164553809.jpg', 'KakaoTalk_20241225_105741181.jpg', 'KakaoTalk_20241225_105741181_01.jpg', 'KakaoTalk_20241225_105741181_02.jpg', 'KakaoTalk_20241225_105741181_03.jpg', 'KakaoTalk_20241225_105741181_04.jpg', 'KakaoTalk_20241225_105741181_05.jpg', 'KakaoTalk_20241225_105741181_06.jpg', 'KakaoTalk_20241225_200100608.jpg', 'KakaoTalk_20241225_200100608_01.jpg', 'KakaoTalk_20241225_200100608_02.jpg', 'KakaoTalk_20241225_200100608_03.jpg', 'KakaoTalk_20241225_200100608_04.jpg', 'KakaoTalk_20241225_200100608_05.jpg', 'KakaoTalk_20241225_200100608_06.jpg', 'KakaoTalk_20241225_200100608_07.jpg', 'KakaoTalk_20241225_200100608_08.jpg', 'KakaoTalk_20241225_200100608_09.jpg', 'KakaoTalk_20241225_200100608_10.jpg', 'KakaoTalk_20241225_200100608_11.jpg', 'KakaoTalk_20241225_200100608_12.jpg', 'KakaoTalk_20241225_200100608_13.jpg', 'KakaoTalk_20241228_130406392.jpg', 'KakaoTalk_20241228_130550965.jpg', 'KakaoTalk_20241228_130602582.jpg', 'KakaoTalk_20241228_131420866.jpg', 'KakaoTalk_20241228_131431977.jpg', 'KakaoTalk_20241228_131440476.jpg', 'KakaoTalk_20241228_131902436.jpg', 'KakaoTalk_20241228_132251694.jpg', 'KakaoTalk_20241228_132705823.jpg', 'KakaoTalk_20241228_133205828.jpg', 'KakaoTalk_20241228_203329824.jpg', 'KakaoTalk_20241228_224021529.jpg', 'KakaoTalk_20241229_132744904.jpg', 'KakaoTalk_20241229_133313149.jpg', 'KakaoTalk_20241229_133313149_01.jpg', 'KakaoTalk_20241229_133313149_02.jpg', 'KakaoTalk_20241229_133313149_03.jpg', 'KakaoTalk_20241229_133313149_04.jpg', 'KakaoTalk_20241229_133313149_05.jpg', 'KakaoTalk_20241229_133313149_06.jpg', 'KakaoTalk_20241229_133536113.jpg', 'KakaoTalk_20241229_134411401.jpg', 'KakaoTalk_20241231_174413755.jpg', 'KakaoTalk_20241231_202554874.png', 'KakaoTalk_20241231_202706516.jpg', 'KakaoTalk_20241231_202732128.jpg', 'KakaoTalk_20241231_202845479.jpg', 'KakaoTalk_20241231_202845479_01.jpg', 'KakaoTalk_20241231_202920936.jpg', 'KakaoTalk_20241231_202940456.jpg', 'KakaoTalk_20241231_203104124.jpg', 'KakaoTalk_20241231_203128188.jpg', 'KakaoTalk_20241231_203208944.jpg', 'KakaoTalk_20241231_210742075.jpg', 'KakaoTalk_20250103_183203953.jpg', 'KakaoTalk_20250103_201630261.jpg', 'KakaoTalk_20250103_201630261_01.jpg', 'KakaoTalk_20250103_201630261_02.jpg', 'KakaoTalk_20250103_201630261_03.jpg', 'KakaoTalk_20250103_201630261_04.jpg', 'KakaoTalk_20250103_201630261_05.jpg', 'KakaoTalk_20250103_201630261_06.jpg', 'KakaoTalk_20250103_201630261_07.jpg', 'KakaoTalk_20250103_201630261_08.jpg', 'KakaoTalk_20250103_201630261_09.jpg', 'KakaoTalk_20250103_222301934.jpg', 'KakaoTalk_20250103_223540591.jpg', 'KakaoTalk_20250104_143738195.jpg', 'KakaoTalk_20250108_202911447.jpg', 'KakaoTalk_20250108_202911447_01.jpg', 'KakaoTalk_20250108_202911447_02.jpg', 'KakaoTalk_20250108_202911447_03.jpg', 'KakaoTalk_20250108_202911447_04.jpg', 'KakaoTalk_20250108_202911447_05.jpg', 'KakaoTalk_20250108_202911447_06.jpg', 'KakaoTalk_20250108_202911447_07.jpg', 'KakaoTalk_20250108_202911447_08.jpg', 'KakaoTalk_20250108_202911447_09.jpg', 'KakaoTalk_20250108_202911447_10.jpg', 'KakaoTalk_20250108_203721115.jpg', 'KakaoTalk_20250111_155836773.jpg', 'KakaoTalk_20250111_155836773_01.jpg', 'KakaoTalk_20250111_155836773_02.jpg', 'KakaoTalk_20250111_155836773_03.jpg', 'KakaoTalk_20250111_155836773_04.jpg', 'KakaoTalk_20250111_155836773_05.jpg', 'KakaoTalk_20250111_155836773_06.jpg', 'KakaoTalk_20250111_155836773_07.jpg', 'KakaoTalk_20250111_155836773_08.jpg', 'KakaoTalk_20250111_155836773_09.jpg', 'KakaoTalk_20250111_155836773_10.jpg', 'KakaoTalk_20250111_155836773_11.jpg', 'KakaoTalk_20250111_172333346.jpg', 'KakaoTalk_20250111_172713187.mp4', 'KakaoTalk_20250111_173001144.mp4', 'KakaoTalk_20250111_200247778.gif', 'KakaoTalk_20250111_214955687.jpg', 'KakaoTalk_20250111_215718904.jpg', 'KakaoTalk_20250111_221110521.mp4', 'KakaoTalk_20250111_222204300.jpg', 'KakaoTalk_20250113_220207314.jpg', 'KakaoTalk_20250113_221405105.jpg', 'KakaoTalk_20250113_221405105_01.jpg', 'KakaoTalk_20250113_221405105_02.jpg', 'KakaoTalk_20250113_221937813.jpg', 'KakaoTalk_20250113_221937813_01.jpg', 'KakaoTalk_20250113_221937813_02.jpg', 'KakaoTalk_20250113_221937813_03.jpg', 'KakaoTalk_20250113_221937813_04.jpg', 'KakaoTalk_20250113_221937813_05.jpg', 'KakaoTalk_20250113_221937813_06.jpg', 'KakaoTalk_20250113_221937813_07.jpg', 'KakaoTalk_20250113_225912386.jpg', 'KakaoTalk_20250113_230313208.jpg', 'KakaoTalk_20250113_230330642.jpg', 'KakaoTalk_20250113_232516843.jpg', 'KakaoTalk_20250113_232516843_01.jpg', 'KakaoTalk_20250113_232958988.jpg', 'KakaoTalk_20250113_232958988_01.jpg', 'KakaoTalk_20250113_233126387.jpg', 'KakaoTalk_20250113_233532479.jpg', 'KakaoTalk_20250113_233532479_01.jpg', 'KakaoTalk_20250113_233824658.jpg', 'KakaoTalk_20250113_233824658_01.jpg', 'KakaoTalk_20250116_172551907_02.jpg', 'KakaoTalk_20250116_173240284.jpg', 'KakaoTalk_20250116_210633844.jpg', 'KakaoTalk_20250116_212124711.jpg', 'KakaoTalk_20250116_212124711_01.jpg', 'KakaoTalk_20250116_212124711_02.jpg', 'KakaoTalk_20250116_212124711_03.jpg', 'KakaoTalk_20250116_212124711_04.jpg', 'KakaoTalk_20250128_160238218.jpg', 'KakaoTalk_20250128_160238218_01.jpg', 'KakaoTalk_20250128_160238218_02.jpg', 'KakaoTalk_20250128_160238218_03.jpg', 'KakaoTalk_20250128_160238218_04.jpg', 'KakaoTalk_20250128_160238218_05.jpg', 'KakaoTalk_20250128_160238218_06.jpg', 'KakaoTalk_20250128_160238218_07.jpg', 'KakaoTalk_20250128_160238218_08.jpg', 'KakaoTalk_20250128_160238218_09.jpg', 'KakaoTalk_20250128_160238218_10.jpg', 'KakaoTalk_20250128_164420050.jpg', 'KakaoTalk_20250201_173531805.jpg', 'KakaoTalk_20250201_180959978.jpg', 'KakaoTalk_20250322_164645323_04.jpg', 'KakaoTalk_20250322_165456933.jpg', 'KakaoTalk_20250323_232906316.jpg', 'KakaoTalk_20250324_000905309.jpg', 'KakaoTalk_20250405_235505227.jpg', 'KakaoTalk_Setup (1).exe', 'KakaoTalk_Setup (2).exe', 'KakaoTalk_Setup.exe', 'key_kgn.pem', 'kgn_key.pem', 'knife.png', 'kong.jpg', 'LAVFilters-0.79.2-Installer.exe', 'LKW_0083.jpg', 'LKW_0083_2.jpg', 'logs', 'lombok (1).jar', 'lombok.jar', 'mariadb-10.11.7-winx64.msi', 'mariadb-10.11.7-winx64.zip', 'mariadb-java-client-3.3.3.jar', 'mbti_result (1).jpg', 'mbti_result.jpg', 'meeting-594091_1280.jpg', 'Microsoft.HEVCVideoExtension_2.0.53348.0_x64__8wekyb3d8bbwe.Appx', 'MobaXterm_Portable_v25.1', 'MobaXterm_Portable_v25.1.zip', 'mosa0eGGTo.jpeg', 'mybatis-3.5.16', 'mybatis-3.5.16.zip', 'mybatis-3.5.17', 'mybatis-3.5.17.zip', 'Navigo-Card.jpg', 'nos_setup.exe', 'Notion Setup 3.15.1.exe', 'Notion Setup 3.3.0.exe', 'npp.8.6.4.Installer.x64.exe', 'OpenJDK11U-jdk_x64_windows_hotspot_11.0.22_7.msi', 'OpenJDK17U-jdk_x64_windows_hotspot_17.0.10_7.msi', 'OpenJDK17U-jdk_x64_windows_hotspot_17.0.12_7.zip', 'OR100563.jpg', 'OS_Architecture_LTS.pdf', 'paris-metro-zone-map.webp', 'paris_metro-ticket-window-ticket-machines_gare_du_nord.jpg', 'Phone Link', 'Photos-001', 'Photos-001 (1)', 'Photos-001 (1).zip', 'Photos-001 (2).zip', 'Photos-001 (3)', 'Photos-001 (3).zip', 'Photos-001 (4).zip', 'Photos-001 (5).zip', 'Photos-001.zip', 'plan-parc.jpg', 'plans-1867745_1280.jpg', 'PMP_2_angle_droit_HauteDef (Personnalisé).avif', 'PMP_4_angle_droit_HauteDef (Personnalisé).avif', 'pngegg.png', 'popcorn.png', 'preview.gif', 'preview1600.jpg', 'preview256.jpg', 'preview256.png', 'preview560.jpg', 'putty-64bit-0.80-installer.msi', 'rb_2147774265.png', 'reservation_system.png', 'resources', 'resources.zip', 'review_img1605858542_177854001605858542.webp', 'review_img1626432775_778938001626432775.webp', 'review_img1631845113_628723001631845113.webp', 'review_img1647671365_481218001647671365.webp', 'review_img1665618457_939695001665618457.webp', 'review_img1674085071_536689001674085071.webp', 'review_img1674085073_835718001674085073.webp', 'SavedSkin(2025-02-08).zip', 'Screenshot_20241123_095247_Video Player.jpg', 'Screenshot_20241123_095333_Video Player.jpg', 'sdfsdf.png', 'semi_project', 'semi_project (1).zip', 'semi_project.zip', 'shaving.png', 'simple-bootstrap-login-form', 'simple-bootstrap-login-form (2)', 'simple-bootstrap-login-form.zip', 'SlackSetup.exe', 'SNOW_20230306_214811_781.jpg', 'SNOW_20230515_140952_452.jpg', 'SNOW_20230624_230017_731.jpg', 'SNOW_20230812_172904_295.jpg', 'SNOW_20230813_120856_192.jpg', 'SNOW_20231209_154506_047.jpg', 'SNOW_20240113_220601_646.jpg', 'SNOW_20240608_231009_085.jpg', 'SNOW_20240628_235219_279.jpg', 'SNOW_20240818_180224_666.jpg', 'sponge (1).png', 'sponge.png', 'sponge_list.png', 'spring-tool-suite-3.9.18.RELEASE-e4.21.0-win32-x86_64.zip', 'spring.svg', 'spring_2023_06_10_20_27_00.jpg', 'spring_2024_08_17_16_55_19.jpg', 'startup-3267505_1280.jpg', 'taglibs-standard-compat-1.2.5 (1).jar', 'taglibs-standard-compat-1.2.5.jar', 'taglibs-standard-impl-1.2.5 (1).jar', 'taglibs-standard-impl-1.2.5.jar', 'taglibs-standard-jstlel-1.2.5 (1).jar', 'taglibs-standard-jstlel-1.2.5.jar', 'taglibs-standard-spec-1.2.5 (1).jar', 'taglibs-standard-spec-1.2.5.jar', 'team-5842784_1280.jpg', 'teamwork-3213924_1280.jpg', 'test-key.pem', 'test-key2.ppk', 'test.png', 'test_key2.pem', 'Ticket_258595350526_15.10.2024.pdf', 'Ticket_424245473845_17.10.2024.pdf', 'todo-20250325T121523Z-001', 'todo-20250325T121523Z-001 (2)', 'todo-20250325T121523Z-001.zip', 'tutor-master', 'tutor-master.zip', 'type-786900_1280.jpg', 'Untitled (1).png', 'Untitled (10).png', 'Untitled (11).png', 'Untitled (12).png', 'Untitled (13).png', 'Untitled (14).png', 'Untitled (15).png', 'Untitled (16).png', 'Untitled (17).png', 'Untitled (18).png', 'Untitled (19).png', 'Untitled (2).png', 'Untitled (20).png', 'Untitled (21).png', 'Untitled (22).png', 'Untitled (23).png', 'Untitled (24).png', 'Untitled (25).png', 'Untitled (26).png', 'Untitled (27).png', 'Untitled (28).png', 'Untitled (29) (1).png', 'Untitled (29).png', 'Untitled (3).png', 'Untitled (30).png', 'Untitled (31).png', 'Untitled (32).png', 'Untitled (33).png', 'Untitled (34).png', 'Untitled (35).png', 'Untitled (36).png', 'Untitled (37).png', 'Untitled (38).png', 'Untitled (39).png', 'Untitled (4).png', 'Untitled (40).png', 'Untitled (41).png', 'Untitled (42).png', 'Untitled (43).png', 'Untitled (44).png', 'Untitled (45).png', 'Untitled (46).png', 'Untitled (47).png', 'Untitled (48).png', 'Untitled (49).png', 'Untitled (5).png', 'Untitled (50).png', 'Untitled (51).png', 'Untitled (52).png', 'Untitled (53).png', 'Untitled (54).png', 'Untitled (55).png', 'Untitled (56).png', 'Untitled (57).png', 'Untitled (58).png', 'Untitled (59).png', 'Untitled (6).png', 'Untitled (60).png', 'Untitled (61).png', 'Untitled (62).png', 'Untitled (63).png', 'Untitled (64).png', 'Untitled (65).png', 'Untitled (66).png', 'Untitled (67).png', 'Untitled (68).png', 'Untitled (69).png', 'Untitled (7).png', 'Untitled (70).png', 'Untitled (71).png', 'Untitled (72).png', 'Untitled (73).png', 'Untitled (74).png', 'Untitled (75).png', 'Untitled (76).png', 'Untitled (77).png', 'Untitled (78).png', 'Untitled (79).png', 'Untitled (8).png', 'Untitled (9).png', 'Untitled.png', 'Untitled2.png', 'Untitled3.png', 'Untitled4.png', 'Untitled5.png', 'Untitled65.png', 'Untitled7.png', 'Untitled8.png', 'Untitled9.png', 'ux-788002_1280.jpg', 'VideoCapture_20241231-205046.jpg', 'VideoCapture_20241231-210013.jpg', 'VideoCapture_20241231-210052.jpg', 'VideoCapture_20241231-210109.jpg', 'VideoCapture_20241231-210117.jpg', 'vidmore-player.exe', 'VSCodeUserSetup-x64-1.90.0.exe', 'wefewfsdf.png', 'WhaleSetup.exe', 'YES24eBookSetup', 'YES24eBookSetup.zip', 'zoqcj2.PNG', '[241129] 6회차.mp4', '[250114]CSS_6회차.mp4', '공유용_촬영시안_채나.pptx', '글씨안풀리는버전_촬영시안공유용_채나.zip', '★24년4차청년매입임대입주자모집공고문(최종).pdf', '게시판.png', '결혼식 사회자 대본 공유_하모예.docx', '결혼식 사회자 대본 공유_하모예.pdf', '경력기술서_김가남.docx', '공공지원민간임대 입주자 모집 공고문_신풍역 비스타동원.pdf', '과정 안내서 (1).PDF', '과정 안내서 (2).PDF', '과정 안내서 (3).PDF', '과정 안내서 (4).PDF', '과정 안내서.PDF', '규격참고용_왼쪽부터1,2,3,4.jpg', '그랑팔라스.png', '그림2.png', '김가남_경력기술서_김가남.pdf', '김가남_연말정산 pdf 간소화자료.pdf', '논문 최종제출본 20132566 김가남 .hwp', '다운로드 (1).jpg', '다운로드 (2).jpg', '다운로드.jpg', '다운로드.png', '리눅스마스터2급20230311(학생용).pdf', '리눅스마스터2급20230610(교사용).pdf', '리눅스마스터2급20230909(학생용).pdf', '리눅스마스터2급20231209(학생용).pdf', '리스트_튜플_사전_집합.ipynb', '리스트_튜플_사전_활용.ipynb', '명절 승차권 예약.txt', '문자열_메소드_포맷팅.ipynb', '뮤지움패스.pdf', '반복문.ipynb', '배너.png', '변수 총정리.pdf', '보유기술서_Java,Bigdata.xlsx', '블로그 배너-015.png', '블로그 배너-022.png', '블로그-배너-023.png', '블루밍페이지.jpg', '사진(1).jpg', '사진(2).jpg', '사진_남자아기.jpg', '사진_여자아기.jpg', '사회자대본.pdf', '사회자대본.txt', '사회자대본_20240922.pdf', '서비스제공자.png', '서울2울산_04232057.pdf', '서울2울산_05112028.pdf', '서울2울산_05112128.pdf', '선호, 비선호 드레스 정리.pdf', '수업 일정 정리 (1).pdf', '수업 일정 정리.pdf', '수업자료.zip', '수정본 22p', '수정본 22p.zip', '수치형과문자열 (1).ipynb', '수치형과문자열.ipynb', '스크린샷_11-1-2025_164036_.jpeg', '슬라이드2.JPG.jpg', '신부아버지 축사 예시.xlsx', '애국가(가사) (1).txt', '애국가(가사).txt', '예쁜_성혼_선언문(사회자_낭독용).hwp', '오사카 유니버셜 스튜디오 재팬 익스프레스 패스.pdf', '오사카 유니버셜 스튜디오 재팬 입장권.pdf', '완성본', '완성본 (1)', '완성본 (1).zip', '완성본.zip', '우리반 성적.png', '울산2서울_04221423.pdf', '울산2서울_05110723.pdf', '웹애플리케이션배포하기', '웹애플리케이션배포하기.zip', '응애로켓단_제출용ERD_20250222.png', '인사평가_상호평가지_2024.xlsx', '자바 개발 기초.pdf', '자바란.pdf', '재수정', '재수정.zip', '정밀보정', '정밀보정.zip', '제목 없음.png', '제목을 입력해주세요. - 미리캔버스.html', '제목을 입력해주세요. - 미리캔버스_files', '제목을 입력해주세요_-002.png', '제목을 입력해주세요_-003 (1).png', '제목을 입력해주세요_-003.png', '제목을 입력해주세요_-004.png', '제목을 입력해주세요_-005 (1).png', '제목을 입력해주세요_-005 (2).png', '제목을 입력해주세요_-005.png', '제목을 입력해주세요_-006 (1).png', '제목을 입력해주세요_-006.png', '제목을 입력해주세요_-012 (1).png', '제목을 입력해주세요_-012 (2).png', '제목을 입력해주세요_-012.png', '제목을 입력해주세요_-015.png', '제목을-입력해주세요_-001 (1).png', '제목을-입력해주세요_-001 (2).png', '제목을-입력해주세요_-001 (3).png', '제목을-입력해주세요_-001.png', '제목을-입력해주세요_-002 (1).png', '제목을-입력해주세요_-002 (2).png', '제목을-입력해주세요_-002.png', '제목을-입력해주세요_-003 (1).png', '제목을-입력해주세요_-003 (2).png', '제목을-입력해주세요_-003 (3).png', '제목을-입력해주세요_-003 (4).png', '제목을-입력해주세요_-003 (5).png', '제목을-입력해주세요_-003 (6).png', '제목을-입력해주세요_-003 (7).png', '제목을-입력해주세요_-003.png', '제목을-입력해주세요_-004 (1).png', '제목을-입력해주세요_-004 (2).png', '제목을-입력해주세요_-004 (3).png', '제목을-입력해주세요_-004.png', '제목을-입력해주세요_-005 (1).png', '제목을-입력해주세요_-005 (2).png', '제목을-입력해주세요_-005 (3).png', '제목을-입력해주세요_-005 (4).png', '제목을-입력해주세요_-005.png', '제목을-입력해주세요_-006 (1).png', '제목을-입력해주세요_-006 (2).png', '제목을-입력해주세요_-006 (3).png', '제목을-입력해주세요_-006.png', '제목을-입력해주세요_-007.png', '제목을-입력해주세요_-008 (1).png', '제목을-입력해주세요_-008 (2).png', '제목을-입력해주세요_-008 (3).png', '제목을-입력해주세요_-008 (5).png', '제목을-입력해주세요_-008.png', '제목을-입력해주세요_-009 (1).png', '제목을-입력해주세요_-009.png', '제목을-입력해주세요_-010 (1).png', '제목을-입력해주세요_-010 (2).png', '제목을-입력해주세요_-010 (3).png', '제목을-입력해주세요_-010 (4).png', '제목을-입력해주세요_-010 (5).png', '제목을-입력해주세요_-010 (6).png', '제목을-입력해주세요_-010 (7).png', '제목을-입력해주세요_-010 (8).png', '제목을-입력해주세요_-010 (9).png', '제목을-입력해주세요_-010.png', '제목을-입력해주세요_-011 (1).png', '제목을-입력해주세요_-011 (2).png', '제목을-입력해주세요_-011.png', '제목을-입력해주세요_-013 (1).png', '제목을-입력해주세요_-013.png', '제목을-입력해주세요_-014 (1).png', '제목을-입력해주세요_-014.png', '제목을-입력해주세요_-015.png', '제목을-입력해주세요_-016 (1).png', '제목을-입력해주세요_-016 (2).png', '제목을-입력해주세요_-016 (3).png', '제목을-입력해주세요_-016.png', '제목을-입력해주세요_-017.png', '제목을-입력해주세요_-018.png', '제목을-입력해주세요_-019.png', '제목을_입력해주세요_ (1)', '제목을_입력해주세요_ (1).zip', '제목을_입력해주세요_.zip', '조건문 종합문제(정답).html', '조건문.ipynb', '주례없는결혼식 식순지_-1.docx', '촬영 시안 (1).pdf', '촬영 시안.pdf', '촬영용 드레스 정리.pdf', '축의대접수.xlsx', '캡처.PNG', '캡처.PNG3434.PNG', '캡처.PNGfgfgfdg.PNG', '캡처2.PNG', '클룩_확정전.PNG', '테스트.png', '통영', '퇴직연금사전지정운용방법적용결과 안.htm', '특강자료_입사지원서 작성법_Java.pdf', '파스타디비나', '파일 업로드 설정.pdf', '파주 지도.png', '표지.png', '프레임샘플(1).png', '프레임샘플(2).png', '프레젠테이션 (1).pdf', '프레젠테이션.pdf', '픽쳐링.jpg', '핑크필름.jpg', '한글+(1) (1).jpg', '한글+(1).jpg']\n"
     ]
    }
   ],
   "source": [
    "# 파일 및 디렉토리 다루기\n",
    "import os\n",
    "print(os.listdir('C:\\\\Users\\\\ganam\\\\Downloads'))"
   ]
  },
  {
   "cell_type": "code",
   "execution_count": 20,
   "id": "33cae2e4-07e3-499c-91e8-c4e7cdaa5c92",
   "metadata": {},
   "outputs": [],
   "source": [
    "os.rename('꺼억.txt','C:\\\\Users\\\\ganam\\\\Downloads\\\\히히.txt')"
   ]
  },
  {
   "cell_type": "code",
   "execution_count": 22,
   "id": "1e4bbc8c-4464-476b-8f0f-4a1a2e188ae3",
   "metadata": {},
   "outputs": [
    {
     "name": "stdout",
     "output_type": "stream",
     "text": [
      "True\n"
     ]
    }
   ],
   "source": [
    "print(os.path.exists('C:\\\\Users\\\\ganam\\\\Downloads\\\\히히.txt'))"
   ]
  },
  {
   "cell_type": "code",
   "execution_count": 32,
   "id": "29c39ac8-25d3-41aa-b1dd-4f33224fb30e",
   "metadata": {},
   "outputs": [
    {
     "name": "stdout",
     "output_type": "stream",
     "text": [
      "C:\\Users\\ganam\\b.txt\n"
     ]
    }
   ],
   "source": [
    "print(os.path.abspath(\"b.txt\"))"
   ]
  },
  {
   "cell_type": "code",
   "execution_count": 34,
   "id": "29f71c05-4ca6-41de-a053-a216436ed739",
   "metadata": {},
   "outputs": [
    {
     "name": "stdout",
     "output_type": "stream",
     "text": [
      "C:\\Users\\ganam\n"
     ]
    }
   ],
   "source": [
    " # 현재 작업중인 디렉토리를 반환\n",
    "print(os.getcwd())"
   ]
  },
  {
   "cell_type": "code",
   "execution_count": 40,
   "id": "44bcc21e-af05-44e8-8838-9856024d7ae0",
   "metadata": {},
   "outputs": [],
   "source": [
    "# chdir() : 현재 작업중인 디렉토리 경로 변경\n",
    "os.chdir('C:\\\\Users\\\\ganam\\\\Desktop')\n",
    "f = open(\"a.txt\",'w')\n",
    "f.write(\"1234\")\n",
    "f.close()"
   ]
  },
  {
   "cell_type": "code",
   "execution_count": 42,
   "id": "08e51b4a-af96-464e-84cc-086348e41f16",
   "metadata": {},
   "outputs": [],
   "source": [
    "# mkdir() : 새로운 폴더 생성\n",
    "os.mkdir('C:\\\\Users\\\\ganam\\\\Desktop\\\\temp')"
   ]
  },
  {
   "cell_type": "code",
   "execution_count": null,
   "id": "81006708-b2f1-4ec6-a90f-2a29898626fd",
   "metadata": {},
   "outputs": [],
   "source": [
    "import sys\n",
    "f = open(\"C:\\\\Users\\\\ganam\\\\Downloads\\\\gugudan.txt\",\"w\")\n",
    "sys.stdout = f\n",
    "for i in range(2,9):\n",
    "    print(\"=== {}단 ===\".format(i))\n",
    "    for j in range(2,9):\n",
    "        print(\"{} X {} = {}\".format(i,j,i*j))\n",
    "f.close()"
   ]
  },
  {
   "cell_type": "code",
   "execution_count": 51,
   "id": "2b99d4d7-cfb8-41cd-aaee-a25333f85d43",
   "metadata": {},
   "outputs": [
    {
     "ename": "FileExistsError",
     "evalue": "[WinError 183] 파일이 이미 있으므로 만들 수 없습니다: 'C:\\\\Users\\\\ganam\\\\Desktop\\\\python'",
     "output_type": "error",
     "traceback": [
      "\u001b[1;31m---------------------------------------------------------------------------\u001b[0m",
      "\u001b[1;31mFileExistsError\u001b[0m                           Traceback (most recent call last)",
      "Cell \u001b[1;32mIn[51], line 2\u001b[0m\n\u001b[0;32m      1\u001b[0m \u001b[38;5;66;03m# 바탕화면에 python 폴더 생성 후\u001b[39;00m\n\u001b[1;32m----> 2\u001b[0m os\u001b[38;5;241m.\u001b[39mmkdir(\u001b[38;5;124m'\u001b[39m\u001b[38;5;124mC:\u001b[39m\u001b[38;5;130;01m\\\\\u001b[39;00m\u001b[38;5;124mUsers\u001b[39m\u001b[38;5;130;01m\\\\\u001b[39;00m\u001b[38;5;124mganam\u001b[39m\u001b[38;5;130;01m\\\\\u001b[39;00m\u001b[38;5;124mDesktop\u001b[39m\u001b[38;5;130;01m\\\\\u001b[39;00m\u001b[38;5;124mpython\u001b[39m\u001b[38;5;124m'\u001b[39m)\n\u001b[0;32m      3\u001b[0m f \u001b[38;5;241m=\u001b[39m \u001b[38;5;28mopen\u001b[39m(\u001b[38;5;124m'\u001b[39m\u001b[38;5;124mC:\u001b[39m\u001b[38;5;130;01m\\\\\u001b[39;00m\u001b[38;5;124mUsers\u001b[39m\u001b[38;5;130;01m\\\\\u001b[39;00m\u001b[38;5;124mganam\u001b[39m\u001b[38;5;130;01m\\\\\u001b[39;00m\u001b[38;5;124mDesktop\u001b[39m\u001b[38;5;130;01m\\\\\u001b[39;00m\u001b[38;5;124mpython\u001b[39m\u001b[38;5;130;01m\\\\\u001b[39;00m\u001b[38;5;124ma.txt\u001b[39m\u001b[38;5;124m'\u001b[39m,\u001b[38;5;124m'\u001b[39m\u001b[38;5;124mw\u001b[39m\u001b[38;5;124m'\u001b[39m)\n\u001b[0;32m      4\u001b[0m sys\u001b[38;5;241m.\u001b[39mstdout \u001b[38;5;241m=\u001b[39m f\n",
      "\u001b[1;31mFileExistsError\u001b[0m: [WinError 183] 파일이 이미 있으므로 만들 수 없습니다: 'C:\\\\Users\\\\ganam\\\\Desktop\\\\python'"
     ]
    }
   ],
   "source": [
    "# 바탕화면에 python 폴더 생성 후\n",
    "os.mkdir('C:\\\\Users\\\\ganam\\\\Desktop\\\\python')\n",
    "f = open('C:\\\\Users\\\\ganam\\\\Desktop\\\\python\\\\a.txt','w')\n",
    "sys.stdout = f\n",
    "print('''안녕하세요. 학습자님!\n",
    "이번 회차에서는\n",
    "파이썬의 파일 입출력에 대해서\n",
    "학습했습니다. ''')\n",
    "f.close()"
   ]
  },
  {
   "cell_type": "code",
   "execution_count": null,
   "id": "fe4e14e3-2b81-489e-9857-39a25515bdc2",
   "metadata": {},
   "outputs": [],
   "source": []
  }
 ],
 "metadata": {
  "kernelspec": {
   "display_name": "Python [conda env:base] *",
   "language": "python",
   "name": "conda-base-py"
  },
  "language_info": {
   "codemirror_mode": {
    "name": "ipython",
    "version": 3
   },
   "file_extension": ".py",
   "mimetype": "text/x-python",
   "name": "python",
   "nbconvert_exporter": "python",
   "pygments_lexer": "ipython3",
   "version": "3.12.7"
  }
 },
 "nbformat": 4,
 "nbformat_minor": 5
}
