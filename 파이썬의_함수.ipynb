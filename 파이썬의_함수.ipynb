{
 "cells": [
  {
   "cell_type": "code",
   "execution_count": 5,
   "id": "60f0aa4f-a48a-4af3-b831-c2f72e69ad14",
   "metadata": {},
   "outputs": [
    {
     "name": "stdout",
     "output_type": "stream",
     "text": [
      "Help on function Hello in module __main__:\n",
      "\n",
      "Hello()\n",
      "    이것은 함수 예제입니다.\n",
      "\n"
     ]
    }
   ],
   "source": [
    "# 함수 : 입력 값으로 어떤 일을 수행한 뒤 결과 값을 출력하는 것\n",
    "# 중복된 코드를 줄이고, 코드의 가독성, 유지보수 향상 시킬 수 있음 \n",
    "# 함수의 정의\n",
    "def sayHello():\n",
    "    print(\"안녕하세요\")\n",
    "    print(\"파이썬의 함수입니다.\")\n",
    "# 주의사항\n",
    "# 1. 함수의 이름 또한 식별자 규칙 지켜야 함\n",
    "# 특수문자, 공백, 대소문자 구분, 예약어 사용금지 등\n",
    "# 2. 제어문과 마찬가지로 콜론과 들여쓰기 꼭 지켜줘야 함\n",
    "# 3. 아무행동도 하지 않는 함순ㄴ pass 키워드 적어줘야함\n",
    "def func():\n",
    "    pass\n",
    "# 함수의 설명 적어둘 수 있음\n",
    "def Hello():\n",
    "    \"이것은 함수 예제입니다.\"\n",
    "    print(\"안녕하세요\")\n",
    "    print(\"파이썬의 함수입니다.\")\n",
    "help(Hello)"
   ]
  },
  {
   "cell_type": "code",
   "execution_count": 7,
   "id": "ae5329cb-dacf-440f-b849-f10197845f23",
   "metadata": {},
   "outputs": [
    {
     "name": "stdout",
     "output_type": "stream",
     "text": [
      "Help on built-in function len in module builtins:\n",
      "\n",
      "len(obj, /)\n",
      "    Return the number of items in a container.\n",
      "\n"
     ]
    }
   ],
   "source": [
    "help(len)"
   ]
  },
  {
   "cell_type": "code",
   "execution_count": 9,
   "id": "aa26bd1c-f606-4e1d-9a35-f8666b3d1e45",
   "metadata": {},
   "outputs": [
    {
     "name": "stdout",
     "output_type": "stream",
     "text": [
      "안녕하세요\n",
      "파이썬의 함수입니다.\n"
     ]
    }
   ],
   "source": [
    "# 함수의 호출\n",
    "Hello()"
   ]
  },
  {
   "cell_type": "code",
   "execution_count": 11,
   "id": "d6128808-16d3-4108-910a-562b015669a8",
   "metadata": {},
   "outputs": [
    {
     "name": "stdout",
     "output_type": "stream",
     "text": [
      "3\n"
     ]
    }
   ],
   "source": [
    "# 매개변수가 있따면, 해당 인자를 호출할 때 적어줘야함\n",
    "def add(a,b):\n",
    "    print(a+b)\n",
    "add(1,2)"
   ]
  },
  {
   "cell_type": "code",
   "execution_count": 19,
   "id": "d147dec5-5235-4096-b9b1-e68aaf9bcf6a",
   "metadata": {},
   "outputs": [
    {
     "name": "stdout",
     "output_type": "stream",
     "text": [
      "3\n",
      "None\n",
      "3\n"
     ]
    }
   ],
   "source": [
    "# 함수의 반환\n",
    "def add(a,b):\n",
    "    print(a+b)\n",
    "x = add(1,2)\n",
    "print(x)  \n",
    "\n",
    "def add2(a,b):\n",
    "    return a+b\n",
    "y = add2(1,2)\n",
    "print(y)"
   ]
  },
  {
   "cell_type": "code",
   "execution_count": 21,
   "id": "b47fc278-c7e5-41c1-b46e-02716dbaeb02",
   "metadata": {},
   "outputs": [
    {
     "name": "stdout",
     "output_type": "stream",
     "text": [
      "(1, 2)\n",
      "<class 'tuple'>\n"
     ]
    }
   ],
   "source": [
    "# 두 개 이상의 값을 반환하면, 결과 값은 튜플로 반환\n",
    "# 매개변수의 자료형은 동적으로 결정되며, \n",
    "# 호출된 순간 해당 인자에 전달되는 객체에 따라 자료형이 결정됨\n",
    "def func(a,b):\n",
    "    return a,b\n",
    "x = func(1,2)\n",
    "print(x)\n",
    "print(type(x))"
   ]
  },
  {
   "cell_type": "code",
   "execution_count": 63,
   "id": "bb58ce2d-f1ae-4310-bdf8-a6c08887cfc1",
   "metadata": {},
   "outputs": [
    {
     "name": "stdout",
     "output_type": "stream",
     "text": [
      "('문자', ['리스트', 1])\n",
      "<class 'tuple'>\n",
      "문자\n",
      "1\n"
     ]
    }
   ],
   "source": [
    "def func(a,b):\n",
    "    return a,b\n",
    "y = func(\"문자\",['리스트',1])\n",
    "print(y)\n",
    "print(type(y))\n",
    "print(y[0])\n",
    "print(y[1][1])"
   ]
  },
  {
   "cell_type": "code",
   "execution_count": 53,
   "id": "c9ef963d-1435-4506-9c81-3b5ee25830d4",
   "metadata": {},
   "outputs": [
    {
     "data": {
      "text/plain": [
       "1"
      ]
     },
     "execution_count": 53,
     "metadata": {},
     "output_type": "execute_result"
    }
   ],
   "source": [
    "def func(a,b=1):\n",
    "    return 1\n",
    "func(1,2)\n",
    "func(1)"
   ]
  },
  {
   "cell_type": "code",
   "execution_count": 71,
   "id": "702d08b9-2545-42a0-9eaf-94cb1dc21a25",
   "metadata": {},
   "outputs": [
    {
     "name": "stdout",
     "output_type": "stream",
     "text": [
      "10\n",
      "20\n",
      "10\n"
     ]
    }
   ],
   "source": [
    "# 지역변수 : 함수 내에서 만들어진 변수\n",
    "def func():\n",
    "    a = 10\n",
    "    print(a)\n",
    "a = 20\n",
    "func()\n",
    "print(a)\n",
    "# 전역변수 : 함수 밖에서 만들어진 변수\n",
    "a = 10 \n",
    "def func():\n",
    "    print(a)\n",
    "func()\n"
   ]
  },
  {
   "cell_type": "code",
   "execution_count": 75,
   "id": "27cd67b8-d849-4e38-abf1-8a52c6f20c71",
   "metadata": {},
   "outputs": [
    {
     "name": "stdout",
     "output_type": "stream",
     "text": [
      "10\n",
      "20\n",
      "20\n"
     ]
    }
   ],
   "source": [
    "# global : 함수 안에서 전역변수 활용 가능\n",
    "a = 10\n",
    "print(a)\n",
    "def func():\n",
    "    global a\n",
    "    a = 20\n",
    "    print(a)\n",
    "func()\n",
    "print(a)"
   ]
  },
  {
   "cell_type": "code",
   "execution_count": 77,
   "id": "0e7af8b1-7d8e-44cc-a351-9fa143e6a1de",
   "metadata": {},
   "outputs": [
    {
     "name": "stdout",
     "output_type": "stream",
     "text": [
      "10\n",
      "20\n",
      "10\n"
     ]
    }
   ],
   "source": [
    "# 함수에서의 값 전달\n",
    "# 함수의 매개변수로 전달 받은 값을 함수 내에서 변경했을 때\n",
    "# 인자로 전달된 외부 변수의 값은 변경되지 않음\n",
    "a = 10\n",
    "print(a)\n",
    "def func(b):\n",
    "    b = 20\n",
    "    print(b)\n",
    "func(a)\n",
    "print(a)"
   ]
  },
  {
   "cell_type": "code",
   "execution_count": 79,
   "id": "0400cddb-906b-4fff-895d-075d1895b83c",
   "metadata": {},
   "outputs": [
    {
     "name": "stdout",
     "output_type": "stream",
     "text": [
      "[4, 5, 6]\n"
     ]
    }
   ],
   "source": [
    "# 전달 받은 객체 자체의 변경이 아닌 객체의 요소를 변경하는 것은 가능\n",
    "def func(b):\n",
    "    b = [1,2,3]\n",
    "a = [4,5,6]\n",
    "func(a)\n",
    "print(a)"
   ]
  },
  {
   "cell_type": "code",
   "execution_count": 81,
   "id": "6f7a2870-1e75-4414-93fc-d7a6a4354ca0",
   "metadata": {},
   "outputs": [
    {
     "name": "stdout",
     "output_type": "stream",
     "text": [
      "[4, 10, 6]\n"
     ]
    }
   ],
   "source": [
    "def func(b):\n",
    "    b[1]=10\n",
    "a = [4,5,6]\n",
    "func(a)\n",
    "print(a)"
   ]
  },
  {
   "cell_type": "code",
   "execution_count": 87,
   "id": "63b84781-6b3a-4499-87ea-9c6976327cfa",
   "metadata": {},
   "outputs": [
    {
     "name": "stdout",
     "output_type": "stream",
     "text": [
      "20\n"
     ]
    }
   ],
   "source": [
    "# 함수의 매개변수\n",
    "# 매개변수에 기본값을 설정해 값이 없어도 오류가 나지 않음\n",
    "def func(a,b=10):\n",
    "    print(a+b)\n",
    "func(10)"
   ]
  },
  {
   "cell_type": "code",
   "execution_count": 89,
   "id": "39223201-3267-4bc3-b8e3-0d187989ea93",
   "metadata": {},
   "outputs": [
    {
     "ename": "SyntaxError",
     "evalue": "parameter without a default follows parameter with a default (3294672493.py, line 2)",
     "output_type": "error",
     "traceback": [
      "\u001b[1;36m  Cell \u001b[1;32mIn[89], line 2\u001b[1;36m\u001b[0m\n\u001b[1;33m    def func(a=10,b):\u001b[0m\n\u001b[1;37m                  ^\u001b[0m\n\u001b[1;31mSyntaxError\u001b[0m\u001b[1;31m:\u001b[0m parameter without a default follows parameter with a default\n"
     ]
    }
   ],
   "source": [
    "# 함수 생성 및 호출시 기본값이 있는 매개변수가 일반 매개변수보다 앞에 올 수 없음\n",
    "def func(a=10,b):\n",
    "    print(a+b)\n",
    "func(10)"
   ]
  },
  {
   "cell_type": "code",
   "execution_count": 93,
   "id": "7062c3ee-65df-4573-8fec-c9197aad35a3",
   "metadata": {},
   "outputs": [
    {
     "name": "stdout",
     "output_type": "stream",
     "text": [
      "1\n",
      "1\n"
     ]
    }
   ],
   "source": [
    "# 키워드 매개변수 : 함수를 호출할 때 인자는 순서대로 전달됨\n",
    "def func(a,b,c,d,e):\n",
    "    print(a+b-c-d+e)\n",
    "func(a=1,b=2,c=3,d=4,e=5)\n",
    "func(e=5,d=4,c=3,b=2,a=1)"
   ]
  },
  {
   "cell_type": "code",
   "execution_count": 101,
   "id": "cead9d88-4b32-4818-8dd3-1ab7c80ae1bb",
   "metadata": {},
   "outputs": [
    {
     "name": "stdout",
     "output_type": "stream",
     "text": [
      "1 ()\n",
      "2 (3,)\n",
      "2 (3, 4, 5, 6)\n"
     ]
    }
   ],
   "source": [
    "# 가변 매개변수 : 일반 매개변수 다음에 옴\n",
    "# * 표시를 사용해서 가변 인자를 전달할 수 있음\n",
    "def func(a,*arg):\n",
    "    print(a,arg)\n",
    "func(1)\n",
    "func(2,3)\n",
    "func(2,3,4,5,6,)"
   ]
  },
  {
   "cell_type": "code",
   "execution_count": 109,
   "id": "aad1b76f-586f-4286-844a-d2cebd10aaec",
   "metadata": {},
   "outputs": [
    {
     "data": {
      "text/plain": [
       "10.147058823529411"
      ]
     },
     "execution_count": 109,
     "metadata": {},
     "output_type": "execute_result"
    }
   ],
   "source": [
    "# 1. 매개변수 활용\n",
    "# 매개변수는 3개(숫자1, 숫자2,연산)\n",
    "# 연산의 기본 매개변수는 덧셈\n",
    "# 0:덧셈, 1:뺄셈, 2:곱셈, 3:나눗셈\n",
    "def cal(a,b,c=0):\n",
    "    if(c==0):\n",
    "        return(a+b)\n",
    "    elif(c==1):\n",
    "        return(a-b)\n",
    "    elif(c==2):\n",
    "        return(a*b)\n",
    "    elif(c==3):\n",
    "        return(a/b)\n",
    "    else:\n",
    "        return None\n",
    "cal(345,34,3)"
   ]
  },
  {
   "cell_type": "code",
   "execution_count": 123,
   "id": "5715d2ae-ffef-42a1-b770-5b8a914b54d1",
   "metadata": {},
   "outputs": [
    {
     "name": "stdout",
     "output_type": "stream",
     "text": [
      "=== 4단 ===\n",
      "4 X 1 = 4\n",
      "4 X 2 = 8\n",
      "4 X 3 = 12\n",
      "4 X 4 = 16\n",
      "4 X 5 = 20\n",
      "4 X 6 = 24\n",
      "4 X 7 = 28\n",
      "4 X 8 = 32\n",
      "4 X 9 = 36\n",
      "=== 5단 ===\n",
      "5 X 1 = 5\n",
      "5 X 2 = 10\n",
      "5 X 3 = 15\n",
      "5 X 4 = 20\n",
      "5 X 5 = 25\n",
      "5 X 6 = 30\n",
      "5 X 7 = 35\n",
      "5 X 8 = 40\n",
      "5 X 9 = 45\n"
     ]
    }
   ],
   "source": [
    "# 2. 가변 매개변수 활용\n",
    "# 입력받은 단을 모두 출력하는 구구단 함수로 변경\n",
    "def gugu(*arg): \n",
    "    for i in arg:\n",
    "        print(\"=== {}단 ===\".format(i))\n",
    "        for j in range(1,10):\n",
    "            print(\"{} X {} = {}\".format(i,j,i*j))\n",
    "gugu(4,5)"
   ]
  },
  {
   "cell_type": "code",
   "execution_count": null,
   "id": "d8d4fbb3-6d22-43e6-a22e-c84c3b18b626",
   "metadata": {},
   "outputs": [],
   "source": []
  }
 ],
 "metadata": {
  "kernelspec": {
   "display_name": "Python [conda env:base] *",
   "language": "python",
   "name": "conda-base-py"
  },
  "language_info": {
   "codemirror_mode": {
    "name": "ipython",
    "version": 3
   },
   "file_extension": ".py",
   "mimetype": "text/x-python",
   "name": "python",
   "nbconvert_exporter": "python",
   "pygments_lexer": "ipython3",
   "version": "3.12.7"
  }
 },
 "nbformat": 4,
 "nbformat_minor": 5
}
